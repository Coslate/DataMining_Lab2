{
 "cells": [
  {
   "cell_type": "code",
   "execution_count": 1,
   "metadata": {},
   "outputs": [],
   "source": [
    "import numpy as np\n",
    "import pandas as pd\n",
    "import matplotlib.pyplot as plt\n",
    "import pprint\n",
    "import time\n",
    "from sklearn.cluster import KMeans\n",
    "from pylab import rcParams\n",
    "\n",
    "\n",
    "\n",
    "%matplotlib inline\n",
    "rcParams['figure.figsize'] = 20, 15\n",
    "rcParams['lines.linewidth'] = 2"
   ]
  },
  {
   "cell_type": "markdown",
   "metadata": {},
   "source": [
    "# Additional Materials"
   ]
  },
  {
   "cell_type": "markdown",
   "metadata": {},
   "source": [
    "## Some Python Syntax"
   ]
  },
  {
   "cell_type": "markdown",
   "metadata": {},
   "source": [
    "### Lambda function\n",
    "- 限制較多的 function definition"
   ]
  },
  {
   "cell_type": "code",
   "execution_count": 2,
   "metadata": {},
   "outputs": [
    {
     "data": {
      "text/plain": [
       "2"
      ]
     },
     "execution_count": 2,
     "metadata": {},
     "output_type": "execute_result"
    }
   ],
   "source": [
    "f = lambda x: x + 1\n",
    "f(1)\n"
   ]
  },
  {
   "cell_type": "markdown",
   "metadata": {},
   "source": [
    "等同於"
   ]
  },
  {
   "cell_type": "code",
   "execution_count": 3,
   "metadata": {},
   "outputs": [
    {
     "data": {
      "text/plain": [
       "2"
      ]
     },
     "execution_count": 3,
     "metadata": {},
     "output_type": "execute_result"
    }
   ],
   "source": [
    "def f(x):\n",
    "    return x + 1\n",
    "f(1)"
   ]
  },
  {
   "cell_type": "markdown",
   "metadata": {},
   "source": [
    "### Unpack"
   ]
  },
  {
   "cell_type": "code",
   "execution_count": 4,
   "metadata": {},
   "outputs": [
    {
     "name": "stdout",
     "output_type": "stream",
     "text": [
      "10\n",
      "10\n"
     ]
    }
   ],
   "source": [
    "def f(a, b, c, d):\n",
    "    return a + b + c + d\n",
    "print(f(1, 2, 3, 4))\n",
    "\n",
    "l = [1, 2, 3, 4]\n",
    "print(f(*l))\n",
    "# f(l) -> TypeError: f() missing 3 required positional arguments: 'b', 'c', and 'd'"
   ]
  },
  {
   "cell_type": "markdown",
   "metadata": {},
   "source": [
    "### Zip"
   ]
  },
  {
   "cell_type": "code",
   "execution_count": 5,
   "metadata": {},
   "outputs": [
    {
     "name": "stdout",
     "output_type": "stream",
     "text": [
      "(1, 5, 9)\n",
      "(2, 6, 10)\n",
      "(3, 7, 11)\n",
      "(4, 8, 12)\n"
     ]
    }
   ],
   "source": [
    "z = list(zip([1, 2, 3, 4], [5, 6, 7, 8], [9, 10, 11, 12]))\n",
    "for i in z:\n",
    "    print(i)"
   ]
  },
  {
   "cell_type": "code",
   "execution_count": 6,
   "metadata": {},
   "outputs": [
    {
     "name": "stdout",
     "output_type": "stream",
     "text": [
      "[(1, 5, 9), (2, 6, 10), (3, 7, 11), (4, 8, 12)]\n"
     ]
    }
   ],
   "source": [
    "l2d = [[1, 2, 3, 4], [5, 6, 7, 8], [9, 10, 11, 12]]\n",
    "l2d_T = list(zip(*l2d))\n",
    "print(l2d_T)"
   ]
  },
  {
   "cell_type": "markdown",
   "metadata": {},
   "source": [
    "## IPython\n",
    "- Enhanced Python Interpreter\n",
    "- Provide Useful Functions\n",
    "- Timing, AutoComplete, System shell commands ...etc"
   ]
  },
  {
   "cell_type": "markdown",
   "metadata": {},
   "source": [
    "### 計時"
   ]
  },
  {
   "cell_type": "code",
   "execution_count": 7,
   "metadata": {},
   "outputs": [
    {
     "name": "stdout",
     "output_type": "stream",
     "text": [
      "271 µs ± 2.93 µs per loop (mean ± std. dev. of 7 runs, 1000 loops each)\n",
      "22.9 µs ± 330 ns per loop (mean ± std. dev. of 7 runs, 10000 loops each)\n"
     ]
    }
   ],
   "source": [
    "%timeit [0 for i in range(10000)]\n",
    "%timeit [0] * 10000"
   ]
  },
  {
   "cell_type": "code",
   "execution_count": 8,
   "metadata": {},
   "outputs": [
    {
     "name": "stdout",
     "output_type": "stream",
     "text": [
      "25.1 ns ± 0.262 ns per loop (mean ± std. dev. of 7 runs, 10000000 loops each)\n"
     ]
    }
   ],
   "source": [
    "%%timeit \n",
    "a, b = 1, 2\n",
    "a, b = b, a"
   ]
  },
  {
   "cell_type": "code",
   "execution_count": 9,
   "metadata": {},
   "outputs": [
    {
     "name": "stdout",
     "output_type": "stream",
     "text": [
      "28.4 ns ± 0.278 ns per loop (mean ± std. dev. of 7 runs, 10000000 loops each)\n"
     ]
    }
   ],
   "source": [
    "%%timeit\n",
    "a, b = 1, 2\n",
    "c = a\n",
    "b = c\n",
    "a = b"
   ]
  },
  {
   "cell_type": "markdown",
   "metadata": {},
   "source": [
    "### 列出變數"
   ]
  },
  {
   "cell_type": "code",
   "execution_count": 10,
   "metadata": {},
   "outputs": [
    {
     "name": "stdout",
     "output_type": "stream",
     "text": [
      "Variable   Type        Data/Info\n",
      "--------------------------------\n",
      "KMeans     type        <class 'sklearn.cluster.k_means_.KMeans'>\n",
      "a          int         1\n",
      "b          int         2\n",
      "f          function    <function f at 0x7fba92cb4620>\n",
      "i          tuple       n=3\n",
      "l          list        n=4\n",
      "l2d        list        n=3\n",
      "l2d_T      list        n=4\n",
      "np         module      <module 'numpy' from '/us<...>kages/numpy/__init__.py'>\n",
      "pd         module      <module 'pandas' from '/u<...>ages/pandas/__init__.py'>\n",
      "plt        module      <module 'matplotlib.pyplo<...>es/matplotlib/pyplot.py'>\n",
      "pprint     module      <module 'pprint' from '/u<...>lib/python3.5/pprint.py'>\n",
      "rcParams   RcParams    _internal.classic_mode: F<...>: 0.6\\nytick.right: False\n",
      "time       module      <module 'time' (built-in)>\n",
      "z          list        n=4\n"
     ]
    }
   ],
   "source": [
    "a, b = 1, 2\n",
    "%whos"
   ]
  },
  {
   "cell_type": "code",
   "execution_count": 11,
   "metadata": {},
   "outputs": [
    {
     "name": "stdout",
     "output_type": "stream",
     "text": [
      "Variable   Type    Data/Info\n",
      "----------------------------\n",
      "a          int     1\n",
      "b          int     2\n"
     ]
    }
   ],
   "source": [
    "%whos int"
   ]
  },
  {
   "cell_type": "markdown",
   "metadata": {},
   "source": [
    "### 直接執行 shell script"
   ]
  },
  {
   "cell_type": "code",
   "execution_count": 12,
   "metadata": {},
   "outputs": [
    {
     "name": "stdout",
     "output_type": "stream",
     "text": [
      "for i in range(5):\r\n",
      "    print(i)"
     ]
    }
   ],
   "source": [
    "!cat demo.py"
   ]
  },
  {
   "cell_type": "markdown",
   "metadata": {},
   "source": [
    "### 執行 Python 檔"
   ]
  },
  {
   "cell_type": "code",
   "execution_count": 13,
   "metadata": {},
   "outputs": [
    {
     "name": "stdout",
     "output_type": "stream",
     "text": [
      "0\n",
      "1\n",
      "2\n",
      "3\n",
      "4\n"
     ]
    }
   ],
   "source": [
    "%run demo.py"
   ]
  },
  {
   "cell_type": "code",
   "execution_count": 14,
   "metadata": {},
   "outputs": [
    {
     "name": "stdout",
     "output_type": "stream",
     "text": [
      "4\n"
     ]
    }
   ],
   "source": [
    "print(i)"
   ]
  },
  {
   "cell_type": "markdown",
   "metadata": {},
   "source": [
    "##  Jupyter\n",
    "- A GUI for IPython (Ruby, Julia ...etc)\n",
    "- Press h to show/change the shortcuts\n",
    "- Two Mode: Command Mode (ESC) / Edit Mode (Enter)\n",
    "- Execute the cells\n",
    "    - Ctrl-Enter: Run the cells\n",
    "    - Shift-Enter: Run thecells, select below\n",
    "    - Alt-Enter: Run thecells, insert below.\n",
    "- Command Mode:\n",
    "\t- Delete Cell: dd\n",
    "\t- Copy Cell: c\n",
    "\t- Clip Cell: x\n",
    "\t- Paste Cell: v\n",
    "\t- Undo Delete Cell: z\n",
    "\t- Move Up & Down: j/Down & k/Up\n",
    "\t- Append Cell Above/Below: a/b\n",
    "\t- Interrupt Kernel: ii\n",
    "\t- ...etc"
   ]
  },
  {
   "cell_type": "markdown",
   "metadata": {},
   "source": [
    "##  Pandasql\n",
    "- Use SQL in pandas."
   ]
  },
  {
   "cell_type": "code",
   "execution_count": 15,
   "metadata": {},
   "outputs": [],
   "source": [
    "import pandasql as pdsql\n",
    "import pandas as pd"
   ]
  },
  {
   "cell_type": "code",
   "execution_count": 16,
   "metadata": {},
   "outputs": [
    {
     "data": {
      "text/html": [
       "<div>\n",
       "<style scoped>\n",
       "    .dataframe tbody tr th:only-of-type {\n",
       "        vertical-align: middle;\n",
       "    }\n",
       "\n",
       "    .dataframe tbody tr th {\n",
       "        vertical-align: top;\n",
       "    }\n",
       "\n",
       "    .dataframe thead th {\n",
       "        text-align: right;\n",
       "    }\n",
       "</style>\n",
       "<table border=\"1\" class=\"dataframe\">\n",
       "  <thead>\n",
       "    <tr style=\"text-align: right;\">\n",
       "      <th></th>\n",
       "      <th>Age</th>\n",
       "      <th>avg(Height)</th>\n",
       "    </tr>\n",
       "  </thead>\n",
       "  <tbody>\n",
       "    <tr>\n",
       "      <th>0</th>\n",
       "      <td>18</td>\n",
       "      <td>175.0</td>\n",
       "    </tr>\n",
       "    <tr>\n",
       "      <th>1</th>\n",
       "      <td>19</td>\n",
       "      <td>180.0</td>\n",
       "    </tr>\n",
       "  </tbody>\n",
       "</table>\n",
       "</div>"
      ],
      "text/plain": [
       "   Age  avg(Height)\n",
       "0   18        175.0\n",
       "1   19        180.0"
      ]
     },
     "execution_count": 16,
     "metadata": {},
     "output_type": "execute_result"
    }
   ],
   "source": [
    "pysql = lambda x: pdsql.sqldf(x, globals())\n",
    "\n",
    "def pysql(x):\n",
    "    return pdsql.sqldf(x, globals())\n",
    "df = pd.DataFrame([['A', 18, 170], ['B', 18, 180], ['C', 19, 175], ['D', 19, 185]], columns=[\"Name\", \"Age\", \"Height\"])\n",
    "\n",
    "df1 = pysql(\"select Age, avg(Height) from df group by Age\")\n",
    "df1.head()"
   ]
  },
  {
   "cell_type": "markdown",
   "metadata": {},
   "source": [
    "# Data 1 - PM2.5"
   ]
  },
  {
   "cell_type": "code",
   "execution_count": 17,
   "metadata": {},
   "outputs": [],
   "source": [
    "data = pd.read_csv(\"PM2.5.csv\")"
   ]
  },
  {
   "cell_type": "code",
   "execution_count": 18,
   "metadata": {},
   "outputs": [
    {
     "data": {
      "text/html": [
       "<div>\n",
       "<style scoped>\n",
       "    .dataframe tbody tr th:only-of-type {\n",
       "        vertical-align: middle;\n",
       "    }\n",
       "\n",
       "    .dataframe tbody tr th {\n",
       "        vertical-align: top;\n",
       "    }\n",
       "\n",
       "    .dataframe thead th {\n",
       "        text-align: right;\n",
       "    }\n",
       "</style>\n",
       "<table border=\"1\" class=\"dataframe\">\n",
       "  <thead>\n",
       "    <tr style=\"text-align: right;\">\n",
       "      <th></th>\n",
       "      <th>record_id</th>\n",
       "      <th>device_id</th>\n",
       "      <th>DateTime</th>\n",
       "      <th>PM25</th>\n",
       "      <th>PM10</th>\n",
       "      <th>PM1</th>\n",
       "      <th>Temperature</th>\n",
       "      <th>Humidity</th>\n",
       "      <th>lat</th>\n",
       "      <th>lon</th>\n",
       "    </tr>\n",
       "  </thead>\n",
       "  <tbody>\n",
       "    <tr>\n",
       "      <th>0</th>\n",
       "      <td>12773</td>\n",
       "      <td>28C2DDDD415C</td>\n",
       "      <td>2017-03-01 08:30:00</td>\n",
       "      <td>43</td>\n",
       "      <td>0</td>\n",
       "      <td>0</td>\n",
       "      <td>19.61</td>\n",
       "      <td>96</td>\n",
       "      <td>23.741</td>\n",
       "      <td>120.755</td>\n",
       "    </tr>\n",
       "    <tr>\n",
       "      <th>1</th>\n",
       "      <td>12774</td>\n",
       "      <td>28C2DDDD415C</td>\n",
       "      <td>2017-03-01 09:00:00</td>\n",
       "      <td>41</td>\n",
       "      <td>0</td>\n",
       "      <td>0</td>\n",
       "      <td>19.81</td>\n",
       "      <td>94</td>\n",
       "      <td>23.741</td>\n",
       "      <td>120.755</td>\n",
       "    </tr>\n",
       "    <tr>\n",
       "      <th>2</th>\n",
       "      <td>12775</td>\n",
       "      <td>28C2DDDD415C</td>\n",
       "      <td>2017-03-01 09:30:00</td>\n",
       "      <td>41</td>\n",
       "      <td>0</td>\n",
       "      <td>0</td>\n",
       "      <td>19.73</td>\n",
       "      <td>93</td>\n",
       "      <td>23.741</td>\n",
       "      <td>120.755</td>\n",
       "    </tr>\n",
       "    <tr>\n",
       "      <th>3</th>\n",
       "      <td>12776</td>\n",
       "      <td>28C2DDDD415C</td>\n",
       "      <td>2017-03-01 10:00:00</td>\n",
       "      <td>47</td>\n",
       "      <td>0</td>\n",
       "      <td>0</td>\n",
       "      <td>19.17</td>\n",
       "      <td>92</td>\n",
       "      <td>23.741</td>\n",
       "      <td>120.755</td>\n",
       "    </tr>\n",
       "    <tr>\n",
       "      <th>4</th>\n",
       "      <td>12777</td>\n",
       "      <td>28C2DDDD415C</td>\n",
       "      <td>2017-03-01 10:30:00</td>\n",
       "      <td>50</td>\n",
       "      <td>0</td>\n",
       "      <td>0</td>\n",
       "      <td>19.90</td>\n",
       "      <td>91</td>\n",
       "      <td>23.741</td>\n",
       "      <td>120.755</td>\n",
       "    </tr>\n",
       "    <tr>\n",
       "      <th>5</th>\n",
       "      <td>12778</td>\n",
       "      <td>28C2DDDD415C</td>\n",
       "      <td>2017-03-01 11:00:00</td>\n",
       "      <td>44</td>\n",
       "      <td>0</td>\n",
       "      <td>0</td>\n",
       "      <td>20.09</td>\n",
       "      <td>90</td>\n",
       "      <td>23.741</td>\n",
       "      <td>120.755</td>\n",
       "    </tr>\n",
       "    <tr>\n",
       "      <th>6</th>\n",
       "      <td>12779</td>\n",
       "      <td>28C2DDDD415C</td>\n",
       "      <td>2017-03-01 11:30:00</td>\n",
       "      <td>39</td>\n",
       "      <td>0</td>\n",
       "      <td>0</td>\n",
       "      <td>20.82</td>\n",
       "      <td>90</td>\n",
       "      <td>23.741</td>\n",
       "      <td>120.755</td>\n",
       "    </tr>\n",
       "    <tr>\n",
       "      <th>7</th>\n",
       "      <td>12780</td>\n",
       "      <td>28C2DDDD415C</td>\n",
       "      <td>2017-03-01 12:00:00</td>\n",
       "      <td>48</td>\n",
       "      <td>0</td>\n",
       "      <td>0</td>\n",
       "      <td>21.23</td>\n",
       "      <td>87</td>\n",
       "      <td>23.741</td>\n",
       "      <td>120.755</td>\n",
       "    </tr>\n",
       "    <tr>\n",
       "      <th>8</th>\n",
       "      <td>12781</td>\n",
       "      <td>28C2DDDD415C</td>\n",
       "      <td>2017-03-01 12:30:00</td>\n",
       "      <td>45</td>\n",
       "      <td>0</td>\n",
       "      <td>0</td>\n",
       "      <td>21.35</td>\n",
       "      <td>86</td>\n",
       "      <td>23.741</td>\n",
       "      <td>120.755</td>\n",
       "    </tr>\n",
       "    <tr>\n",
       "      <th>9</th>\n",
       "      <td>12782</td>\n",
       "      <td>28C2DDDD415C</td>\n",
       "      <td>2017-03-01 13:00:00</td>\n",
       "      <td>48</td>\n",
       "      <td>0</td>\n",
       "      <td>0</td>\n",
       "      <td>21.62</td>\n",
       "      <td>85</td>\n",
       "      <td>23.741</td>\n",
       "      <td>120.755</td>\n",
       "    </tr>\n",
       "  </tbody>\n",
       "</table>\n",
       "</div>"
      ],
      "text/plain": [
       "   record_id     device_id             DateTime  PM25  PM10  PM1  Temperature  \\\n",
       "0      12773  28C2DDDD415C  2017-03-01 08:30:00    43     0    0        19.61   \n",
       "1      12774  28C2DDDD415C  2017-03-01 09:00:00    41     0    0        19.81   \n",
       "2      12775  28C2DDDD415C  2017-03-01 09:30:00    41     0    0        19.73   \n",
       "3      12776  28C2DDDD415C  2017-03-01 10:00:00    47     0    0        19.17   \n",
       "4      12777  28C2DDDD415C  2017-03-01 10:30:00    50     0    0        19.90   \n",
       "5      12778  28C2DDDD415C  2017-03-01 11:00:00    44     0    0        20.09   \n",
       "6      12779  28C2DDDD415C  2017-03-01 11:30:00    39     0    0        20.82   \n",
       "7      12780  28C2DDDD415C  2017-03-01 12:00:00    48     0    0        21.23   \n",
       "8      12781  28C2DDDD415C  2017-03-01 12:30:00    45     0    0        21.35   \n",
       "9      12782  28C2DDDD415C  2017-03-01 13:00:00    48     0    0        21.62   \n",
       "\n",
       "   Humidity     lat      lon  \n",
       "0        96  23.741  120.755  \n",
       "1        94  23.741  120.755  \n",
       "2        93  23.741  120.755  \n",
       "3        92  23.741  120.755  \n",
       "4        91  23.741  120.755  \n",
       "5        90  23.741  120.755  \n",
       "6        90  23.741  120.755  \n",
       "7        87  23.741  120.755  \n",
       "8        86  23.741  120.755  \n",
       "9        85  23.741  120.755  "
      ]
     },
     "execution_count": 18,
     "metadata": {},
     "output_type": "execute_result"
    }
   ],
   "source": [
    "data.head(10)"
   ]
  },
  {
   "cell_type": "code",
   "execution_count": 19,
   "metadata": {},
   "outputs": [
    {
     "data": {
      "text/html": [
       "<div>\n",
       "<style scoped>\n",
       "    .dataframe tbody tr th:only-of-type {\n",
       "        vertical-align: middle;\n",
       "    }\n",
       "\n",
       "    .dataframe tbody tr th {\n",
       "        vertical-align: top;\n",
       "    }\n",
       "\n",
       "    .dataframe thead th {\n",
       "        text-align: right;\n",
       "    }\n",
       "</style>\n",
       "<table border=\"1\" class=\"dataframe\">\n",
       "  <thead>\n",
       "    <tr style=\"text-align: right;\">\n",
       "      <th></th>\n",
       "      <th>record_id</th>\n",
       "      <th>PM25</th>\n",
       "      <th>PM10</th>\n",
       "      <th>PM1</th>\n",
       "      <th>Temperature</th>\n",
       "      <th>Humidity</th>\n",
       "      <th>lat</th>\n",
       "      <th>lon</th>\n",
       "    </tr>\n",
       "  </thead>\n",
       "  <tbody>\n",
       "    <tr>\n",
       "      <th>count</th>\n",
       "      <td>1.250443e+06</td>\n",
       "      <td>1.250443e+06</td>\n",
       "      <td>1.250443e+06</td>\n",
       "      <td>1.250443e+06</td>\n",
       "      <td>1.250443e+06</td>\n",
       "      <td>1.250443e+06</td>\n",
       "      <td>1.250443e+06</td>\n",
       "      <td>1.250443e+06</td>\n",
       "    </tr>\n",
       "    <tr>\n",
       "      <th>mean</th>\n",
       "      <td>9.632778e+05</td>\n",
       "      <td>4.379018e+01</td>\n",
       "      <td>5.053475e+01</td>\n",
       "      <td>2.839685e+01</td>\n",
       "      <td>2.521184e+01</td>\n",
       "      <td>7.575035e+01</td>\n",
       "      <td>2.361421e+01</td>\n",
       "      <td>1.205810e+02</td>\n",
       "    </tr>\n",
       "    <tr>\n",
       "      <th>std</th>\n",
       "      <td>4.340908e+05</td>\n",
       "      <td>2.036245e+01</td>\n",
       "      <td>2.876265e+01</td>\n",
       "      <td>1.644278e+01</td>\n",
       "      <td>3.560814e+00</td>\n",
       "      <td>1.356982e+01</td>\n",
       "      <td>7.559487e-01</td>\n",
       "      <td>3.650899e-01</td>\n",
       "    </tr>\n",
       "    <tr>\n",
       "      <th>min</th>\n",
       "      <td>1.277300e+04</td>\n",
       "      <td>1.000000e+00</td>\n",
       "      <td>0.000000e+00</td>\n",
       "      <td>0.000000e+00</td>\n",
       "      <td>6.480000e+00</td>\n",
       "      <td>-7.200000e+01</td>\n",
       "      <td>2.247800e+01</td>\n",
       "      <td>1.200880e+02</td>\n",
       "    </tr>\n",
       "    <tr>\n",
       "      <th>25%</th>\n",
       "      <td>6.173355e+05</td>\n",
       "      <td>3.200000e+01</td>\n",
       "      <td>3.200000e+01</td>\n",
       "      <td>2.000000e+01</td>\n",
       "      <td>2.278000e+01</td>\n",
       "      <td>6.600000e+01</td>\n",
       "      <td>2.294400e+01</td>\n",
       "      <td>1.203110e+02</td>\n",
       "    </tr>\n",
       "    <tr>\n",
       "      <th>50%</th>\n",
       "      <td>9.668550e+05</td>\n",
       "      <td>4.300000e+01</td>\n",
       "      <td>5.300000e+01</td>\n",
       "      <td>2.900000e+01</td>\n",
       "      <td>2.550000e+01</td>\n",
       "      <td>7.500000e+01</td>\n",
       "      <td>2.353100e+01</td>\n",
       "      <td>1.205440e+02</td>\n",
       "    </tr>\n",
       "    <tr>\n",
       "      <th>75%</th>\n",
       "      <td>1.307714e+06</td>\n",
       "      <td>5.400000e+01</td>\n",
       "      <td>7.000000e+01</td>\n",
       "      <td>3.700000e+01</td>\n",
       "      <td>2.775000e+01</td>\n",
       "      <td>8.500000e+01</td>\n",
       "      <td>2.417900e+01</td>\n",
       "      <td>1.206880e+02</td>\n",
       "    </tr>\n",
       "    <tr>\n",
       "      <th>max</th>\n",
       "      <td>1.727170e+06</td>\n",
       "      <td>6.950000e+02</td>\n",
       "      <td>1.740000e+03</td>\n",
       "      <td>5.670000e+02</td>\n",
       "      <td>5.262000e+01</td>\n",
       "      <td>1.440000e+02</td>\n",
       "      <td>2.499900e+01</td>\n",
       "      <td>1.218530e+02</td>\n",
       "    </tr>\n",
       "  </tbody>\n",
       "</table>\n",
       "</div>"
      ],
      "text/plain": [
       "          record_id          PM25          PM10           PM1   Temperature  \\\n",
       "count  1.250443e+06  1.250443e+06  1.250443e+06  1.250443e+06  1.250443e+06   \n",
       "mean   9.632778e+05  4.379018e+01  5.053475e+01  2.839685e+01  2.521184e+01   \n",
       "std    4.340908e+05  2.036245e+01  2.876265e+01  1.644278e+01  3.560814e+00   \n",
       "min    1.277300e+04  1.000000e+00  0.000000e+00  0.000000e+00  6.480000e+00   \n",
       "25%    6.173355e+05  3.200000e+01  3.200000e+01  2.000000e+01  2.278000e+01   \n",
       "50%    9.668550e+05  4.300000e+01  5.300000e+01  2.900000e+01  2.550000e+01   \n",
       "75%    1.307714e+06  5.400000e+01  7.000000e+01  3.700000e+01  2.775000e+01   \n",
       "max    1.727170e+06  6.950000e+02  1.740000e+03  5.670000e+02  5.262000e+01   \n",
       "\n",
       "           Humidity           lat           lon  \n",
       "count  1.250443e+06  1.250443e+06  1.250443e+06  \n",
       "mean   7.575035e+01  2.361421e+01  1.205810e+02  \n",
       "std    1.356982e+01  7.559487e-01  3.650899e-01  \n",
       "min   -7.200000e+01  2.247800e+01  1.200880e+02  \n",
       "25%    6.600000e+01  2.294400e+01  1.203110e+02  \n",
       "50%    7.500000e+01  2.353100e+01  1.205440e+02  \n",
       "75%    8.500000e+01  2.417900e+01  1.206880e+02  \n",
       "max    1.440000e+02  2.499900e+01  1.218530e+02  "
      ]
     },
     "execution_count": 19,
     "metadata": {},
     "output_type": "execute_result"
    }
   ],
   "source": [
    "data.describe()"
   ]
  },
  {
   "cell_type": "code",
   "execution_count": 20,
   "metadata": {},
   "outputs": [],
   "source": [
    "data.loc[data.Humidity > 100, 'Humidity'] = 100\n",
    "data.loc[data.Humidity < 0, 'Humidity'] = 0"
   ]
  },
  {
   "cell_type": "code",
   "execution_count": 21,
   "metadata": {},
   "outputs": [
    {
     "data": {
      "text/html": [
       "<div>\n",
       "<style scoped>\n",
       "    .dataframe tbody tr th:only-of-type {\n",
       "        vertical-align: middle;\n",
       "    }\n",
       "\n",
       "    .dataframe tbody tr th {\n",
       "        vertical-align: top;\n",
       "    }\n",
       "\n",
       "    .dataframe thead th {\n",
       "        text-align: right;\n",
       "    }\n",
       "</style>\n",
       "<table border=\"1\" class=\"dataframe\">\n",
       "  <thead>\n",
       "    <tr style=\"text-align: right;\">\n",
       "      <th></th>\n",
       "      <th>record_id</th>\n",
       "      <th>PM25</th>\n",
       "      <th>PM10</th>\n",
       "      <th>PM1</th>\n",
       "      <th>Temperature</th>\n",
       "      <th>Humidity</th>\n",
       "      <th>lat</th>\n",
       "      <th>lon</th>\n",
       "    </tr>\n",
       "  </thead>\n",
       "  <tbody>\n",
       "    <tr>\n",
       "      <th>count</th>\n",
       "      <td>1.250443e+06</td>\n",
       "      <td>1.250443e+06</td>\n",
       "      <td>1.250443e+06</td>\n",
       "      <td>1.250443e+06</td>\n",
       "      <td>1.250443e+06</td>\n",
       "      <td>1.250443e+06</td>\n",
       "      <td>1.250443e+06</td>\n",
       "      <td>1.250443e+06</td>\n",
       "    </tr>\n",
       "    <tr>\n",
       "      <th>mean</th>\n",
       "      <td>9.632778e+05</td>\n",
       "      <td>4.379018e+01</td>\n",
       "      <td>5.053475e+01</td>\n",
       "      <td>2.839685e+01</td>\n",
       "      <td>2.521184e+01</td>\n",
       "      <td>7.573173e+01</td>\n",
       "      <td>2.361421e+01</td>\n",
       "      <td>1.205810e+02</td>\n",
       "    </tr>\n",
       "    <tr>\n",
       "      <th>std</th>\n",
       "      <td>4.340908e+05</td>\n",
       "      <td>2.036245e+01</td>\n",
       "      <td>2.876265e+01</td>\n",
       "      <td>1.644278e+01</td>\n",
       "      <td>3.560814e+00</td>\n",
       "      <td>1.351005e+01</td>\n",
       "      <td>7.559487e-01</td>\n",
       "      <td>3.650899e-01</td>\n",
       "    </tr>\n",
       "    <tr>\n",
       "      <th>min</th>\n",
       "      <td>1.277300e+04</td>\n",
       "      <td>1.000000e+00</td>\n",
       "      <td>0.000000e+00</td>\n",
       "      <td>0.000000e+00</td>\n",
       "      <td>6.480000e+00</td>\n",
       "      <td>0.000000e+00</td>\n",
       "      <td>2.247800e+01</td>\n",
       "      <td>1.200880e+02</td>\n",
       "    </tr>\n",
       "    <tr>\n",
       "      <th>25%</th>\n",
       "      <td>6.173355e+05</td>\n",
       "      <td>3.200000e+01</td>\n",
       "      <td>3.200000e+01</td>\n",
       "      <td>2.000000e+01</td>\n",
       "      <td>2.278000e+01</td>\n",
       "      <td>6.600000e+01</td>\n",
       "      <td>2.294400e+01</td>\n",
       "      <td>1.203110e+02</td>\n",
       "    </tr>\n",
       "    <tr>\n",
       "      <th>50%</th>\n",
       "      <td>9.668550e+05</td>\n",
       "      <td>4.300000e+01</td>\n",
       "      <td>5.300000e+01</td>\n",
       "      <td>2.900000e+01</td>\n",
       "      <td>2.550000e+01</td>\n",
       "      <td>7.500000e+01</td>\n",
       "      <td>2.353100e+01</td>\n",
       "      <td>1.205440e+02</td>\n",
       "    </tr>\n",
       "    <tr>\n",
       "      <th>75%</th>\n",
       "      <td>1.307714e+06</td>\n",
       "      <td>5.400000e+01</td>\n",
       "      <td>7.000000e+01</td>\n",
       "      <td>3.700000e+01</td>\n",
       "      <td>2.775000e+01</td>\n",
       "      <td>8.500000e+01</td>\n",
       "      <td>2.417900e+01</td>\n",
       "      <td>1.206880e+02</td>\n",
       "    </tr>\n",
       "    <tr>\n",
       "      <th>max</th>\n",
       "      <td>1.727170e+06</td>\n",
       "      <td>6.950000e+02</td>\n",
       "      <td>1.740000e+03</td>\n",
       "      <td>5.670000e+02</td>\n",
       "      <td>5.262000e+01</td>\n",
       "      <td>1.000000e+02</td>\n",
       "      <td>2.499900e+01</td>\n",
       "      <td>1.218530e+02</td>\n",
       "    </tr>\n",
       "  </tbody>\n",
       "</table>\n",
       "</div>"
      ],
      "text/plain": [
       "          record_id          PM25          PM10           PM1   Temperature  \\\n",
       "count  1.250443e+06  1.250443e+06  1.250443e+06  1.250443e+06  1.250443e+06   \n",
       "mean   9.632778e+05  4.379018e+01  5.053475e+01  2.839685e+01  2.521184e+01   \n",
       "std    4.340908e+05  2.036245e+01  2.876265e+01  1.644278e+01  3.560814e+00   \n",
       "min    1.277300e+04  1.000000e+00  0.000000e+00  0.000000e+00  6.480000e+00   \n",
       "25%    6.173355e+05  3.200000e+01  3.200000e+01  2.000000e+01  2.278000e+01   \n",
       "50%    9.668550e+05  4.300000e+01  5.300000e+01  2.900000e+01  2.550000e+01   \n",
       "75%    1.307714e+06  5.400000e+01  7.000000e+01  3.700000e+01  2.775000e+01   \n",
       "max    1.727170e+06  6.950000e+02  1.740000e+03  5.670000e+02  5.262000e+01   \n",
       "\n",
       "           Humidity           lat           lon  \n",
       "count  1.250443e+06  1.250443e+06  1.250443e+06  \n",
       "mean   7.573173e+01  2.361421e+01  1.205810e+02  \n",
       "std    1.351005e+01  7.559487e-01  3.650899e-01  \n",
       "min    0.000000e+00  2.247800e+01  1.200880e+02  \n",
       "25%    6.600000e+01  2.294400e+01  1.203110e+02  \n",
       "50%    7.500000e+01  2.353100e+01  1.205440e+02  \n",
       "75%    8.500000e+01  2.417900e+01  1.206880e+02  \n",
       "max    1.000000e+02  2.499900e+01  1.218530e+02  "
      ]
     },
     "execution_count": 21,
     "metadata": {},
     "output_type": "execute_result"
    }
   ],
   "source": [
    "data.describe()"
   ]
  },
  {
   "cell_type": "markdown",
   "metadata": {},
   "source": [
    "# Association Rules\n",
    "- Transaction Definition\n",
    "- Observation & Discretization\n",
    "- Assocation Rules\n",
    "- Explanation\n",
    "\n"
   ]
  },
  {
   "cell_type": "markdown",
   "metadata": {},
   "source": [
    "##  Task 1 - (PM2.5, Temperature, Humidity)\n",
    "\n",
    "### Step 1: Transaction Definition\n",
    "找出 PM2.5, Temperature & Humidity 之間的關係"
   ]
  },
  {
   "cell_type": "code",
   "execution_count": 22,
   "metadata": {},
   "outputs": [
    {
     "data": {
      "text/html": [
       "<div>\n",
       "<style scoped>\n",
       "    .dataframe tbody tr th:only-of-type {\n",
       "        vertical-align: middle;\n",
       "    }\n",
       "\n",
       "    .dataframe tbody tr th {\n",
       "        vertical-align: top;\n",
       "    }\n",
       "\n",
       "    .dataframe thead th {\n",
       "        text-align: right;\n",
       "    }\n",
       "</style>\n",
       "<table border=\"1\" class=\"dataframe\">\n",
       "  <thead>\n",
       "    <tr style=\"text-align: right;\">\n",
       "      <th></th>\n",
       "      <th>record_id</th>\n",
       "      <th>device_id</th>\n",
       "      <th>PM25</th>\n",
       "      <th>Temperature</th>\n",
       "      <th>Humidity</th>\n",
       "    </tr>\n",
       "  </thead>\n",
       "  <tbody>\n",
       "    <tr>\n",
       "      <th>0</th>\n",
       "      <td>12773</td>\n",
       "      <td>28C2DDDD415C</td>\n",
       "      <td>43</td>\n",
       "      <td>19.61</td>\n",
       "      <td>96</td>\n",
       "    </tr>\n",
       "    <tr>\n",
       "      <th>1</th>\n",
       "      <td>12774</td>\n",
       "      <td>28C2DDDD415C</td>\n",
       "      <td>41</td>\n",
       "      <td>19.81</td>\n",
       "      <td>94</td>\n",
       "    </tr>\n",
       "    <tr>\n",
       "      <th>2</th>\n",
       "      <td>12775</td>\n",
       "      <td>28C2DDDD415C</td>\n",
       "      <td>41</td>\n",
       "      <td>19.73</td>\n",
       "      <td>93</td>\n",
       "    </tr>\n",
       "    <tr>\n",
       "      <th>3</th>\n",
       "      <td>12776</td>\n",
       "      <td>28C2DDDD415C</td>\n",
       "      <td>47</td>\n",
       "      <td>19.17</td>\n",
       "      <td>92</td>\n",
       "    </tr>\n",
       "    <tr>\n",
       "      <th>4</th>\n",
       "      <td>12777</td>\n",
       "      <td>28C2DDDD415C</td>\n",
       "      <td>50</td>\n",
       "      <td>19.90</td>\n",
       "      <td>91</td>\n",
       "    </tr>\n",
       "  </tbody>\n",
       "</table>\n",
       "</div>"
      ],
      "text/plain": [
       "   record_id     device_id  PM25  Temperature  Humidity\n",
       "0      12773  28C2DDDD415C    43        19.61        96\n",
       "1      12774  28C2DDDD415C    41        19.81        94\n",
       "2      12775  28C2DDDD415C    41        19.73        93\n",
       "3      12776  28C2DDDD415C    47        19.17        92\n",
       "4      12777  28C2DDDD415C    50        19.90        91"
      ]
     },
     "execution_count": 22,
     "metadata": {},
     "output_type": "execute_result"
    }
   ],
   "source": [
    "# q1 = data[['Temperature', 'Humidity', 'device_id', 'PM25', 'record_id']]\n",
    "q1 = data.drop(['DateTime', 'PM10', 'PM1', 'lat', 'lon'], axis=1)\n",
    "q1.head()"
   ]
  },
  {
   "cell_type": "markdown",
   "metadata": {},
   "source": [
    "### Step 2: Observation & Discretization\n",
    "觀察3個特徵的分佈"
   ]
  },
  {
   "cell_type": "code",
   "execution_count": 23,
   "metadata": {},
   "outputs": [
    {
     "data": {
      "image/png": "[encoded data removed]",
      "text/plain": [
       "<matplotlib.figure.Figure at 0x7fbae48c3d68>"
      ]
     },
     "metadata": {},
     "output_type": "display_data"
    }
   ],
   "source": [
    "fig, ax = plt.subplots(nrows=3, ncols=2)\n",
    "ax[0][0].hist(q1['PM25'], bins=range(min(q1['PM25']), max(q1['PM25']) + 10, 10))\n",
    "ax[0][0].set_title('PM25')\n",
    "ax[0][0].set_ylabel('count')\n",
    "\n",
    "ax[0][1].hist(q1['PM25'], bins=range(min(q1['PM25']), max(q1['PM25']) + 10, 10))\n",
    "ax[0][1].set_title('PM25')\n",
    "ax[0][1].set_ylabel('count')\n",
    "ax[0][1].set_ylim((0,100))\n",
    "\n",
    "ax[1][0].hist(q1['Temperature'], bins=range(int(min(q1['Temperature'])), int(max(q1['Temperature'])+2), 2))\n",
    "ax[1][0].set_title('Temperature')\n",
    "ax[1][0].set_ylabel('count')\n",
    "\n",
    "ax[1][1].hist(q1['Temperature'], bins=range(int(min(q1['Temperature'])), int(max(q1['Temperature'])+2), 2))\n",
    "ax[1][1].set_title('Temperature')\n",
    "ax[1][1].set_ylabel('count')\n",
    "ax[1][1].set_ylim((0,100))\n",
    "\n",
    "ax[2][0].hist(q1['Humidity'], bins=range(int(min(q1['Humidity'])), int(max(q1['Humidity']+5)), 5))\n",
    "ax[2][0].set_title('Humidity')\n",
    "ax[2][0].set_ylabel('count')\n",
    "\n",
    "ax[2][1].hist(q1['Humidity'], bins=range(int(min(q1['Humidity'])), int(max(q1['Humidity']+5)), 5))\n",
    "ax[2][1].set_title('Humidity')\n",
    "ax[2][1].set_ylabel('count')\n",
    "ax[2][1].set_ylim((0,100))\n",
    "\n",
    "fig.tight_layout()\n",
    "plt.show()"
   ]
  },
  {
   "cell_type": "markdown",
   "metadata": {},
   "source": [
    "\n",
    "- 發現三種資料資料分布都很集中\n",
    "- Temperature分布接近常態分布\n",
    "- PM2.5與Humidity雖然分布集中，但有點skew的情況\n",
    "\n",
    "#### PM2.5\n",
    "\n",
    "而PM2.5的資料不是平均分布，不使用equal-width的方式做discretization\n",
    "\n",
    "而決定使用equal frequency的方式對資料做discretization\n",
    "\n",
    "#### Temperature\n",
    "\n",
    "Temperature資料呈現常態分布，溫度分布較集中，若用equal-width的方式做discretization，對台灣的溫度資料而言，中間溫度的分布會看不出差異\n",
    "\n",
    "因此使用equal frequency的方式做discretization\n",
    "\n",
    "#### Humidity\n",
    "\n",
    "Humidity分布用equal-width的方式做discretization較適合"
   ]
  },
  {
   "cell_type": "markdown",
   "metadata": {},
   "source": [
    "#### Pandas Qcut\n",
    "- Qcut - Equal-Freqency\n",
    "- Cut - Equal-Width"
   ]
  },
  {
   "cell_type": "code",
   "execution_count": 24,
   "metadata": {},
   "outputs": [
    {
     "data": {
      "text/plain": [
       "[(-0.001, 4.5], (-0.001, 4.5], (-0.001, 4.5], (-0.001, 4.5], (-0.001, 4.5], (4.5, 9.0], (4.5, 9.0], (4.5, 9.0], (4.5, 9.0], (4.5, 9.0]]\n",
       "Categories (2, interval[float64]): [(-0.001, 4.5] < (4.5, 9.0]]"
      ]
     },
     "execution_count": 24,
     "metadata": {},
     "output_type": "execute_result"
    }
   ],
   "source": [
    "pd.qcut([0, 1, 2, 3, 4, 5, 6, 7, 8, 9], 2)"
   ]
  },
  {
   "cell_type": "code",
   "execution_count": 25,
   "metadata": {},
   "outputs": [
    {
     "data": {
      "image/png": "[encoded data removed]",
      "text/plain": [
       "<matplotlib.figure.Figure at 0x7fbae48c35c0>"
      ]
     },
     "metadata": {},
     "output_type": "display_data"
    }
   ],
   "source": [
    "result = []\n",
    "result.append(pd.qcut(q1['PM25'], 10))\n",
    "result.append(pd.qcut(q1['Temperature'], 10))\n",
    "result.append(pd.cut(q1['Humidity'], 10))\n",
    "fig, ax = plt.subplots(3,1)\n",
    "for i in range(len(result)):\n",
    "    result[i] = [str(x) for x in result[i]]\n",
    "    ax[i].hist(result[i])\n",
    "    ax[i].set_title(q1.columns[i+2])\n",
    "    for tick in ax[i].get_xticklabels():\n",
    "        tick.set_y(1)\n",
    "        tick.set_rotation(90)\n",
    "fig.tight_layout()\n",
    "plt.show()"
   ]
  },
  {
   "cell_type": "markdown",
   "metadata": {},
   "source": [
    "嘗試其他離散化方法，PM2.5的資料決定改用 k-means 的 cluster 方式 做 discretization。觀察分類過後的PM2.5分布，與環保署的PM2.5指標做比較\n",
    "\n",
    "- [-3,22]、[23,39]為低濃度\n",
    "- [40,54]為中濃度\n",
    "- [55,75]為高濃度\n",
    "- 剩餘>75為濃度非常高\n",
    "\n",
    "認為此分類較為妥當"
   ]
  },
  {
   "cell_type": "code",
   "execution_count": 26,
   "metadata": {},
   "outputs": [
    {
     "data": {
      "text/html": [
       "<div>\n",
       "<style scoped>\n",
       "    .dataframe tbody tr th:only-of-type {\n",
       "        vertical-align: middle;\n",
       "    }\n",
       "\n",
       "    .dataframe tbody tr th {\n",
       "        vertical-align: top;\n",
       "    }\n",
       "\n",
       "    .dataframe thead th {\n",
       "        text-align: right;\n",
       "    }\n",
       "</style>\n",
       "<table border=\"1\" class=\"dataframe\">\n",
       "  <thead>\n",
       "    <tr style=\"text-align: right;\">\n",
       "      <th></th>\n",
       "      <th>record_id</th>\n",
       "      <th>device_id</th>\n",
       "      <th>PM25</th>\n",
       "      <th>Temperature</th>\n",
       "      <th>Humidity</th>\n",
       "      <th>PM25_cluster</th>\n",
       "    </tr>\n",
       "  </thead>\n",
       "  <tbody>\n",
       "    <tr>\n",
       "      <th>0</th>\n",
       "      <td>12773</td>\n",
       "      <td>28C2DDDD415C</td>\n",
       "      <td>43</td>\n",
       "      <td>19.61</td>\n",
       "      <td>96</td>\n",
       "      <td>3</td>\n",
       "    </tr>\n",
       "    <tr>\n",
       "      <th>1</th>\n",
       "      <td>12774</td>\n",
       "      <td>28C2DDDD415C</td>\n",
       "      <td>41</td>\n",
       "      <td>19.81</td>\n",
       "      <td>94</td>\n",
       "      <td>1</td>\n",
       "    </tr>\n",
       "    <tr>\n",
       "      <th>2</th>\n",
       "      <td>12775</td>\n",
       "      <td>28C2DDDD415C</td>\n",
       "      <td>41</td>\n",
       "      <td>19.73</td>\n",
       "      <td>93</td>\n",
       "      <td>1</td>\n",
       "    </tr>\n",
       "    <tr>\n",
       "      <th>3</th>\n",
       "      <td>12776</td>\n",
       "      <td>28C2DDDD415C</td>\n",
       "      <td>47</td>\n",
       "      <td>19.17</td>\n",
       "      <td>92</td>\n",
       "      <td>3</td>\n",
       "    </tr>\n",
       "    <tr>\n",
       "      <th>4</th>\n",
       "      <td>12777</td>\n",
       "      <td>28C2DDDD415C</td>\n",
       "      <td>50</td>\n",
       "      <td>19.90</td>\n",
       "      <td>91</td>\n",
       "      <td>3</td>\n",
       "    </tr>\n",
       "  </tbody>\n",
       "</table>\n",
       "</div>"
      ],
      "text/plain": [
       "   record_id     device_id  PM25  Temperature  Humidity  PM25_cluster\n",
       "0      12773  28C2DDDD415C    43        19.61        96             3\n",
       "1      12774  28C2DDDD415C    41        19.81        94             1\n",
       "2      12775  28C2DDDD415C    41        19.73        93             1\n",
       "3      12776  28C2DDDD415C    47        19.17        92             3\n",
       "4      12777  28C2DDDD415C    50        19.90        91             3"
      ]
     },
     "execution_count": 26,
     "metadata": {},
     "output_type": "execute_result"
    }
   ],
   "source": [
    "X = q1[['PM25']]\n",
    "kmeans = KMeans(n_clusters=5, random_state=0).fit(X)\n",
    "q1['PM25_cluster'] = kmeans.labels_\n",
    "q1.head()\n"
   ]
  },
  {
   "cell_type": "markdown",
   "metadata": {},
   "source": [
    "將 cluster 的 label 轉換成區間"
   ]
  },
  {
   "cell_type": "code",
   "execution_count": 27,
   "metadata": {},
   "outputs": [
    {
     "data": {
      "text/html": [
       "<div>\n",
       "<style scoped>\n",
       "    .dataframe tbody tr th:only-of-type {\n",
       "        vertical-align: middle;\n",
       "    }\n",
       "\n",
       "    .dataframe tbody tr th {\n",
       "        vertical-align: top;\n",
       "    }\n",
       "\n",
       "    .dataframe thead th {\n",
       "        text-align: right;\n",
       "    }\n",
       "</style>\n",
       "<table border=\"1\" class=\"dataframe\">\n",
       "  <thead>\n",
       "    <tr style=\"text-align: right;\">\n",
       "      <th></th>\n",
       "      <th>record_id</th>\n",
       "      <th>device_id</th>\n",
       "      <th>PM25</th>\n",
       "      <th>Temperature</th>\n",
       "      <th>Humidity</th>\n",
       "      <th>PM25_cluster</th>\n",
       "    </tr>\n",
       "  </thead>\n",
       "  <tbody>\n",
       "    <tr>\n",
       "      <th>0</th>\n",
       "      <td>12773</td>\n",
       "      <td>28C2DDDD415C</td>\n",
       "      <td>43</td>\n",
       "      <td>19.61</td>\n",
       "      <td>96</td>\n",
       "      <td>[43, 58]</td>\n",
       "    </tr>\n",
       "    <tr>\n",
       "      <th>1</th>\n",
       "      <td>12774</td>\n",
       "      <td>28C2DDDD415C</td>\n",
       "      <td>41</td>\n",
       "      <td>19.81</td>\n",
       "      <td>94</td>\n",
       "      <td>[26, 42]</td>\n",
       "    </tr>\n",
       "    <tr>\n",
       "      <th>2</th>\n",
       "      <td>12775</td>\n",
       "      <td>28C2DDDD415C</td>\n",
       "      <td>41</td>\n",
       "      <td>19.73</td>\n",
       "      <td>93</td>\n",
       "      <td>[26, 42]</td>\n",
       "    </tr>\n",
       "    <tr>\n",
       "      <th>3</th>\n",
       "      <td>12776</td>\n",
       "      <td>28C2DDDD415C</td>\n",
       "      <td>47</td>\n",
       "      <td>19.17</td>\n",
       "      <td>92</td>\n",
       "      <td>[43, 58]</td>\n",
       "    </tr>\n",
       "    <tr>\n",
       "      <th>4</th>\n",
       "      <td>12777</td>\n",
       "      <td>28C2DDDD415C</td>\n",
       "      <td>50</td>\n",
       "      <td>19.90</td>\n",
       "      <td>91</td>\n",
       "      <td>[43, 58]</td>\n",
       "    </tr>\n",
       "  </tbody>\n",
       "</table>\n",
       "</div>"
      ],
      "text/plain": [
       "   record_id     device_id  PM25  Temperature  Humidity PM25_cluster\n",
       "0      12773  28C2DDDD415C    43        19.61        96     [43, 58]\n",
       "1      12774  28C2DDDD415C    41        19.81        94     [26, 42]\n",
       "2      12775  28C2DDDD415C    41        19.73        93     [26, 42]\n",
       "3      12776  28C2DDDD415C    47        19.17        92     [43, 58]\n",
       "4      12777  28C2DDDD415C    50        19.90        91     [43, 58]"
      ]
     },
     "execution_count": 27,
     "metadata": {},
     "output_type": "execute_result"
    }
   ],
   "source": [
    "max_list = list(q1.groupby(\"PM25_cluster\")['PM25'].max())\n",
    "min_list = list(q1.groupby(\"PM25_cluster\")['PM25'].min())\n",
    "# min_list, max_list = zip(*sorted(zip(min_list, max_list)))\n",
    "\n",
    "q1[['PM25_cluster']] = [\"[%d, %d]\" % (min_list[i], max_list[i]) for i in q1['PM25_cluster']]\n",
    "q1.head()"
   ]
  },
  {
   "cell_type": "code",
   "execution_count": 28,
   "metadata": {},
   "outputs": [
    {
     "data": {
      "text/html": [
       "<div>\n",
       "<style scoped>\n",
       "    .dataframe tbody tr th:only-of-type {\n",
       "        vertical-align: middle;\n",
       "    }\n",
       "\n",
       "    .dataframe tbody tr th {\n",
       "        vertical-align: top;\n",
       "    }\n",
       "\n",
       "    .dataframe thead th {\n",
       "        text-align: right;\n",
       "    }\n",
       "</style>\n",
       "<table border=\"1\" class=\"dataframe\">\n",
       "  <thead>\n",
       "    <tr style=\"text-align: right;\">\n",
       "      <th></th>\n",
       "      <th>record_id</th>\n",
       "      <th>device_id</th>\n",
       "      <th>PM25</th>\n",
       "      <th>Temperature</th>\n",
       "      <th>Humidity</th>\n",
       "    </tr>\n",
       "    <tr>\n",
       "      <th>PM25_cluster</th>\n",
       "      <th></th>\n",
       "      <th></th>\n",
       "      <th></th>\n",
       "      <th></th>\n",
       "      <th></th>\n",
       "    </tr>\n",
       "  </thead>\n",
       "  <tbody>\n",
       "    <tr>\n",
       "      <th>[1, 25]</th>\n",
       "      <td>210602</td>\n",
       "      <td>210602</td>\n",
       "      <td>210602</td>\n",
       "      <td>210602</td>\n",
       "      <td>210602</td>\n",
       "    </tr>\n",
       "    <tr>\n",
       "      <th>[26, 42]</th>\n",
       "      <td>389699</td>\n",
       "      <td>389699</td>\n",
       "      <td>389699</td>\n",
       "      <td>389699</td>\n",
       "      <td>389699</td>\n",
       "    </tr>\n",
       "    <tr>\n",
       "      <th>[43, 58]</th>\n",
       "      <td>415725</td>\n",
       "      <td>415725</td>\n",
       "      <td>415725</td>\n",
       "      <td>415725</td>\n",
       "      <td>415725</td>\n",
       "    </tr>\n",
       "    <tr>\n",
       "      <th>[59, 81]</th>\n",
       "      <td>184944</td>\n",
       "      <td>184944</td>\n",
       "      <td>184944</td>\n",
       "      <td>184944</td>\n",
       "      <td>184944</td>\n",
       "    </tr>\n",
       "    <tr>\n",
       "      <th>[82, 695]</th>\n",
       "      <td>49473</td>\n",
       "      <td>49473</td>\n",
       "      <td>49473</td>\n",
       "      <td>49473</td>\n",
       "      <td>49473</td>\n",
       "    </tr>\n",
       "  </tbody>\n",
       "</table>\n",
       "</div>"
      ],
      "text/plain": [
       "              record_id  device_id    PM25  Temperature  Humidity\n",
       "PM25_cluster                                                     \n",
       "[1, 25]          210602     210602  210602       210602    210602\n",
       "[26, 42]         389699     389699  389699       389699    389699\n",
       "[43, 58]         415725     415725  415725       415725    415725\n",
       "[59, 81]         184944     184944  184944       184944    184944\n",
       "[82, 695]         49473      49473   49473        49473     49473"
      ]
     },
     "execution_count": 28,
     "metadata": {},
     "output_type": "execute_result"
    }
   ],
   "source": [
    "q1.groupby('PM25_cluster').count()"
   ]
  },
  {
   "cell_type": "markdown",
   "metadata": {},
   "source": [
    "\n",
    "### Step3: find rules by FP-growth algorithm\n",
    "\n",
    "用 orange3-associate 提供的 FP-growth algorithm 找 discretization 後的資料中的 rules\n",
    "\n",
    "- 挑出support > 100/總數的patterns\n",
    "- 挑出confidence>0.5的rules"
   ]
  },
  {
   "cell_type": "code",
   "execution_count": 29,
   "metadata": {},
   "outputs": [],
   "source": [
    "# 合併切過的資料\n",
    "data_cut = []\n",
    "pm25_items = ['PM25 ' + x for x in q1['PM25_cluster']]\n",
    "temp_items = ['Temp ' + x for x in result[1]]\n",
    "humd_items = ['Humd ' + x for x in result[2]]\n",
    "\n",
    "data_cut.append(pm25_items)\n",
    "data_cut.append(temp_items)\n",
    "data_cut.append(humd_items)\n",
    "\n",
    "# List 轉置\n",
    "transactions = list(zip(*data_cut))"
   ]
  },
  {
   "cell_type": "markdown",
   "metadata": {},
   "source": [
    "#### Fp-growth\n",
    "Orange3 的 fpgrowth 只能處理整數，所以需要寫一個 encoder 和 decoder 來互相轉換"
   ]
  },
  {
   "cell_type": "code",
   "execution_count": 30,
   "metadata": {},
   "outputs": [
    {
     "name": "stdout",
     "output_type": "stream",
     "text": [
      "Fpgrowth took 6.885823726654053 seconds.\n",
      "11 Results\n"
     ]
    }
   ],
   "source": [
    "from orangecontrib.associate import fpgrowth as fpg\n",
    "\n",
    "start = time.time()\n",
    "\n",
    "itemset = set().union(*transactions)\n",
    "decoder = {i: k for i, k in enumerate(itemset)}\n",
    "encoder = {k: i for i, k in enumerate(itemset)}\n",
    "\n",
    "\n",
    "itemsets =  dict(fpg.frequent_itemsets([[encoder[i] for i in t] for t in transactions], 100/len(transactions)))\n",
    "rules = list(fpg.association_rules(itemsets, .5))\n",
    "\n",
    "print(\"Fpgrowth took\", time.time() - start, \"seconds.\")\n",
    "print(len(rules), \"Results\")"
   ]
  },
  {
   "cell_type": "code",
   "execution_count": 31,
   "metadata": {},
   "outputs": [
    {
     "name": "stdout",
     "output_type": "stream",
     "text": [
      "['Humd (30.0, 40.0]', 'PM25 [43, 58]']  ->  ['Temp (29.57, 52.62]'] 0.8321167883211679\n",
      "['Humd (30.0, 40.0]', 'PM25 [1, 25]']  ->  ['Temp (29.57, 52.62]'] 0.5310344827586206\n",
      "['Humd (40.0, 50.0]', 'Temp (28.26, 29.57]']  ->  ['PM25 [26, 42]'] 0.5246191994332271\n",
      "['Temp (6.479, 20.28]', 'PM25 [82, 695]']  ->  ['Humd (90.0, 100.0]'] 0.518560606060606\n",
      "['Humd (40.0, 50.0]', 'Temp (29.57, 52.62]']  ->  ['PM25 [26, 42]'] 0.6000280780569984\n",
      "['Humd (40.0, 50.0]', 'Temp (6.479, 20.28]']  ->  ['PM25 [1, 25]'] 0.8547008547008547\n",
      "['Temp (29.57, 52.62]', 'Humd (30.0, 40.0]']  ->  ['PM25 [26, 42]'] 0.6380208333333334\n",
      "['PM25 [26, 42]', 'Humd (30.0, 40.0]']  ->  ['Temp (29.57, 52.62]'] 0.8376068376068376\n",
      "['Humd (40.0, 50.0]']  ->  ['PM25 [26, 42]'] 0.5156440256233786\n",
      "['Humd (30.0, 40.0]']  ->  ['PM25 [26, 42]'] 0.5707317073170731\n",
      "['Humd (30.0, 40.0]']  ->  ['Temp (29.57, 52.62]'] 0.7492682926829268\n"
     ]
    }
   ],
   "source": [
    "for rule in rules:\n",
    "    a = [decoder[i] for i in rule[0]]\n",
    "    b = [decoder[i] for i in rule[1]]\n",
    "    s, c = rule[2], rule[3]\n",
    "    print(a, ' -> ', b, c)"
   ]
  },
  {
   "cell_type": "code",
   "execution_count": 32,
   "metadata": {},
   "outputs": [
    {
     "data": {
      "text/plain": [
       "{0: 'Temp (25.5, 26.37]',\n",
       " 1: 'Humd (90.0, 100.0]',\n",
       " 2: 'Temp (23.4, 24.52]',\n",
       " 3: 'Humd (60.0, 70.0]',\n",
       " 4: 'Temp (26.37, 27.26]',\n",
       " 5: 'Temp (27.26, 28.26]',\n",
       " 6: 'Humd (-0.1, 10.0]',\n",
       " 7: 'PM25 [1, 25]',\n",
       " 8: 'Temp (28.26, 29.57]',\n",
       " 9: 'Temp (29.57, 52.62]',\n",
       " 10: 'Humd (80.0, 90.0]',\n",
       " 11: 'PM25 [59, 81]',\n",
       " 12: 'Humd (70.0, 80.0]',\n",
       " 13: 'Humd (30.0, 40.0]',\n",
       " 14: 'Temp (22.11, 23.4]',\n",
       " 15: 'Humd (50.0, 60.0]',\n",
       " 16: 'Humd (40.0, 50.0]',\n",
       " 17: 'Temp (6.479, 20.28]',\n",
       " 18: 'Temp (24.52, 25.5]',\n",
       " 19: 'Humd (20.0, 30.0]',\n",
       " 20: 'PM25 [82, 695]',\n",
       " 21: 'PM25 [43, 58]',\n",
       " 22: 'Temp (20.28, 22.11]',\n",
       " 23: 'Humd (10.0, 20.0]',\n",
       " 24: 'PM25 [26, 42]'}"
      ]
     },
     "execution_count": 32,
     "metadata": {},
     "output_type": "execute_result"
    }
   ],
   "source": [
    "decoder"
   ]
  },
  {
   "cell_type": "code",
   "execution_count": 33,
   "metadata": {},
   "outputs": [
    {
     "data": {
      "text/plain": [
       "{'Humd (-0.1, 10.0]': 6,\n",
       " 'Humd (10.0, 20.0]': 23,\n",
       " 'Humd (20.0, 30.0]': 19,\n",
       " 'Humd (30.0, 40.0]': 13,\n",
       " 'Humd (40.0, 50.0]': 16,\n",
       " 'Humd (50.0, 60.0]': 15,\n",
       " 'Humd (60.0, 70.0]': 3,\n",
       " 'Humd (70.0, 80.0]': 12,\n",
       " 'Humd (80.0, 90.0]': 10,\n",
       " 'Humd (90.0, 100.0]': 1,\n",
       " 'PM25 [1, 25]': 7,\n",
       " 'PM25 [26, 42]': 24,\n",
       " 'PM25 [43, 58]': 21,\n",
       " 'PM25 [59, 81]': 11,\n",
       " 'PM25 [82, 695]': 20,\n",
       " 'Temp (20.28, 22.11]': 22,\n",
       " 'Temp (22.11, 23.4]': 14,\n",
       " 'Temp (23.4, 24.52]': 2,\n",
       " 'Temp (24.52, 25.5]': 18,\n",
       " 'Temp (25.5, 26.37]': 0,\n",
       " 'Temp (26.37, 27.26]': 4,\n",
       " 'Temp (27.26, 28.26]': 5,\n",
       " 'Temp (28.26, 29.57]': 8,\n",
       " 'Temp (29.57, 52.62]': 9,\n",
       " 'Temp (6.479, 20.28]': 17}"
      ]
     },
     "execution_count": 33,
     "metadata": {},
     "output_type": "execute_result"
    }
   ],
   "source": [
    "encoder"
   ]
  },
  {
   "cell_type": "markdown",
   "metadata": {},
   "source": [
    "### Step 4: Explantion\n",
    "\n",
    "- 溼度低 (30 ~ 40) 且 PM2.5 為中、高濃度時，溫度常會偏高 (> 30)\n",
    "- 溼度偏低 (40 ~ 50) 且 溫度低 (6 ~ 20) 時，PM2.5 常為中濃度\n",
    "- 溼度低 (30 ~ 40) 時，溫度常會偏高 (> 30)"
   ]
  },
  {
   "cell_type": "markdown",
   "metadata": {},
   "source": [
    "##  Task 2 - (Temperature, Humidity, PM2.5, PM2.5_future)\n",
    "\n",
    "### Step 1: Transaction Definition\n",
    "觀察當下的 Temperature & Humidity 與兩個小時後的 PM2.5 關聯"
   ]
  },
  {
   "cell_type": "code",
   "execution_count": 34,
   "metadata": {},
   "outputs": [
    {
     "data": {
      "text/html": [
       "<div>\n",
       "<style scoped>\n",
       "    .dataframe tbody tr th:only-of-type {\n",
       "        vertical-align: middle;\n",
       "    }\n",
       "\n",
       "    .dataframe tbody tr th {\n",
       "        vertical-align: top;\n",
       "    }\n",
       "\n",
       "    .dataframe thead th {\n",
       "        text-align: right;\n",
       "    }\n",
       "</style>\n",
       "<table border=\"1\" class=\"dataframe\">\n",
       "  <thead>\n",
       "    <tr style=\"text-align: right;\">\n",
       "      <th></th>\n",
       "      <th>record_id</th>\n",
       "      <th>device_id</th>\n",
       "      <th>Temperature</th>\n",
       "      <th>Humidity</th>\n",
       "      <th>PM25_cluster</th>\n",
       "    </tr>\n",
       "  </thead>\n",
       "  <tbody>\n",
       "    <tr>\n",
       "      <th>1250438</th>\n",
       "      <td>1727166</td>\n",
       "      <td>74DA38B05374</td>\n",
       "      <td>26.12</td>\n",
       "      <td>53</td>\n",
       "      <td>[26, 42]</td>\n",
       "    </tr>\n",
       "    <tr>\n",
       "      <th>1250439</th>\n",
       "      <td>1727167</td>\n",
       "      <td>74DA38B05374</td>\n",
       "      <td>26.00</td>\n",
       "      <td>53</td>\n",
       "      <td>[1, 25]</td>\n",
       "    </tr>\n",
       "    <tr>\n",
       "      <th>1250440</th>\n",
       "      <td>1727168</td>\n",
       "      <td>74DA38B05374</td>\n",
       "      <td>25.87</td>\n",
       "      <td>53</td>\n",
       "      <td>[26, 42]</td>\n",
       "    </tr>\n",
       "    <tr>\n",
       "      <th>1250441</th>\n",
       "      <td>1727169</td>\n",
       "      <td>74DA38B05374</td>\n",
       "      <td>25.75</td>\n",
       "      <td>52</td>\n",
       "      <td>[26, 42]</td>\n",
       "    </tr>\n",
       "    <tr>\n",
       "      <th>1250442</th>\n",
       "      <td>1727170</td>\n",
       "      <td>74DA38B05374</td>\n",
       "      <td>25.38</td>\n",
       "      <td>52</td>\n",
       "      <td>[26, 42]</td>\n",
       "    </tr>\n",
       "  </tbody>\n",
       "</table>\n",
       "</div>"
      ],
      "text/plain": [
       "         record_id     device_id  Temperature  Humidity PM25_cluster\n",
       "1250438    1727166  74DA38B05374        26.12        53     [26, 42]\n",
       "1250439    1727167  74DA38B05374        26.00        53      [1, 25]\n",
       "1250440    1727168  74DA38B05374        25.87        53     [26, 42]\n",
       "1250441    1727169  74DA38B05374        25.75        52     [26, 42]\n",
       "1250442    1727170  74DA38B05374        25.38        52     [26, 42]"
      ]
     },
     "execution_count": 34,
     "metadata": {},
     "output_type": "execute_result"
    }
   ],
   "source": [
    "q2 = data.drop(['DateTime', 'PM25', 'PM10', 'PM1', 'lat', 'lon'], axis=1)\n",
    "q2['PM25_cluster'] = q1['PM25_cluster']\n",
    "q2.tail()"
   ]
  },
  {
   "cell_type": "code",
   "execution_count": 35,
   "metadata": {},
   "outputs": [
    {
     "data": {
      "text/html": [
       "<div>\n",
       "<style scoped>\n",
       "    .dataframe tbody tr th:only-of-type {\n",
       "        vertical-align: middle;\n",
       "    }\n",
       "\n",
       "    .dataframe tbody tr th {\n",
       "        vertical-align: top;\n",
       "    }\n",
       "\n",
       "    .dataframe thead th {\n",
       "        text-align: right;\n",
       "    }\n",
       "</style>\n",
       "<table border=\"1\" class=\"dataframe\">\n",
       "  <thead>\n",
       "    <tr style=\"text-align: right;\">\n",
       "      <th></th>\n",
       "      <th>record_id</th>\n",
       "      <th>device_id</th>\n",
       "      <th>Temperature</th>\n",
       "      <th>Humidity</th>\n",
       "      <th>PM25_cluster</th>\n",
       "      <th>PM25_cluster_fut</th>\n",
       "    </tr>\n",
       "  </thead>\n",
       "  <tbody>\n",
       "    <tr>\n",
       "      <th>1250438</th>\n",
       "      <td>1727166</td>\n",
       "      <td>74DA38B05374</td>\n",
       "      <td>26.12</td>\n",
       "      <td>53</td>\n",
       "      <td>[26, 42]</td>\n",
       "      <td>[1, 25]</td>\n",
       "    </tr>\n",
       "    <tr>\n",
       "      <th>1250439</th>\n",
       "      <td>1727167</td>\n",
       "      <td>74DA38B05374</td>\n",
       "      <td>26.00</td>\n",
       "      <td>53</td>\n",
       "      <td>[1, 25]</td>\n",
       "      <td>[26, 42]</td>\n",
       "    </tr>\n",
       "    <tr>\n",
       "      <th>1250440</th>\n",
       "      <td>1727168</td>\n",
       "      <td>74DA38B05374</td>\n",
       "      <td>25.87</td>\n",
       "      <td>53</td>\n",
       "      <td>[26, 42]</td>\n",
       "      <td>[26, 42]</td>\n",
       "    </tr>\n",
       "    <tr>\n",
       "      <th>1250441</th>\n",
       "      <td>1727169</td>\n",
       "      <td>74DA38B05374</td>\n",
       "      <td>25.75</td>\n",
       "      <td>52</td>\n",
       "      <td>[26, 42]</td>\n",
       "      <td>[26, 42]</td>\n",
       "    </tr>\n",
       "    <tr>\n",
       "      <th>1250442</th>\n",
       "      <td>1727170</td>\n",
       "      <td>74DA38B05374</td>\n",
       "      <td>25.38</td>\n",
       "      <td>52</td>\n",
       "      <td>[26, 42]</td>\n",
       "      <td>NaN</td>\n",
       "    </tr>\n",
       "  </tbody>\n",
       "</table>\n",
       "</div>"
      ],
      "text/plain": [
       "         record_id     device_id  Temperature  Humidity PM25_cluster  \\\n",
       "1250438    1727166  74DA38B05374        26.12        53     [26, 42]   \n",
       "1250439    1727167  74DA38B05374        26.00        53      [1, 25]   \n",
       "1250440    1727168  74DA38B05374        25.87        53     [26, 42]   \n",
       "1250441    1727169  74DA38B05374        25.75        52     [26, 42]   \n",
       "1250442    1727170  74DA38B05374        25.38        52     [26, 42]   \n",
       "\n",
       "        PM25_cluster_fut  \n",
       "1250438          [1, 25]  \n",
       "1250439         [26, 42]  \n",
       "1250440         [26, 42]  \n",
       "1250441         [26, 42]  \n",
       "1250442              NaN  "
      ]
     },
     "execution_count": 35,
     "metadata": {},
     "output_type": "execute_result"
    }
   ],
   "source": [
    "q2['PM25_cluster_fut'] = q2['PM25_cluster'].shift(-1)\n",
    "q2.tail()"
   ]
  },
  {
   "cell_type": "code",
   "execution_count": 36,
   "metadata": {},
   "outputs": [
    {
     "data": {
      "text/plain": [
       "1470     14243\n",
       "2739     15512\n",
       "4210     27000\n",
       "5242     33022\n",
       "6510     34290\n",
       "7779     40126\n",
       "9245     47413\n",
       "10673    48841\n",
       "12144    50312\n",
       "13057    69831\n",
       "Name: record_id, dtype: int64"
      ]
     },
     "execution_count": 36,
     "metadata": {},
     "output_type": "execute_result"
    }
   ],
   "source": [
    "q2.groupby(\"device_id\").tail(1)['record_id'].head(10)"
   ]
  },
  {
   "cell_type": "code",
   "execution_count": 37,
   "metadata": {},
   "outputs": [],
   "source": [
    "q2 = q2[~q2['record_id'].isin(q2.groupby(\"device_id\").tail(1)['record_id'])]"
   ]
  },
  {
   "cell_type": "code",
   "execution_count": 38,
   "metadata": {},
   "outputs": [
    {
     "data": {
      "text/html": [
       "<div>\n",
       "<style scoped>\n",
       "    .dataframe tbody tr th:only-of-type {\n",
       "        vertical-align: middle;\n",
       "    }\n",
       "\n",
       "    .dataframe tbody tr th {\n",
       "        vertical-align: top;\n",
       "    }\n",
       "\n",
       "    .dataframe thead th {\n",
       "        text-align: right;\n",
       "    }\n",
       "</style>\n",
       "<table border=\"1\" class=\"dataframe\">\n",
       "  <thead>\n",
       "    <tr style=\"text-align: right;\">\n",
       "      <th></th>\n",
       "      <th>record_id</th>\n",
       "      <th>device_id</th>\n",
       "      <th>Temperature</th>\n",
       "      <th>Humidity</th>\n",
       "      <th>PM25_cluster</th>\n",
       "      <th>PM25_cluster_fut</th>\n",
       "    </tr>\n",
       "  </thead>\n",
       "  <tbody>\n",
       "    <tr>\n",
       "      <th>1250437</th>\n",
       "      <td>1727165</td>\n",
       "      <td>74DA38B05374</td>\n",
       "      <td>26.25</td>\n",
       "      <td>53</td>\n",
       "      <td>[26, 42]</td>\n",
       "      <td>[26, 42]</td>\n",
       "    </tr>\n",
       "    <tr>\n",
       "      <th>1250438</th>\n",
       "      <td>1727166</td>\n",
       "      <td>74DA38B05374</td>\n",
       "      <td>26.12</td>\n",
       "      <td>53</td>\n",
       "      <td>[26, 42]</td>\n",
       "      <td>[1, 25]</td>\n",
       "    </tr>\n",
       "    <tr>\n",
       "      <th>1250439</th>\n",
       "      <td>1727167</td>\n",
       "      <td>74DA38B05374</td>\n",
       "      <td>26.00</td>\n",
       "      <td>53</td>\n",
       "      <td>[1, 25]</td>\n",
       "      <td>[26, 42]</td>\n",
       "    </tr>\n",
       "    <tr>\n",
       "      <th>1250440</th>\n",
       "      <td>1727168</td>\n",
       "      <td>74DA38B05374</td>\n",
       "      <td>25.87</td>\n",
       "      <td>53</td>\n",
       "      <td>[26, 42]</td>\n",
       "      <td>[26, 42]</td>\n",
       "    </tr>\n",
       "    <tr>\n",
       "      <th>1250441</th>\n",
       "      <td>1727169</td>\n",
       "      <td>74DA38B05374</td>\n",
       "      <td>25.75</td>\n",
       "      <td>52</td>\n",
       "      <td>[26, 42]</td>\n",
       "      <td>[26, 42]</td>\n",
       "    </tr>\n",
       "  </tbody>\n",
       "</table>\n",
       "</div>"
      ],
      "text/plain": [
       "         record_id     device_id  Temperature  Humidity PM25_cluster  \\\n",
       "1250437    1727165  74DA38B05374        26.25        53     [26, 42]   \n",
       "1250438    1727166  74DA38B05374        26.12        53     [26, 42]   \n",
       "1250439    1727167  74DA38B05374        26.00        53      [1, 25]   \n",
       "1250440    1727168  74DA38B05374        25.87        53     [26, 42]   \n",
       "1250441    1727169  74DA38B05374        25.75        52     [26, 42]   \n",
       "\n",
       "        PM25_cluster_fut  \n",
       "1250437         [26, 42]  \n",
       "1250438          [1, 25]  \n",
       "1250439         [26, 42]  \n",
       "1250440         [26, 42]  \n",
       "1250441         [26, 42]  "
      ]
     },
     "execution_count": 38,
     "metadata": {},
     "output_type": "execute_result"
    }
   ],
   "source": [
    "q2.tail()"
   ]
  },
  {
   "cell_type": "markdown",
   "metadata": {},
   "source": [
    "### Step 2: Observation & Discretization\n",
    "與前一個 Task 一樣"
   ]
  },
  {
   "cell_type": "markdown",
   "metadata": {},
   "source": [
    "### Step3: find rules by FP-growth algorithm\n",
    "\n",
    "用 orange3-associate 提供的 FP-growth algorithm 找 discretization 後的資料中的 rules\n",
    "\n",
    "- 挑出support > 1000/總數的patterns\n",
    "- 挑出confidence > 0.7 的 rules"
   ]
  },
  {
   "cell_type": "code",
   "execution_count": 39,
   "metadata": {},
   "outputs": [],
   "source": [
    "result = []\n",
    "result.append(pd.qcut(q2['Temperature'], 10))\n",
    "result.append(pd.cut(q2['Humidity'], 10))\n",
    "\n",
    "# 合併切過的資料\n",
    "data_cut = []\n",
    "pm25_fut_items = ['PM25_FUT ' + x for x in q2['PM25_cluster_fut']]\n",
    "pm25_items = ['PM25 ' + x for x in q2['PM25_cluster']]\n",
    "temp_items = ['Temp ' + str(x) for x in result[0]]\n",
    "humd_items = ['Humd ' + str(x) for x in result[1]]\n",
    "#     print('PM25 %d' % i, end='\\r')\n",
    "data_cut.append(pm25_fut_items)\n",
    "data_cut.append(pm25_items)\n",
    "data_cut.append(temp_items)\n",
    "data_cut.append(humd_items)\n",
    "transactions = list(zip(*data_cut))"
   ]
  },
  {
   "cell_type": "markdown",
   "metadata": {},
   "source": [
    "#### Fp-growth"
   ]
  },
  {
   "cell_type": "code",
   "execution_count": 40,
   "metadata": {},
   "outputs": [],
   "source": [
    "from orangecontrib.associate import fpgrowth as fpg\n",
    "\n",
    "start = time.time()\n",
    "itemset = set().union(*transactions)\n",
    "decoder = {i: k for i, k in enumerate(itemset)}\n",
    "encoder = {k: i for i, k in enumerate(itemset)}\n",
    "\n",
    "\n",
    "itemsets =  dict(fpg.frequent_itemsets([[encoder[i] for i in t] for t in transactions], 10000/len(transactions)))\n",
    "rules = list(fpg.association_rules(itemsets, .7))"
   ]
  },
  {
   "cell_type": "code",
   "execution_count": 41,
   "metadata": {},
   "outputs": [
    {
     "name": "stdout",
     "output_type": "stream",
     "text": [
      "Fpgrowth took 7.3626813888549805 seconds.\n",
      "164 Results\n",
      "['Humd (70.0, 80.0]', 'PM25 [43, 58]', 'Temp (20.28, 22.11]']  ->  ['PM25_FUT [43, 58]'] 0.8676268861454046\n",
      "['Temp (20.28, 22.11]', 'Humd (70.0, 80.0]', 'PM25_FUT [43, 58]']  ->  ['PM25 [43, 58]'] 0.8685204256779951\n",
      "['Temp (28.26, 29.57]', 'PM25_FUT [43, 58]', 'Humd (70.0, 80.0]']  ->  ['PM25 [43, 58]'] 0.8100136623000884\n",
      "['Temp (28.26, 29.57]', 'PM25 [43, 58]', 'Humd (70.0, 80.0]']  ->  ['PM25_FUT [43, 58]'] 0.813281691277334\n",
      "['Humd (70.0, 80.0]', 'PM25 [43, 58]', 'Temp (26.37, 27.26]']  ->  ['PM25_FUT [43, 58]'] 0.8453959027433189\n",
      "['Temp (26.37, 27.26]', 'Humd (70.0, 80.0]', 'PM25_FUT [43, 58]']  ->  ['PM25 [43, 58]'] 0.8473179396092362\n",
      "['Temp (28.26, 29.57]', 'PM25 [26, 42]', 'Humd (70.0, 80.0]']  ->  ['PM25_FUT [26, 42]'] 0.8602572145545797\n",
      "['PM25_FUT [26, 42]', 'Temp (28.26, 29.57]', 'Humd (70.0, 80.0]']  ->  ['PM25 [26, 42]'] 0.841644928648151\n",
      "['Humd (60.0, 70.0]', 'Temp (27.26, 28.26]', 'PM25 [26, 42]']  ->  ['PM25_FUT [26, 42]'] 0.8642274173467976\n",
      "['PM25_FUT [26, 42]', 'Humd (60.0, 70.0]', 'Temp (27.26, 28.26]']  ->  ['PM25 [26, 42]'] 0.8705497108618407\n",
      "['Temp (26.37, 27.26]', 'Humd (60.0, 70.0]', 'PM25 [43, 58]']  ->  ['PM25_FUT [43, 58]'] 0.8488101181560992\n",
      "['Temp (26.37, 27.26]', 'Humd (60.0, 70.0]', 'PM25_FUT [43, 58]']  ->  ['PM25 [43, 58]'] 0.8443837430676269\n",
      "['Temp (28.26, 29.57]', 'Humd (60.0, 70.0]', 'PM25 [26, 42]']  ->  ['PM25_FUT [26, 42]'] 0.8648664411524554\n",
      "['PM25_FUT [26, 42]', 'Temp (28.26, 29.57]', 'Humd (60.0, 70.0]']  ->  ['PM25 [26, 42]'] 0.861900610287707\n",
      "['Humd (70.0, 80.0]', 'PM25_FUT [43, 58]', 'Temp (6.479, 20.28]']  ->  ['PM25 [43, 58]'] 0.871280276816609\n",
      "['Humd (70.0, 80.0]', 'PM25 [43, 58]', 'Temp (6.479, 20.28]']  ->  ['PM25_FUT [43, 58]'] 0.8686502802932299\n",
      "['Humd (60.0, 70.0]', 'PM25 [26, 42]', 'Temp (29.57, 52.62]']  ->  ['PM25_FUT [26, 42]'] 0.8622496408349531\n",
      "['PM25_FUT [26, 42]', 'Humd (60.0, 70.0]', 'Temp (29.57, 52.62]']  ->  ['PM25 [26, 42]'] 0.8584409574691851\n",
      "['PM25 [43, 58]', 'Humd (60.0, 70.0]', 'Temp (27.26, 28.26]']  ->  ['PM25_FUT [43, 58]'] 0.8394685423993747\n",
      "['Humd (60.0, 70.0]', 'PM25_FUT [43, 58]', 'Temp (27.26, 28.26]']  ->  ['PM25 [43, 58]'] 0.8352255054432348\n",
      "['Humd (70.0, 80.0]', 'PM25_FUT [43, 58]', 'Temp (27.26, 28.26]']  ->  ['PM25 [43, 58]'] 0.8399183554454002\n",
      "['Humd (70.0, 80.0]', 'PM25 [43, 58]', 'Temp (27.26, 28.26]']  ->  ['PM25_FUT [43, 58]'] 0.8393676695563488\n",
      "['Humd (90.0, 100.0]', 'Temp (6.479, 20.28]', 'PM25 [1, 25]']  ->  ['PM25_FUT [1, 25]'] 0.9145132593408456\n",
      "['PM25_FUT [1, 25]', 'Humd (90.0, 100.0]', 'Temp (6.479, 20.28]']  ->  ['PM25 [1, 25]'] 0.911886457717327\n",
      "['Humd (50.0, 60.0]', 'PM25 [26, 42]', 'Temp (29.57, 52.62]']  ->  ['PM25_FUT [26, 42]'] 0.8739910037587035\n",
      "['PM25_FUT [26, 42]', 'Humd (50.0, 60.0]', 'Temp (29.57, 52.62]']  ->  ['PM25 [26, 42]'] 0.8699172033118675\n",
      "['Humd (70.0, 80.0]', 'PM25_FUT [43, 58]', 'Temp (24.53, 25.5]']  ->  ['PM25 [43, 58]'] 0.8620788736441347\n",
      "['Humd (70.0, 80.0]', 'PM25 [43, 58]', 'Temp (24.53, 25.5]']  ->  ['PM25_FUT [43, 58]'] 0.855686274509804\n",
      "['Humd (60.0, 70.0]', 'Temp (26.37, 27.26]', 'PM25 [26, 42]']  ->  ['PM25_FUT [26, 42]'] 0.8565471894795926\n",
      "['PM25_FUT [26, 42]', 'Humd (60.0, 70.0]', 'Temp (26.37, 27.26]']  ->  ['PM25 [26, 42]'] 0.8650793650793651\n",
      "['Temp (28.26, 29.57]', 'PM25 [43, 58]', 'Humd (60.0, 70.0]']  ->  ['PM25_FUT [43, 58]'] 0.8142106501450866\n",
      "['Temp (28.26, 29.57]', 'Humd (60.0, 70.0]', 'PM25_FUT [43, 58]']  ->  ['PM25 [43, 58]'] 0.8177378701953372\n",
      "['Temp (25.5, 26.37]', 'Humd (70.0, 80.0]', 'PM25_FUT [43, 58]']  ->  ['PM25 [43, 58]'] 0.8526963698678044\n",
      "['Temp (25.5, 26.37]', 'Humd (70.0, 80.0]', 'PM25 [43, 58]']  ->  ['PM25_FUT [43, 58]'] 0.8479515893440912\n",
      "['Temp (26.37, 27.26]', 'PM25 [59, 81]']  ->  ['PM25_FUT [59, 81]'] 0.7991937751945252\n",
      "['PM25_FUT [59, 81]', 'Temp (26.37, 27.26]']  ->  ['PM25 [59, 81]'] 0.7982209737827716\n",
      "['Temp (23.4, 24.53]', 'PM25 [26, 42]']  ->  ['PM25_FUT [26, 42]'] 0.8445727412870658\n",
      "['PM25_FUT [26, 42]', 'Temp (23.4, 24.53]']  ->  ['PM25 [26, 42]'] 0.8527176732688375\n",
      "['Humd (50.0, 60.0]', 'PM25 [26, 42]']  ->  ['PM25_FUT [26, 42]'] 0.8855216723900555\n",
      "['PM25_FUT [26, 42]', 'Humd (50.0, 60.0]']  ->  ['PM25 [26, 42]'] 0.8874456814793669\n",
      "['Humd (70.0, 80.0]', 'PM25 [1, 25]']  ->  ['PM25_FUT [1, 25]'] 0.8961101041687414\n",
      "['PM25_FUT [1, 25]', 'Humd (70.0, 80.0]']  ->  ['PM25 [1, 25]'] 0.8929088852283327\n",
      "['PM25_FUT [43, 58]', 'Temp (23.4, 24.53]']  ->  ['PM25 [43, 58]'] 0.8606299754525224\n",
      "['PM25 [43, 58]', 'Temp (23.4, 24.53]']  ->  ['PM25_FUT [43, 58]'] 0.8590139909779946\n",
      "['Temp (24.53, 25.5]', 'PM25 [1, 25]']  ->  ['PM25_FUT [1, 25]'] 0.9087023422807318\n",
      "['PM25_FUT [1, 25]', 'Temp (24.53, 25.5]']  ->  ['PM25 [1, 25]'] 0.9016625197919023\n",
      "['Temp (28.26, 29.57]', 'PM25_FUT [43, 58]']  ->  ['PM25 [43, 58]'] 0.808753075229833\n",
      "['Temp (28.26, 29.57]', 'PM25 [43, 58]']  ->  ['PM25_FUT [43, 58]'] 0.8137898686679175\n",
      "['Humd (90.0, 100.0]', 'PM25 [26, 42]']  ->  ['PM25_FUT [26, 42]'] 0.8078725599793619\n",
      "['PM25_FUT [26, 42]', 'Humd (90.0, 100.0]']  ->  ['PM25 [26, 42]'] 0.803932055450967\n",
      "['Temp (25.5, 26.37]', 'PM25 [26, 42]']  ->  ['PM25_FUT [26, 42]'] 0.8503738288274078\n",
      "['Temp (25.5, 26.37]', 'PM25_FUT [26, 42]']  ->  ['PM25 [26, 42]'] 0.8536322756349357\n",
      "['Humd (70.0, 80.0]', 'PM25 [26, 42]']  ->  ['PM25_FUT [26, 42]'] 0.8463088330109607\n",
      "['PM25_FUT [26, 42]', 'Humd (70.0, 80.0]']  ->  ['PM25 [26, 42]'] 0.844649554087614\n",
      "['Temp (24.53, 25.5]', 'PM25 [59, 81]']  ->  ['PM25_FUT [59, 81]'] 0.8179739217652959\n",
      "['PM25_FUT [59, 81]', 'Temp (24.53, 25.5]']  ->  ['PM25 [59, 81]'] 0.8113658070678128\n",
      "['Humd (90.0, 100.0]', 'PM25_FUT [43, 58]']  ->  ['PM25 [43, 58]'] 0.849189520966437\n",
      "['Humd (90.0, 100.0]', 'PM25 [43, 58]']  ->  ['PM25_FUT [43, 58]'] 0.8452513190780339\n",
      "['PM25 [59, 81]', 'Temp (6.479, 20.28]']  ->  ['PM25_FUT [59, 81]'] 0.8188988437093192\n",
      "['PM25_FUT [59, 81]', 'Temp (6.479, 20.28]']  ->  ['PM25 [59, 81]'] 0.8066681753036132\n",
      "['PM25 [26, 42]', 'Temp (6.479, 20.28]']  ->  ['PM25_FUT [26, 42]'] 0.8314992178709625\n",
      "['PM25_FUT [26, 42]', 'Temp (6.479, 20.28]']  ->  ['PM25 [26, 42]'] 0.8334433624910601\n",
      "['Humd (80.0, 90.0]', 'PM25 [26, 42]']  ->  ['PM25_FUT [26, 42]'] 0.8180202428392359\n",
      "['PM25_FUT [26, 42]', 'Humd (80.0, 90.0]']  ->  ['PM25 [26, 42]'] 0.8161116918022996\n",
      "['Temp (23.4, 24.53]', 'PM25 [1, 25]']  ->  ['PM25_FUT [1, 25]'] 0.9085691470779059\n",
      "['PM25_FUT [1, 25]', 'Temp (23.4, 24.53]']  ->  ['PM25 [1, 25]'] 0.9007471179060907\n",
      "['PM25_FUT [43, 58]', 'Temp (24.53, 25.5]']  ->  ['PM25 [43, 58]'] 0.8589710992456988\n",
      "['PM25 [43, 58]', 'Temp (24.53, 25.5]']  ->  ['PM25_FUT [43, 58]'] 0.8558520520182402\n",
      "['Temp (24.53, 25.5]', 'PM25 [26, 42]']  ->  ['PM25_FUT [26, 42]'] 0.846371090191315\n",
      "['PM25_FUT [26, 42]', 'Temp (24.53, 25.5]']  ->  ['PM25 [26, 42]'] 0.8516990587947684\n",
      "['Temp (25.5, 26.37]', 'PM25 [59, 81]']  ->  ['PM25_FUT [59, 81]'] 0.807046623315908\n",
      "['Temp (25.5, 26.37]', 'PM25_FUT [59, 81]']  ->  ['PM25 [59, 81]'] 0.7993012585764195\n",
      "['Temp (27.26, 28.26]', 'PM25 [26, 42]']  ->  ['PM25_FUT [26, 42]'] 0.8570965570541746\n",
      "['PM25_FUT [26, 42]', 'Temp (27.26, 28.26]']  ->  ['PM25 [26, 42]'] 0.8601200900675506\n",
      "['Temp (26.37, 27.26]', 'PM25 [1, 25]']  ->  ['PM25_FUT [1, 25]'] 0.9002740075192761\n",
      "['PM25_FUT [1, 25]', 'Temp (26.37, 27.26]']  ->  ['PM25 [1, 25]'] 0.9055829754502916\n",
      "['Temp (20.28, 22.11]', 'PM25 [59, 81]']  ->  ['PM25_FUT [59, 81]'] 0.8330230010952903\n",
      "['PM25_FUT [59, 81]', 'Temp (20.28, 22.11]']  ->  ['PM25 [59, 81]'] 0.8271343121261555\n",
      "['Temp (20.28, 22.11]', 'PM25 [26, 42]']  ->  ['PM25_FUT [26, 42]'] 0.8331256403865858\n",
      "['PM25_FUT [26, 42]', 'Temp (20.28, 22.11]']  ->  ['PM25 [26, 42]'] 0.8382090716594227\n",
      "['Temp (27.26, 28.26]', 'PM25 [1, 25]']  ->  ['PM25_FUT [1, 25]'] 0.9018848584932521\n",
      "['PM25_FUT [1, 25]', 'Temp (27.26, 28.26]']  ->  ['PM25 [1, 25]'] 0.9051837457849917\n",
      "['PM25_FUT [43, 58]', 'Temp (6.479, 20.28]']  ->  ['PM25 [43, 58]'] 0.8646166035306643\n",
      "['PM25 [43, 58]', 'Temp (6.479, 20.28]']  ->  ['PM25_FUT [43, 58]'] 0.8620127866505394\n",
      "['Humd (60.0, 70.0]', 'PM25 [43, 58]']  ->  ['PM25_FUT [43, 58]'] 0.8389324222026721\n",
      "['Humd (60.0, 70.0]', 'PM25_FUT [43, 58]']  ->  ['PM25 [43, 58]'] 0.8387436589756178\n",
      "['Temp (20.28, 22.11]', 'PM25 [1, 25]']  ->  ['PM25_FUT [1, 25]'] 0.9033267205859912\n",
      "['PM25_FUT [1, 25]', 'Temp (20.28, 22.11]']  ->  ['PM25 [1, 25]'] 0.9018816180391559\n",
      "['Humd (70.0, 80.0]', 'PM25_FUT [43, 58]']  ->  ['PM25 [43, 58]'] 0.8490071405982124\n",
      "['Humd (70.0, 80.0]', 'PM25 [43, 58]']  ->  ['PM25_FUT [43, 58]'] 0.845930594137402\n",
      "['Temp (27.26, 28.26]', 'PM25 [59, 81]']  ->  ['PM25_FUT [59, 81]'] 0.7835372397510195\n",
      "['PM25_FUT [59, 81]', 'Temp (27.26, 28.26]']  ->  ['PM25 [59, 81]'] 0.7887856525496975\n",
      "['Humd (60.0, 70.0]', 'PM25 [1, 25]']  ->  ['PM25_FUT [1, 25]'] 0.9068164917788978\n",
      "['PM25_FUT [1, 25]', 'Humd (60.0, 70.0]']  ->  ['PM25 [1, 25]'] 0.9047681857152279\n",
      "['Temp (22.11, 23.4]', 'PM25 [26, 42]']  ->  ['PM25_FUT [26, 42]'] 0.8415481786981225\n",
      "['PM25_FUT [26, 42]', 'Temp (22.11, 23.4]']  ->  ['PM25 [26, 42]'] 0.8461850767044631\n",
      "['Temp (28.26, 29.57]', 'PM25 [26, 42]']  ->  ['PM25_FUT [26, 42]'] 0.8652489520498926\n",
      "['PM25_FUT [26, 42]', 'Temp (28.26, 29.57]']  ->  ['PM25 [26, 42]'] 0.8558166814982606\n",
      "['Temp (28.26, 29.57]', 'PM25 [59, 81]']  ->  ['PM25_FUT [59, 81]'] 0.7432198099465909\n",
      "['Temp (28.26, 29.57]', 'PM25_FUT [59, 81]']  ->  ['PM25 [59, 81]'] 0.7611166358857793\n",
      "['PM25_FUT [43, 58]', 'Temp (29.57, 52.62]']  ->  ['PM25 [43, 58]'] 0.769248670212766\n",
      "['PM25 [43, 58]', 'Temp (29.57, 52.62]']  ->  ['PM25_FUT [43, 58]'] 0.7631092935822176\n",
      "['Humd (70.0, 80.0]', 'PM25 [59, 81]']  ->  ['PM25_FUT [59, 81]'] 0.7922652557850539\n",
      "['Humd (70.0, 80.0]', 'PM25_FUT [59, 81]']  ->  ['PM25 [59, 81]'] 0.7906723289112706\n",
      "['PM25 [43, 58]', 'Temp (26.37, 27.26]']  ->  ['PM25_FUT [43, 58]'] 0.8514962789756504\n",
      "['Temp (26.37, 27.26]', 'PM25_FUT [43, 58]']  ->  ['PM25 [43, 58]'] 0.8469072856567825\n",
      "['Humd (90.0, 100.0]', 'PM25_FUT [82, 695]']  ->  ['PM25 [82, 695]'] 0.828460997891778\n",
      "['Humd (90.0, 100.0]', 'PM25 [82, 695]']  ->  ['PM25_FUT [82, 695]'] 0.8225648897571867\n",
      "['Temp (25.5, 26.37]', 'PM25 [1, 25]']  ->  ['PM25_FUT [1, 25]'] 0.9143788391625924\n",
      "['Temp (25.5, 26.37]', 'PM25_FUT [1, 25]']  ->  ['PM25 [1, 25]'] 0.9114651671352703\n",
      "['PM25_FUT [43, 58]', 'Temp (27.26, 28.26]']  ->  ['PM25 [43, 58]'] 0.8376023297943085\n",
      "['PM25 [43, 58]', 'Temp (27.26, 28.26]']  ->  ['PM25_FUT [43, 58]'] 0.845102031372912\n",
      "['Temp (28.26, 29.57]', 'PM25 [1, 25]']  ->  ['PM25_FUT [1, 25]'] 0.884571249739203\n",
      "['PM25_FUT [1, 25]', 'Temp (28.26, 29.57]']  ->  ['PM25 [1, 25]'] 0.889675794774945\n",
      "['Humd (60.0, 70.0]', 'PM25 [26, 42]']  ->  ['PM25_FUT [26, 42]'] 0.8637372430399054\n",
      "['PM25_FUT [26, 42]', 'Humd (60.0, 70.0]']  ->  ['PM25 [26, 42]'] 0.867543399116956\n",
      "['PM25 [43, 58]', 'Temp (20.28, 22.11]']  ->  ['PM25_FUT [43, 58]'] 0.853073538654934\n",
      "['Temp (20.28, 22.11]', 'PM25_FUT [43, 58]']  ->  ['PM25 [43, 58]'] 0.8556550245870634\n",
      "['PM25 [43, 58]', 'Temp (22.11, 23.4]']  ->  ['PM25_FUT [43, 58]'] 0.8534656278860498\n",
      "['Temp (22.11, 23.4]', 'PM25_FUT [43, 58]']  ->  ['PM25 [43, 58]'] 0.8598592389359417\n",
      "['Humd (50.0, 60.0]', 'PM25 [1, 25]']  ->  ['PM25_FUT [1, 25]'] 0.9192314641932181\n",
      "['PM25_FUT [1, 25]', 'Humd (50.0, 60.0]']  ->  ['PM25 [1, 25]'] 0.9250818281003758\n",
      "['Humd (60.0, 70.0]', 'PM25 [59, 81]']  ->  ['PM25_FUT [59, 81]'] 0.7552170703885124\n",
      "['PM25_FUT [59, 81]', 'Humd (60.0, 70.0]']  ->  ['PM25 [59, 81]'] 0.7479647782023592\n",
      "['Humd (80.0, 90.0]', 'PM25 [1, 25]']  ->  ['PM25_FUT [1, 25]'] 0.8925118421906431\n",
      "['PM25_FUT [1, 25]', 'Humd (80.0, 90.0]']  ->  ['PM25 [1, 25]'] 0.8861864570581792\n",
      "['Temp (6.479, 20.28]', 'PM25 [1, 25]']  ->  ['PM25_FUT [1, 25]'] 0.9157735429471539\n",
      "['PM25_FUT [1, 25]', 'Temp (6.479, 20.28]']  ->  ['PM25 [1, 25]'] 0.9172750897166192\n",
      "['Temp (29.57, 52.62]', 'PM25 [1, 25]']  ->  ['PM25_FUT [1, 25]'] 0.8728232639332396\n",
      "['PM25_FUT [1, 25]', 'Temp (29.57, 52.62]']  ->  ['PM25 [1, 25]'] 0.8632305878389759\n",
      "['PM25_FUT [43, 58]', 'Humd (50.0, 60.0]']  ->  ['PM25 [43, 58]'] 0.8297899266008606\n",
      "['PM25 [43, 58]', 'Humd (50.0, 60.0]']  ->  ['PM25_FUT [43, 58]'] 0.83965066844235\n",
      "['PM25_FUT [43, 58]', 'Humd (80.0, 90.0]']  ->  ['PM25 [43, 58]'] 0.8493603529426222\n",
      "['PM25 [43, 58]', 'Humd (80.0, 90.0]']  ->  ['PM25_FUT [43, 58]'] 0.8475584332769235\n",
      "['Temp (22.11, 23.4]', 'PM25 [59, 81]']  ->  ['PM25_FUT [59, 81]'] 0.8180530973451328\n",
      "['PM25_FUT [59, 81]', 'Temp (22.11, 23.4]']  ->  ['PM25 [59, 81]'] 0.814551863041289\n",
      "['Humd (80.0, 90.0]', 'PM25 [59, 81]']  ->  ['PM25_FUT [59, 81]'] 0.8221755564888702\n",
      "['PM25_FUT [59, 81]', 'Humd (80.0, 90.0]']  ->  ['PM25 [59, 81]'] 0.8265495693295052\n",
      "['PM25 [26, 42]', 'Temp (29.57, 52.62]']  ->  ['PM25_FUT [26, 42]'] 0.8682844579627732\n",
      "['PM25_FUT [26, 42]', 'Temp (29.57, 52.62]']  ->  ['PM25 [26, 42]'] 0.8576373581516858\n",
      "['Humd (90.0, 100.0]', 'PM25 [1, 25]']  ->  ['PM25_FUT [1, 25]'] 0.8968635751395035\n",
      "['PM25_FUT [1, 25]', 'Humd (90.0, 100.0]']  ->  ['PM25 [1, 25]'] 0.8846360674406099\n",
      "['Humd (80.0, 90.0]', 'PM25_FUT [82, 695]']  ->  ['PM25 [82, 695]'] 0.8113424361227525\n",
      "['PM25 [82, 695]', 'Humd (80.0, 90.0]']  ->  ['PM25_FUT [82, 695]'] 0.8157537039554166\n",
      "['Temp (23.4, 24.53]', 'PM25 [59, 81]']  ->  ['PM25_FUT [59, 81]'] 0.8230210699808455\n",
      "['PM25_FUT [59, 81]', 'Temp (23.4, 24.53]']  ->  ['PM25 [59, 81]'] 0.8201713499356328\n",
      "['Temp (22.11, 23.4]', 'PM25 [1, 25]']  ->  ['PM25_FUT [1, 25]'] 0.9079608810894799\n",
      "['PM25_FUT [1, 25]', 'Temp (22.11, 23.4]']  ->  ['PM25 [1, 25]'] 0.8979481153394197\n",
      "['Temp (25.5, 26.37]', 'PM25_FUT [43, 58]']  ->  ['PM25 [43, 58]'] 0.8545426669002979\n",
      "['Temp (25.5, 26.37]', 'PM25 [43, 58]']  ->  ['PM25_FUT [43, 58]'] 0.8531598513011153\n",
      "['Temp (26.37, 27.26]', 'PM25 [26, 42]']  ->  ['PM25_FUT [26, 42]'] 0.8506373150075566\n",
      "['PM25_FUT [26, 42]', 'Temp (26.37, 27.26]']  ->  ['PM25 [26, 42]'] 0.8545116012603838\n",
      "['Humd (90.0, 100.0]', 'PM25 [59, 81]']  ->  ['PM25_FUT [59, 81]'] 0.8272835601998259\n",
      "['Humd (90.0, 100.0]', 'PM25_FUT [59, 81]']  ->  ['PM25 [59, 81]'] 0.831532880340896\n",
      "['PM25 [26, 42]']  ->  ['PM25_FUT [26, 42]'] 0.8507576107662369\n",
      "['PM25_FUT [26, 42]']  ->  ['PM25 [26, 42]'] 0.8510788022611059\n",
      "['PM25 [59, 81]']  ->  ['PM25_FUT [59, 81]'] 0.7999891850970637\n",
      "['PM25_FUT [59, 81]']  ->  ['PM25 [59, 81]'] 0.8006949292893212\n",
      "['PM25_FUT [82, 695]']  ->  ['PM25 [82, 695]'] 0.7747239412692635\n",
      "['PM25 [82, 695]']  ->  ['PM25_FUT [82, 695]'] 0.7743950512462854\n",
      "['PM25_FUT [43, 58]']  ->  ['PM25 [43, 58]'] 0.8442740153386196\n",
      "['PM25 [43, 58]']  ->  ['PM25_FUT [43, 58]'] 0.8437479701983011\n",
      "['PM25 [1, 25]']  ->  ['PM25_FUT [1, 25]'] 0.9020445689351283\n",
      "['PM25_FUT [1, 25]']  ->  ['PM25 [1, 25]'] 0.8995164171163639\n"
     ]
    }
   ],
   "source": [
    "print(\"Fpgrowth took\", time.time() - start, \"seconds.\")\n",
    "print(len(rules), \"Results\")\n",
    "for rule in rules:\n",
    "    a = [decoder[i] for i in rule[0]]\n",
    "    b = [decoder[i] for i in rule[1]]\n",
    "    s, c = rule[2], rule[3]\n",
    "    print(a, ' -> ', b, c)\n"
   ]
  },
  {
   "cell_type": "markdown",
   "metadata": {},
   "source": [
    "### Step 4: Explantion\n",
    "- 未來 30 分鐘的 PM2.5 跟當前的 PM2.5 通常會落在同一個區間\n",
    "- 看起來沒有其他特殊的發現"
   ]
  },
  {
   "cell_type": "markdown",
   "metadata": {},
   "source": [
    "##  Task 3 - (PM2.5, PM10, PM1, loc)\n",
    "\n",
    "### Step 1: Transaction Definition\n",
    "找出 PM2.5, PM10, PM1 及座標之間的關係"
   ]
  },
  {
   "cell_type": "code",
   "execution_count": 42,
   "metadata": {},
   "outputs": [],
   "source": [
    "q3 = data.drop(['DateTime', 'Temperature', 'Humidity', 'PM25'], axis=1)\n",
    "q3['PM25_cluster'] = q1['PM25_cluster']"
   ]
  },
  {
   "cell_type": "markdown",
   "metadata": {},
   "source": [
    "### Step 2: Observation & Discretization\n",
    "觀察各 features 的分佈"
   ]
  },
  {
   "cell_type": "code",
   "execution_count": 43,
   "metadata": {},
   "outputs": [
    {
     "data": {
      "image/png": "[encoded data removed]",
      "text/plain": [
       "<matplotlib.figure.Figure at 0x7fbae4bde7f0>"
      ]
     },
     "metadata": {},
     "output_type": "display_data"
    }
   ],
   "source": [
    "fig, ax = plt.subplots(nrows=4)\n",
    "features = ['PM10', 'PM1', 'lat', 'lon']\n",
    "for i, f in enumerate(features):\n",
    "    ax[i].hist(q3[f], bins=100)\n",
    "    ax[i].set_title(f)\n",
    "    ax[i].set_ylabel('count')\n",
    "\n",
    "\n",
    "fig.tight_layout()\n",
    "plt.show()\n",
    "\n"
   ]
  },
  {
   "cell_type": "markdown",
   "metadata": {},
   "source": [
    "#### PM10, PM1 選用 equal-frequency 離散化"
   ]
  },
  {
   "cell_type": "code",
   "execution_count": 44,
   "metadata": {},
   "outputs": [
    {
     "data": {
      "image/png": "[encoded data removed]",
      "text/plain": [
       "<matplotlib.figure.Figure at 0x7fbae48b5518>"
      ]
     },
     "metadata": {},
     "output_type": "display_data"
    }
   ],
   "source": [
    "result = []\n",
    "result.append(pd.qcut(q3['PM10'], 4))\n",
    "result.append(pd.qcut(q3['PM1'], 4))\n",
    "\n",
    "fig, ax = plt.subplots(2,1)\n",
    "for i in range(len(result)):\n",
    "    result[i] = list(map(lambda x: str(x), result[i]))\n",
    "    ax[i].hist(result[i])\n",
    "    ax[i].set_title(q3.columns[i + 2])\n",
    "    for tick in ax[i].get_xticklabels():\n",
    "        tick.set_y(1)\n",
    "        tick.set_rotation(90)\n",
    "fig.tight_layout()\n",
    "plt.show()\n",
    "result = pd.DataFrame(list(zip(*result)))"
   ]
  },
  {
   "cell_type": "markdown",
   "metadata": {},
   "source": [
    "#### 經緯度屬於座標資訊，選用 KMeans Clustering 離散化"
   ]
  },
  {
   "cell_type": "code",
   "execution_count": 45,
   "metadata": {},
   "outputs": [],
   "source": [
    "X = q3[['lat', 'lon']]\n",
    "kmeans = KMeans(n_clusters=4, random_state=0).fit(X)\n",
    "q3['loc_cluster'] = kmeans.labels_"
   ]
  },
  {
   "cell_type": "code",
   "execution_count": 46,
   "metadata": {},
   "outputs": [
    {
     "data": {
      "text/html": [
       "<div>\n",
       "<style scoped>\n",
       "    .dataframe tbody tr th:only-of-type {\n",
       "        vertical-align: middle;\n",
       "    }\n",
       "\n",
       "    .dataframe tbody tr th {\n",
       "        vertical-align: top;\n",
       "    }\n",
       "\n",
       "    .dataframe thead th {\n",
       "        text-align: right;\n",
       "    }\n",
       "</style>\n",
       "<table border=\"1\" class=\"dataframe\">\n",
       "  <thead>\n",
       "    <tr style=\"text-align: right;\">\n",
       "      <th></th>\n",
       "      <th>record_id</th>\n",
       "      <th>device_id</th>\n",
       "      <th>PM10</th>\n",
       "      <th>PM1</th>\n",
       "      <th>lat</th>\n",
       "      <th>lon</th>\n",
       "      <th>PM25_cluster</th>\n",
       "      <th>loc_cluster</th>\n",
       "    </tr>\n",
       "  </thead>\n",
       "  <tbody>\n",
       "    <tr>\n",
       "      <th>0</th>\n",
       "      <td>12773</td>\n",
       "      <td>28C2DDDD415C</td>\n",
       "      <td>0</td>\n",
       "      <td>0</td>\n",
       "      <td>23.741</td>\n",
       "      <td>120.755</td>\n",
       "      <td>[43, 58]</td>\n",
       "      <td>1</td>\n",
       "    </tr>\n",
       "    <tr>\n",
       "      <th>1</th>\n",
       "      <td>12774</td>\n",
       "      <td>28C2DDDD415C</td>\n",
       "      <td>0</td>\n",
       "      <td>0</td>\n",
       "      <td>23.741</td>\n",
       "      <td>120.755</td>\n",
       "      <td>[26, 42]</td>\n",
       "      <td>1</td>\n",
       "    </tr>\n",
       "    <tr>\n",
       "      <th>2</th>\n",
       "      <td>12775</td>\n",
       "      <td>28C2DDDD415C</td>\n",
       "      <td>0</td>\n",
       "      <td>0</td>\n",
       "      <td>23.741</td>\n",
       "      <td>120.755</td>\n",
       "      <td>[26, 42]</td>\n",
       "      <td>1</td>\n",
       "    </tr>\n",
       "    <tr>\n",
       "      <th>3</th>\n",
       "      <td>12776</td>\n",
       "      <td>28C2DDDD415C</td>\n",
       "      <td>0</td>\n",
       "      <td>0</td>\n",
       "      <td>23.741</td>\n",
       "      <td>120.755</td>\n",
       "      <td>[43, 58]</td>\n",
       "      <td>1</td>\n",
       "    </tr>\n",
       "    <tr>\n",
       "      <th>4</th>\n",
       "      <td>12777</td>\n",
       "      <td>28C2DDDD415C</td>\n",
       "      <td>0</td>\n",
       "      <td>0</td>\n",
       "      <td>23.741</td>\n",
       "      <td>120.755</td>\n",
       "      <td>[43, 58]</td>\n",
       "      <td>1</td>\n",
       "    </tr>\n",
       "  </tbody>\n",
       "</table>\n",
       "</div>"
      ],
      "text/plain": [
       "   record_id     device_id  PM10  PM1     lat      lon PM25_cluster  \\\n",
       "0      12773  28C2DDDD415C     0    0  23.741  120.755     [43, 58]   \n",
       "1      12774  28C2DDDD415C     0    0  23.741  120.755     [26, 42]   \n",
       "2      12775  28C2DDDD415C     0    0  23.741  120.755     [26, 42]   \n",
       "3      12776  28C2DDDD415C     0    0  23.741  120.755     [43, 58]   \n",
       "4      12777  28C2DDDD415C     0    0  23.741  120.755     [43, 58]   \n",
       "\n",
       "   loc_cluster  \n",
       "0            1  \n",
       "1            1  \n",
       "2            1  \n",
       "3            1  \n",
       "4            1  "
      ]
     },
     "execution_count": 46,
     "metadata": {},
     "output_type": "execute_result"
    }
   ],
   "source": [
    "q3.head()"
   ]
  },
  {
   "cell_type": "markdown",
   "metadata": {},
   "source": [
    "#### 各 cluster 數量統計"
   ]
  },
  {
   "cell_type": "code",
   "execution_count": 47,
   "metadata": {},
   "outputs": [
    {
     "data": {
      "text/plain": [
       "loc_cluster\n",
       "0    339281\n",
       "1    486807\n",
       "2    133922\n",
       "3    290433\n",
       "Name: record_id, dtype: int64"
      ]
     },
     "execution_count": 47,
     "metadata": {},
     "output_type": "execute_result"
    }
   ],
   "source": [
    "q3.groupby('loc_cluster')['record_id'].count()"
   ]
  },
  {
   "cell_type": "markdown",
   "metadata": {},
   "source": [
    "#### 選用每個感測器的第1筆資料的座標資訊繪圖"
   ]
  },
  {
   "cell_type": "code",
   "execution_count": 48,
   "metadata": {},
   "outputs": [
    {
     "data": {
      "text/html": [
       "<div>\n",
       "<style scoped>\n",
       "    .dataframe tbody tr th:only-of-type {\n",
       "        vertical-align: middle;\n",
       "    }\n",
       "\n",
       "    .dataframe tbody tr th {\n",
       "        vertical-align: top;\n",
       "    }\n",
       "\n",
       "    .dataframe thead th {\n",
       "        text-align: right;\n",
       "    }\n",
       "</style>\n",
       "<table border=\"1\" class=\"dataframe\">\n",
       "  <thead>\n",
       "    <tr style=\"text-align: right;\">\n",
       "      <th></th>\n",
       "      <th>lat</th>\n",
       "      <th>lon</th>\n",
       "      <th>loc_cluster</th>\n",
       "    </tr>\n",
       "    <tr>\n",
       "      <th>device_id</th>\n",
       "      <th></th>\n",
       "      <th></th>\n",
       "      <th></th>\n",
       "    </tr>\n",
       "  </thead>\n",
       "  <tbody>\n",
       "    <tr>\n",
       "      <th>28C2DDDD415C</th>\n",
       "      <td>23.741</td>\n",
       "      <td>120.755</td>\n",
       "      <td>1</td>\n",
       "    </tr>\n",
       "    <tr>\n",
       "      <th>28C2DDDD415F</th>\n",
       "      <td>22.996</td>\n",
       "      <td>120.222</td>\n",
       "      <td>0</td>\n",
       "    </tr>\n",
       "    <tr>\n",
       "      <th>28C2DDDD423C</th>\n",
       "      <td>24.990</td>\n",
       "      <td>121.576</td>\n",
       "      <td>2</td>\n",
       "    </tr>\n",
       "    <tr>\n",
       "      <th>28C2DDDD42C7</th>\n",
       "      <td>24.983</td>\n",
       "      <td>121.534</td>\n",
       "      <td>2</td>\n",
       "    </tr>\n",
       "    <tr>\n",
       "      <th>28C2DDDD42F7</th>\n",
       "      <td>24.998</td>\n",
       "      <td>121.539</td>\n",
       "      <td>2</td>\n",
       "    </tr>\n",
       "  </tbody>\n",
       "</table>\n",
       "</div>"
      ],
      "text/plain": [
       "                 lat      lon  loc_cluster\n",
       "device_id                                 \n",
       "28C2DDDD415C  23.741  120.755            1\n",
       "28C2DDDD415F  22.996  120.222            0\n",
       "28C2DDDD423C  24.990  121.576            2\n",
       "28C2DDDD42C7  24.983  121.534            2\n",
       "28C2DDDD42F7  24.998  121.539            2"
      ]
     },
     "execution_count": 48,
     "metadata": {},
     "output_type": "execute_result"
    }
   ],
   "source": [
    "device_loc_df = q3.groupby('device_id')[['lat', 'lon', 'loc_cluster']].first()\n",
    "device_loc_df.head()"
   ]
  },
  {
   "cell_type": "code",
   "execution_count": 49,
   "metadata": {},
   "outputs": [
    {
     "data": {
      "text/plain": [
       "<matplotlib.axes._subplots.AxesSubplot at 0x7fba5412ddd8>"
      ]
     },
     "execution_count": 49,
     "metadata": {},
     "output_type": "execute_result"
    },
    {
     "data": {
      "image/png": "[encoded data removed]",
      "text/plain": [
       "<matplotlib.figure.Figure at 0x7fba697f7748>"
      ]
     },
     "metadata": {},
     "output_type": "display_data"
    }
   ],
   "source": [
    "color = ['r', 'g', 'b', 'k']\n",
    "loc_color = [color[i] for i in list(device_loc_df['loc_cluster'])]\n",
    "device_loc_df.plot(\"lon\", \"lat\",kind=\"scatter\", color=loc_color)"
   ]
  },
  {
   "cell_type": "markdown",
   "metadata": {},
   "source": [
    "因為東部地形狹長，且感測器數量過少，無法正確分成北中南東四群，但北中南感測器有被分出來，結果大致上可以接受。"
   ]
  },
  {
   "cell_type": "markdown",
   "metadata": {},
   "source": [
    "### Step3: find rules by FP-growth algorithm\n",
    "\n",
    "用 orange3-associate 提供的 FP-growth algorithm 找 discretization 後的資料中的 rules\n",
    "\n",
    "- 挑出support > 100000/總數的patterns\n",
    "- 挑出confidence>0.7的rules"
   ]
  },
  {
   "cell_type": "code",
   "execution_count": 50,
   "metadata": {},
   "outputs": [],
   "source": [
    "# 合併切過的資料\n",
    "data_cut = []\n",
    "pm25_items = ['PM25 ' + x for x in q3['PM25_cluster']]\n",
    "loc_items = ['LOC ' + str(x) for x in q3['loc_cluster']]\n",
    "pm10_items = ['PM10 ' + x for x in result[0]]\n",
    "pm1_items = ['PM1 ' + x for x in result[1]]\n",
    "#     print('PM25 %d' % i, end='\\r')\n",
    "data_cut.append(pm25_items)\n",
    "data_cut.append(pm10_items)\n",
    "data_cut.append(pm1_items)\n",
    "data_cut.append(loc_items)\n",
    "transactions = list(zip(*data_cut))"
   ]
  },
  {
   "cell_type": "markdown",
   "metadata": {},
   "source": [
    "#### Fp-growth"
   ]
  },
  {
   "cell_type": "code",
   "execution_count": 51,
   "metadata": {},
   "outputs": [
    {
     "name": "stdout",
     "output_type": "stream",
     "text": [
      "Fpgrowth took 4.532580137252808 seconds.\n",
      "69 Results\n",
      "['LOC 1', 'PM10 (53.0, 70.0]', 'PM25 [43, 58]']  ->  ['PM1 (29.0, 37.0]'] 0.8859899360599296\n",
      "['LOC 1', 'PM1 (29.0, 37.0]', 'PM10 (53.0, 70.0]']  ->  ['PM25 [43, 58]'] 0.9879509939586216\n",
      "['LOC 1', 'PM10 (53.0, 70.0]']  ->  ['PM1 (29.0, 37.0]', 'PM25 [43, 58]'] 0.8319927237586334\n",
      "['LOC 1', 'PM1 (29.0, 37.0]']  ->  ['PM10 (53.0, 70.0]', 'PM25 [43, 58]'] 0.8411312974576697\n",
      "['LOC 1', 'PM1 (29.0, 37.0]', 'PM25 [43, 58]']  ->  ['PM10 (53.0, 70.0]'] 0.88682875104143\n",
      "['LOC 1', 'PM25 [26, 42]', 'PM10 (32.0, 53.0]']  ->  ['PM1 (20.0, 29.0]'] 0.9253893699482761\n",
      "['LOC 1', 'PM10 (32.0, 53.0]']  ->  ['PM1 (20.0, 29.0]', 'PM25 [26, 42]'] 0.8973782195924469\n",
      "['LOC 1', 'PM25 [26, 42]']  ->  ['PM1 (20.0, 29.0]', 'PM10 (32.0, 53.0]'] 0.7681043297317013\n",
      "['LOC 1', 'PM1 (20.0, 29.0]', 'PM10 (32.0, 53.0]']  ->  ['PM25 [26, 42]'] 0.9961381877399093\n",
      "['LOC 1', 'PM1 (20.0, 29.0]', 'PM25 [26, 42]']  ->  ['PM10 (32.0, 53.0]'] 0.9121876398031572\n",
      "['LOC 1', 'PM1 (20.0, 29.0]']  ->  ['PM25 [26, 42]', 'PM10 (32.0, 53.0]'] 0.8602972200084384\n",
      "['PM10 (-0.001, 32.0]', 'LOC 2']  ->  ['PM1 (-0.001, 20.0]'] 0.9943998386860243\n",
      "['PM1 (-0.001, 20.0]', 'LOC 2']  ->  ['PM10 (-0.001, 32.0]'] 0.9880605442424684\n",
      "['LOC 2']  ->  ['PM1 (-0.001, 20.0]', 'PM10 (-0.001, 32.0]'] 0.8101208165947342\n",
      "['PM25 [26, 42]', 'PM10 (32.0, 53.0]']  ->  ['PM1 (20.0, 29.0]'] 0.9192672615627813\n",
      "['PM10 (32.0, 53.0]']  ->  ['PM1 (20.0, 29.0]', 'PM25 [26, 42]'] 0.8962825290847335\n",
      "['PM25 [26, 42]']  ->  ['PM1 (20.0, 29.0]', 'PM10 (32.0, 53.0]'] 0.7103097518854296\n",
      "['PM1 (20.0, 29.0]', 'PM10 (32.0, 53.0]']  ->  ['PM25 [26, 42]'] 0.9962031512045548\n",
      "['PM1 (20.0, 29.0]', 'PM25 [26, 42]']  ->  ['PM10 (32.0, 53.0]'] 0.9132801699819526\n",
      "['PM1 (20.0, 29.0]']  ->  ['PM25 [26, 42]', 'PM10 (32.0, 53.0]'] 0.8635161187678985\n",
      "['LOC 1', 'PM10 (32.0, 53.0]']  ->  ['PM1 (20.0, 29.0]'] 0.9008571608206948\n",
      "['LOC 1', 'PM1 (20.0, 29.0]']  ->  ['PM10 (32.0, 53.0]'] 0.8636324062230021\n",
      "['PM1 (37.0, 567.0]', 'LOC 0']  ->  ['PM10 (70.0, 1740.0]'] 0.9367066972518329\n",
      "['PM10 (70.0, 1740.0]', 'LOC 0']  ->  ['PM1 (37.0, 567.0]'] 0.91896638455225\n",
      "['LOC 1', 'PM25 [43, 58]']  ->  ['PM10 (53.0, 70.0]'] 0.7787336849238384\n",
      "['LOC 1', 'PM10 (53.0, 70.0]']  ->  ['PM25 [43, 58]'] 0.9390543728505244\n",
      "['LOC 1', 'PM25 [43, 58]']  ->  ['PM1 (29.0, 37.0]'] 0.7779971126366342\n",
      "['LOC 1', 'PM1 (29.0, 37.0]']  ->  ['PM25 [43, 58]'] 0.9484709381263334\n",
      "['LOC 1', 'PM10 (53.0, 70.0]']  ->  ['PM1 (29.0, 37.0]'] 0.8421396697268567\n",
      "['LOC 1', 'PM1 (29.0, 37.0]']  ->  ['PM10 (53.0, 70.0]'] 0.8513896970611265\n",
      "['PM25 [59, 81]', 'PM1 (37.0, 567.0]']  ->  ['PM10 (70.0, 1740.0]'] 0.9926650785762027\n",
      "['PM25 [59, 81]']  ->  ['PM10 (70.0, 1740.0]', 'PM1 (37.0, 567.0]'] 0.9395763041785622\n",
      "['PM10 (70.0, 1740.0]', 'PM25 [59, 81]']  ->  ['PM1 (37.0, 567.0]'] 0.9969020532502625\n",
      "['LOC 1', 'PM10 (32.0, 53.0]']  ->  ['PM25 [26, 42]'] 0.9697304169839396\n",
      "['LOC 1', 'PM25 [26, 42]']  ->  ['PM10 (32.0, 53.0]'] 0.8300336643964625\n",
      "['PM25 [1, 25]', 'PM10 (-0.001, 32.0]']  ->  ['PM1 (-0.001, 20.0]'] 0.9992867027119563\n",
      "['PM1 (-0.001, 20.0]', 'PM25 [1, 25]']  ->  ['PM10 (-0.001, 32.0]'] 0.9985222283466063\n",
      "['PM25 [1, 25]']  ->  ['PM1 (-0.001, 20.0]', 'PM10 (-0.001, 32.0]'] 0.9978110369322228\n",
      "['PM1 (29.0, 37.0]', 'PM25 [43, 58]']  ->  ['PM10 (53.0, 70.0]'] 0.8903811202385737\n",
      "['PM10 (53.0, 70.0]', 'PM25 [43, 58]']  ->  ['PM1 (29.0, 37.0]'] 0.876338650173978\n",
      "['PM10 (53.0, 70.0]', 'PM1 (29.0, 37.0]']  ->  ['PM25 [43, 58]'] 0.9881644621197967\n",
      "['PM1 (29.0, 37.0]']  ->  ['PM10 (53.0, 70.0]', 'PM25 [43, 58]'] 0.8531945784183652\n",
      "['PM10 (53.0, 70.0]']  ->  ['PM1 (29.0, 37.0]', 'PM25 [43, 58]'] 0.8187335325746997\n",
      "['LOC 1', 'PM25 [26, 42]']  ->  ['PM1 (20.0, 29.0]'] 0.8420464126190661\n",
      "['LOC 1', 'PM1 (20.0, 29.0]']  ->  ['PM25 [26, 42]'] 0.9431143138423622\n",
      "['LOC 1', 'PM10 (-0.001, 32.0]']  ->  ['PM1 (-0.001, 20.0]'] 0.9513834855968877\n",
      "['LOC 1', 'PM1 (-0.001, 20.0]']  ->  ['PM10 (-0.001, 32.0]'] 0.955082410349125\n",
      "['PM10 (32.0, 53.0]']  ->  ['PM25 [26, 42]'] 0.9749966811186411\n",
      "['PM25 [26, 42]']  ->  ['PM10 (32.0, 53.0]'] 0.7726912309243801\n",
      "['PM25 [1, 25]']  ->  ['PM1 (-0.001, 20.0]'] 0.9992877560516994\n",
      "['LOC 2']  ->  ['PM10 (-0.001, 32.0]'] 0.8146831737877271\n",
      "['PM1 (37.0, 567.0]']  ->  ['PM10 (70.0, 1740.0]'] 0.9271923952336324\n",
      "['PM10 (70.0, 1740.0]']  ->  ['PM1 (37.0, 567.0]'] 0.9133376416127033\n",
      "['PM10 (32.0, 53.0]']  ->  ['PM1 (20.0, 29.0]'] 0.8996985484346213\n",
      "['PM1 (20.0, 29.0]']  ->  ['PM10 (32.0, 53.0]'] 0.8668072548493564\n",
      "['PM25 [26, 42]']  ->  ['PM1 (20.0, 29.0]'] 0.7777566788726684\n",
      "['PM1 (20.0, 29.0]']  ->  ['PM25 [26, 42]'] 0.94551064082007\n",
      "['PM25 [43, 58]']  ->  ['PM1 (29.0, 37.0]'] 0.7001335017138733\n",
      "['PM1 (29.0, 37.0]']  ->  ['PM25 [43, 58]'] 0.9582352534493941\n",
      "['PM25 [59, 81]']  ->  ['PM10 (70.0, 1740.0]'] 0.9424961069296652\n",
      "['LOC 2']  ->  ['PM1 (-0.001, 20.0]'] 0.8199100969220889\n",
      "['PM10 (-0.001, 32.0]']  ->  ['PM1 (-0.001, 20.0]'] 0.9689133501979625\n",
      "['PM1 (-0.001, 20.0]']  ->  ['PM10 (-0.001, 32.0]'] 0.9523453154782269\n",
      "['PM1 (29.0, 37.0]']  ->  ['PM10 (53.0, 70.0]'] 0.8634135421021962\n",
      "['PM10 (53.0, 70.0]']  ->  ['PM1 (29.0, 37.0]'] 0.8285397461252187\n",
      "['PM25 [1, 25]']  ->  ['PM10 (-0.001, 32.0]'] 0.9985232808805234\n",
      "['PM25 [43, 58]']  ->  ['PM10 (53.0, 70.0]'] 0.7113524565518071\n",
      "['PM10 (53.0, 70.0]']  ->  ['PM25 [43, 58]'] 0.9342661451850354\n",
      "['PM25 [59, 81]']  ->  ['PM1 (37.0, 567.0]'] 0.9465189462756294\n"
     ]
    }
   ],
   "source": [
    "from orangecontrib.associate import fpgrowth as fpg\n",
    "\n",
    "start = time.time()\n",
    "\n",
    "itemset = set().union(*transactions)\n",
    "decoder = {i: k for i, k in enumerate(itemset)}\n",
    "encoder = {k: i for i, k in enumerate(itemset)}\n",
    "\n",
    "\n",
    "freqsets =  dict(fpg.frequent_itemsets([[encoder[i] for i in t] for t in transactions], 100000/len(transactions)))\n",
    "rules = list(fpg.association_rules(freqsets, .7))\n",
    "\n",
    "print(\"Fpgrowth took\", time.time() - start, \"seconds.\")\n",
    "print(len(rules), \"Results\")\n",
    "for rule in rules:\n",
    "    a = [decoder[i] for i in rule[0]]\n",
    "    b = [decoder[i] for i in rule[1]]\n",
    "    s, c = rule[2], rule[3]\n",
    "    print(a, ' -> ', b, c)"
   ]
  },
  {
   "cell_type": "markdown",
   "metadata": {},
   "source": [
    "### Step 4: Explantion \n",
    "- LOC 2 (北部) 的 PM10, PM1 都偏低\n",
    "- LOC 0 (南部) 在 PM10 (PM1) 很高的時候，PM1 (PM10) 也會很高\n",
    "- PM1 與 PM10 有正相關性"
   ]
  },
  {
   "cell_type": "markdown",
   "metadata": {},
   "source": [
    "# Data 2 - Weather\n",
    "- 從 2016-07-03 到 2017-07-03 的天氣資料\n",
    "- 29 個地點\n",
    "- 每小時一筆資料"
   ]
  },
  {
   "cell_type": "code",
   "execution_count": 52,
   "metadata": {},
   "outputs": [
    {
     "data": {
      "text/html": [
       "<div>\n",
       "<style scoped>\n",
       "    .dataframe tbody tr th:only-of-type {\n",
       "        vertical-align: middle;\n",
       "    }\n",
       "\n",
       "    .dataframe tbody tr th {\n",
       "        vertical-align: top;\n",
       "    }\n",
       "\n",
       "    .dataframe thead th {\n",
       "        text-align: right;\n",
       "    }\n",
       "</style>\n",
       "<table border=\"1\" class=\"dataframe\">\n",
       "  <thead>\n",
       "    <tr style=\"text-align: right;\">\n",
       "      <th></th>\n",
       "      <th>Location</th>\n",
       "      <th>Date</th>\n",
       "      <th>Time</th>\n",
       "      <th>測站氣壓</th>\n",
       "      <th>溫度</th>\n",
       "      <th>相對溼度</th>\n",
       "      <th>風速</th>\n",
       "      <th>風向</th>\n",
       "      <th>降水量</th>\n",
       "      <th>日照時數</th>\n",
       "    </tr>\n",
       "  </thead>\n",
       "  <tbody>\n",
       "    <tr>\n",
       "      <th>0</th>\n",
       "      <td>BANQIAO,板橋</td>\n",
       "      <td>2016-07-03</td>\n",
       "      <td>01:00</td>\n",
       "      <td>1009.6</td>\n",
       "      <td>25.3</td>\n",
       "      <td>83.0</td>\n",
       "      <td>1.0</td>\n",
       "      <td>南南西,SSW</td>\n",
       "      <td>0.0</td>\n",
       "      <td>NaN</td>\n",
       "    </tr>\n",
       "    <tr>\n",
       "      <th>1</th>\n",
       "      <td>BANQIAO,板橋</td>\n",
       "      <td>2016-07-03</td>\n",
       "      <td>02:00</td>\n",
       "      <td>1009.0</td>\n",
       "      <td>25.1</td>\n",
       "      <td>84.0</td>\n",
       "      <td>0.2</td>\n",
       "      <td>靜風,Calm</td>\n",
       "      <td>0.0</td>\n",
       "      <td>NaN</td>\n",
       "    </tr>\n",
       "    <tr>\n",
       "      <th>2</th>\n",
       "      <td>BANQIAO,板橋</td>\n",
       "      <td>2016-07-03</td>\n",
       "      <td>03:00</td>\n",
       "      <td>1008.6</td>\n",
       "      <td>25.1</td>\n",
       "      <td>84.0</td>\n",
       "      <td>0.2</td>\n",
       "      <td>靜風,Calm</td>\n",
       "      <td>0.0</td>\n",
       "      <td>NaN</td>\n",
       "    </tr>\n",
       "    <tr>\n",
       "      <th>3</th>\n",
       "      <td>BANQIAO,板橋</td>\n",
       "      <td>2016-07-03</td>\n",
       "      <td>04:00</td>\n",
       "      <td>1009.0</td>\n",
       "      <td>25.0</td>\n",
       "      <td>85.0</td>\n",
       "      <td>0.8</td>\n",
       "      <td>南南西,SSW</td>\n",
       "      <td>0.0</td>\n",
       "      <td>NaN</td>\n",
       "    </tr>\n",
       "    <tr>\n",
       "      <th>4</th>\n",
       "      <td>BANQIAO,板橋</td>\n",
       "      <td>2016-07-03</td>\n",
       "      <td>05:00</td>\n",
       "      <td>1009.5</td>\n",
       "      <td>24.8</td>\n",
       "      <td>85.0</td>\n",
       "      <td>0.6</td>\n",
       "      <td>西南,WS</td>\n",
       "      <td>0.0</td>\n",
       "      <td>NaN</td>\n",
       "    </tr>\n",
       "  </tbody>\n",
       "</table>\n",
       "</div>"
      ],
      "text/plain": [
       "     Location        Date   Time    測站氣壓    溫度  相對溼度   風速       風向  降水量  日照時數\n",
       "0  BANQIAO,板橋  2016-07-03  01:00  1009.6  25.3  83.0  1.0  南南西,SSW  0.0   NaN\n",
       "1  BANQIAO,板橋  2016-07-03  02:00  1009.0  25.1  84.0  0.2  靜風,Calm  0.0   NaN\n",
       "2  BANQIAO,板橋  2016-07-03  03:00  1008.6  25.1  84.0  0.2  靜風,Calm  0.0   NaN\n",
       "3  BANQIAO,板橋  2016-07-03  04:00  1009.0  25.0  85.0  0.8  南南西,SSW  0.0   NaN\n",
       "4  BANQIAO,板橋  2016-07-03  05:00  1009.5  24.8  85.0  0.6    西南,WS  0.0   NaN"
      ]
     },
     "execution_count": 52,
     "metadata": {},
     "output_type": "execute_result"
    }
   ],
   "source": [
    "weather = pd.read_csv(\"weather.csv\")\n",
    "weather.head()"
   ]
  },
  {
   "cell_type": "markdown",
   "metadata": {},
   "source": [
    "# Data 3 - Power\n",
    "- 從 2016-09-27 到 2017-09-01 的電力資料\n",
    "- 北中南東各有兩個 columns ， 分別代表供給量及使用量 (Supply & Usage)\n",
    "- 約每小時一筆資料"
   ]
  },
  {
   "cell_type": "code",
   "execution_count": 53,
   "metadata": {},
   "outputs": [
    {
     "data": {
      "text/html": [
       "<div>\n",
       "<style scoped>\n",
       "    .dataframe tbody tr th:only-of-type {\n",
       "        vertical-align: middle;\n",
       "    }\n",
       "\n",
       "    .dataframe tbody tr th {\n",
       "        vertical-align: top;\n",
       "    }\n",
       "\n",
       "    .dataframe thead th {\n",
       "        text-align: right;\n",
       "    }\n",
       "</style>\n",
       "<table border=\"1\" class=\"dataframe\">\n",
       "  <thead>\n",
       "    <tr style=\"text-align: right;\">\n",
       "      <th></th>\n",
       "      <th>Date</th>\n",
       "      <th>Time</th>\n",
       "      <th>NorthSupply</th>\n",
       "      <th>NorthUsage</th>\n",
       "      <th>CenterSupply</th>\n",
       "      <th>CenterUsage</th>\n",
       "      <th>SouthSupply</th>\n",
       "      <th>SouthUsage</th>\n",
       "      <th>EastSupply</th>\n",
       "      <th>EastUsage</th>\n",
       "    </tr>\n",
       "  </thead>\n",
       "  <tbody>\n",
       "    <tr>\n",
       "      <th>0</th>\n",
       "      <td>2016-09-27</td>\n",
       "      <td>12:10</td>\n",
       "      <td>648.4</td>\n",
       "      <td>841.3</td>\n",
       "      <td>733.0</td>\n",
       "      <td>564.4</td>\n",
       "      <td>839.6</td>\n",
       "      <td>799.9</td>\n",
       "      <td>14.0</td>\n",
       "      <td>29.3</td>\n",
       "    </tr>\n",
       "    <tr>\n",
       "      <th>1</th>\n",
       "      <td>2016-09-27</td>\n",
       "      <td>13:10</td>\n",
       "      <td>601.3</td>\n",
       "      <td>826.4</td>\n",
       "      <td>725.4</td>\n",
       "      <td>535.9</td>\n",
       "      <td>827.3</td>\n",
       "      <td>777.9</td>\n",
       "      <td>14.0</td>\n",
       "      <td>27.6</td>\n",
       "    </tr>\n",
       "    <tr>\n",
       "      <th>2</th>\n",
       "      <td>2016-09-27</td>\n",
       "      <td>14:00</td>\n",
       "      <td>500.9</td>\n",
       "      <td>789.5</td>\n",
       "      <td>759.0</td>\n",
       "      <td>506.7</td>\n",
       "      <td>821.5</td>\n",
       "      <td>771.3</td>\n",
       "      <td>13.9</td>\n",
       "      <td>27.9</td>\n",
       "    </tr>\n",
       "    <tr>\n",
       "      <th>3</th>\n",
       "      <td>2016-09-27</td>\n",
       "      <td>15:10</td>\n",
       "      <td>516.1</td>\n",
       "      <td>773.6</td>\n",
       "      <td>717.1</td>\n",
       "      <td>450.8</td>\n",
       "      <td>744.2</td>\n",
       "      <td>737.3</td>\n",
       "      <td>13.9</td>\n",
       "      <td>29.5</td>\n",
       "    </tr>\n",
       "    <tr>\n",
       "      <th>4</th>\n",
       "      <td>2016-09-27</td>\n",
       "      <td>16:00</td>\n",
       "      <td>530.2</td>\n",
       "      <td>778.0</td>\n",
       "      <td>691.6</td>\n",
       "      <td>432.2</td>\n",
       "      <td>746.0</td>\n",
       "      <td>735.3</td>\n",
       "      <td>8.7</td>\n",
       "      <td>31.0</td>\n",
       "    </tr>\n",
       "  </tbody>\n",
       "</table>\n",
       "</div>"
      ],
      "text/plain": [
       "         Date   Time  NorthSupply  NorthUsage  CenterSupply  CenterUsage  \\\n",
       "0  2016-09-27  12:10        648.4       841.3         733.0        564.4   \n",
       "1  2016-09-27  13:10        601.3       826.4         725.4        535.9   \n",
       "2  2016-09-27  14:00        500.9       789.5         759.0        506.7   \n",
       "3  2016-09-27  15:10        516.1       773.6         717.1        450.8   \n",
       "4  2016-09-27  16:00        530.2       778.0         691.6        432.2   \n",
       "\n",
       "   SouthSupply  SouthUsage  EastSupply  EastUsage  \n",
       "0        839.6       799.9        14.0       29.3  \n",
       "1        827.3       777.9        14.0       27.6  \n",
       "2        821.5       771.3        13.9       27.9  \n",
       "3        744.2       737.3        13.9       29.5  \n",
       "4        746.0       735.3         8.7       31.0  "
      ]
     },
     "execution_count": 53,
     "metadata": {},
     "output_type": "execute_result"
    }
   ],
   "source": [
    "power = pd.read_csv(\"power.csv\")\n",
    "power.head()"
   ]
  }
 ],
 "metadata": {
  "kernelspec": {
   "display_name": "Python 3",
   "language": "python",
   "name": "python3"
  },
  "language_info": {
   "codemirror_mode": {
    "name": "ipython",
    "version": 3
   },
   "file_extension": ".py",
   "mimetype": "text/x-python",
   "name": "python",
   "nbconvert_exporter": "python",
   "pygments_lexer": "ipython3",
   "version": "3.5.2"
  }
 },
 "nbformat": 4,
 "nbformat_minor": 2
}
