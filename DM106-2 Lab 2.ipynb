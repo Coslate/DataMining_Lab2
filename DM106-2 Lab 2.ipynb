{
 "cells": [
  {
   "cell_type": "code",
   "execution_count": 1,
   "metadata": {},
   "outputs": [],
   "source": [
    "import numpy as np\n",
    "import pandas as pd\n",
    "import matplotlib.pyplot as plt\n",
    "import pprint\n",
    "import time\n",
    "from sklearn.cluster import KMeans\n",
    "from pylab import rcParams\n",
    "\n",
    "\n",
    "\n",
    "%matplotlib inline\n",
    "rcParams['figure.figsize'] = 20, 15\n",
    "rcParams['lines.linewidth'] = 2"
   ]
  },
  {
   "cell_type": "markdown",
   "metadata": {},
   "source": [
    "# Additional Materials"
   ]
  },
  {
   "cell_type": "markdown",
   "metadata": {},
   "source": [
    "## Some Python Syntax"
   ]
  },
  {
   "cell_type": "markdown",
   "metadata": {},
   "source": [
    "### Lambda function\n",
    "- 限制較多的 function definition"
   ]
  },
  {
   "cell_type": "code",
   "execution_count": 2,
   "metadata": {},
   "outputs": [
    {
     "data": {
      "text/plain": [
       "2"
      ]
     },
     "execution_count": 2,
     "metadata": {},
     "output_type": "execute_result"
    }
   ],
   "source": [
    "f = lambda x: x + 1\n",
    "f(1)\n"
   ]
  },
  {
   "cell_type": "markdown",
   "metadata": {},
   "source": [
    "等同於"
   ]
  },
  {
   "cell_type": "code",
   "execution_count": 3,
   "metadata": {},
   "outputs": [
    {
     "data": {
      "text/plain": [
       "2"
      ]
     },
     "execution_count": 3,
     "metadata": {},
     "output_type": "execute_result"
    }
   ],
   "source": [
    "def f(x):\n",
    "    return x + 1\n",
    "f(1)"
   ]
  },
  {
   "cell_type": "markdown",
   "metadata": {},
   "source": [
    "### Unpack"
   ]
  },
  {
   "cell_type": "code",
   "execution_count": 4,
   "metadata": {},
   "outputs": [
    {
     "name": "stdout",
     "output_type": "stream",
     "text": [
      "10\n",
      "10\n"
     ]
    }
   ],
   "source": [
    "def f(a, b, c, d):\n",
    "    return a + b + c + d\n",
    "print(f(1, 2, 3, 4))\n",
    "\n",
    "l = [1, 2, 3, 4]\n",
    "print(f(*l))\n",
    "# f(l) -> TypeError: f() missing 3 required positional arguments: 'b', 'c', and 'd'"
   ]
  },
  {
   "cell_type": "markdown",
   "metadata": {},
   "source": [
    "### Zip\n",
    "\n",
    "transposed matrix"
   ]
  },
  {
   "cell_type": "code",
   "execution_count": 78,
   "metadata": {},
   "outputs": [
    {
     "name": "stdout",
     "output_type": "stream",
     "text": [
      "l_tmp = \n",
      "[1, 2, 3, 4]\n",
      "[5, 6, 7, 8]\n",
      "[9, 10, 11, 12]\n",
      "l = \n",
      "[1, 2, 3, 4]\n",
      "[5, 6, 7, 8]\n",
      "[9, 10, 11, 12]\n",
      "z_tmp = \n",
      "([1, 2, 3, 4],)\n",
      "([5, 6, 7, 8],)\n",
      "([9, 10, 11, 12],)\n",
      "z = \n",
      "(1, 5, 9)\n",
      "(2, 6, 10)\n",
      "(3, 7, 11)\n",
      "(4, 8, 12)\n",
      "zip(l_tmp) = \n",
      "([1, 2, 3, 4],)\n",
      "([5, 6, 7, 8],)\n",
      "([9, 10, 11, 12],)\n",
      "zip(*l_tmp) = \n",
      "(1, 5, 9)\n",
      "(2, 6, 10)\n",
      "(3, 7, 11)\n",
      "(4, 8, 12)\n",
      "zip([1, 2, 3 , 4], ...) = \n",
      "(1, 5, 9)\n",
      "(2, 6, 10)\n",
      "(3, 7, 11)\n",
      "(4, 8, 12)\n",
      "=====================\n",
      "[(1, 5, 9), (2, 6, 10), (3, 7, 11), (4, 8, 12)]\n",
      "(1, 5, 9)\n",
      "<class 'tuple'>\n",
      "(2, 6, 10)\n",
      "<class 'tuple'>\n",
      "(3, 7, 11)\n",
      "<class 'tuple'>\n",
      "(4, 8, 12)\n",
      "<class 'tuple'>\n"
     ]
    }
   ],
   "source": [
    "l_tmp = [[1, 2, 3, 4], [5, 6, 7, 8], [9, 10, 11, 12]]\n",
    "print(\"l_tmp = \")\n",
    "for i in l_tmp:\n",
    "    print(i)\n",
    "l = list(l_tmp)\n",
    "print(\"l = \")\n",
    "for i in l:\n",
    "    print(i)\n",
    "z_tmp = list(zip(l))\n",
    "print(\"z_tmp = \")\n",
    "for i in z_tmp:\n",
    "    print(i)\n",
    "z = list(zip([1, 2, 3, 4], [5, 6, 7, 8], [9, 10, 11, 12]))\n",
    "print(\"z = \")\n",
    "for i in z:\n",
    "    print(i)\n",
    "print(\"zip(l_tmp) = \")\n",
    "for i in zip(l_tmp):\n",
    "    print(i)\n",
    "print(\"zip(*l_tmp) = \")\n",
    "for i in zip(*l_tmp):\n",
    "    print(i)\n",
    "print(\"zip([1, 2, 3 , 4], ...) = \")\n",
    "for i in zip([1, 2, 3, 4], [5, 6, 7, 8], [9, 10, 11, 12]):\n",
    "    print(i)\n",
    "\n",
    "print(\"=====================\")\n",
    "print(list(zip(*l_tmp)))\n",
    "for i in list(zip(*l_tmp)):\n",
    "    print(i)\n",
    "    print(type(i))"
   ]
  },
  {
   "cell_type": "code",
   "execution_count": 6,
   "metadata": {},
   "outputs": [
    {
     "name": "stdout",
     "output_type": "stream",
     "text": [
      "[(1, 5, 9), (2, 6, 10), (3, 7, 11), (4, 8, 12)]\n"
     ]
    }
   ],
   "source": [
    "l2d = [[1, 2, 3, 4], [5, 6, 7, 8], [9, 10, 11, 12]]\n",
    "l2d_T = list(zip(*l2d))\n",
    "print(l2d_T)"
   ]
  },
  {
   "cell_type": "markdown",
   "metadata": {},
   "source": [
    "## IPython\n",
    "- Enhanced Python Interpreter\n",
    "- Provide Useful Functions\n",
    "- Timing, AutoComplete, System shell commands ...etc"
   ]
  },
  {
   "cell_type": "markdown",
   "metadata": {},
   "source": [
    "### 計時"
   ]
  },
  {
   "cell_type": "code",
   "execution_count": 7,
   "metadata": {},
   "outputs": [
    {
     "name": "stdout",
     "output_type": "stream",
     "text": [
      "211 µs ± 2.63 µs per loop (mean ± std. dev. of 7 runs, 1000 loops each)\n"
     ]
    }
   ],
   "source": [
    "%timeit [0 for i in range(10000)]"
   ]
  },
  {
   "cell_type": "code",
   "execution_count": 8,
   "metadata": {},
   "outputs": [
    {
     "name": "stdout",
     "output_type": "stream",
     "text": [
      "18.8 µs ± 290 ns per loop (mean ± std. dev. of 7 runs, 10000 loops each)\n"
     ]
    }
   ],
   "source": [
    "%timeit [0] * 10000"
   ]
  },
  {
   "cell_type": "code",
   "execution_count": 9,
   "metadata": {},
   "outputs": [
    {
     "name": "stdout",
     "output_type": "stream",
     "text": [
      "20.6 ns ± 0.479 ns per loop (mean ± std. dev. of 7 runs, 10000000 loops each)\n"
     ]
    }
   ],
   "source": [
    "%%timeit \n",
    "a, b = 1, 2\n",
    "a, b = b, a"
   ]
  },
  {
   "cell_type": "code",
   "execution_count": 10,
   "metadata": {},
   "outputs": [
    {
     "name": "stdout",
     "output_type": "stream",
     "text": [
      "23.2 ns ± 0.686 ns per loop (mean ± std. dev. of 7 runs, 10000000 loops each)\n"
     ]
    }
   ],
   "source": [
    "%%timeit\n",
    "a, b = 1, 2\n",
    "c = a\n",
    "b = c\n",
    "a = b"
   ]
  },
  {
   "cell_type": "markdown",
   "metadata": {},
   "source": [
    "### 列出變數"
   ]
  },
  {
   "cell_type": "code",
   "execution_count": 11,
   "metadata": {},
   "outputs": [
    {
     "name": "stdout",
     "output_type": "stream",
     "text": [
      "Variable   Type        Data/Info\n",
      "--------------------------------\n",
      "KMeans     type        <class 'sklearn.cluster.k_means_.KMeans'>\n",
      "a          int         1\n",
      "b          int         2\n",
      "f          function    <function f at 0x7fbd20d7e2f0>\n",
      "i          tuple       n=3\n",
      "l          list        n=3\n",
      "l2d        list        n=3\n",
      "l2d_T      list        n=4\n",
      "l_tmp      list        n=3\n",
      "np         module      <module 'numpy' from '/ho<...>kages/numpy/__init__.py'>\n",
      "pd         module      <module 'pandas' from '/h<...>ages/pandas/__init__.py'>\n",
      "plt        module      <module 'matplotlib.pyplo<...>es/matplotlib/pyplot.py'>\n",
      "pprint     module      <module 'pprint' from '/h<...>lib/python3.6/pprint.py'>\n",
      "rcParams   RcParams    _internal.classic_mode: F<...>: 0.6\\nytick.right: False\n",
      "time       module      <module 'time' (built-in)>\n",
      "z          list        n=4\n",
      "z_tmp      list        n=3\n"
     ]
    }
   ],
   "source": [
    "a, b = 1, 2\n",
    "%whos"
   ]
  },
  {
   "cell_type": "code",
   "execution_count": 12,
   "metadata": {},
   "outputs": [
    {
     "name": "stdout",
     "output_type": "stream",
     "text": [
      "Variable   Type    Data/Info\n",
      "----------------------------\n",
      "a          int     1\n",
      "b          int     2\n"
     ]
    }
   ],
   "source": [
    "%whos int"
   ]
  },
  {
   "cell_type": "markdown",
   "metadata": {},
   "source": [
    "### 直接執行 shell script"
   ]
  },
  {
   "cell_type": "code",
   "execution_count": 13,
   "metadata": {},
   "outputs": [
    {
     "name": "stdout",
     "output_type": "stream",
     "text": [
      "#! /usr/bin/env python3.6\r\n",
      "for i in range(5):\r\n",
      "    print(i)\r\n"
     ]
    }
   ],
   "source": [
    "!cat demo.py"
   ]
  },
  {
   "cell_type": "markdown",
   "metadata": {},
   "source": [
    "### 執行 Python 檔"
   ]
  },
  {
   "cell_type": "code",
   "execution_count": 14,
   "metadata": {},
   "outputs": [
    {
     "name": "stdout",
     "output_type": "stream",
     "text": [
      "0\n",
      "1\n",
      "2\n",
      "3\n",
      "4\n"
     ]
    }
   ],
   "source": [
    "%run demo.py"
   ]
  },
  {
   "cell_type": "code",
   "execution_count": 15,
   "metadata": {},
   "outputs": [
    {
     "name": "stdout",
     "output_type": "stream",
     "text": [
      "4\n"
     ]
    }
   ],
   "source": [
    "print(i)"
   ]
  },
  {
   "cell_type": "code",
   "execution_count": 16,
   "metadata": {},
   "outputs": [],
   "source": [
    "#while True:\n",
    "#    pass\n",
    "\n",
    "#You can press \"ii\" to interrupt the program."
   ]
  },
  {
   "cell_type": "markdown",
   "metadata": {},
   "source": [
    "##  Jupyter\n",
    "- A GUI for IPython (Ruby, Julia ...etc)\n",
    "- Press h to show/change the shortcuts\n",
    "- Two Mode: Command Mode (ESC) / Edit Mode (Enter)\n",
    "- Execute the cells\n",
    "    - Ctrl-Enter: Run the cells\n",
    "    - Shift-Enter: Run thecells, select below\n",
    "    - Alt-Enter: Run thecells, insert below.\n",
    "- Command Mode:\n",
    "\t- Delete Cell: dd\n",
    "\t- Copy Cell: c\n",
    "\t- Clip Cell: x\n",
    "\t- Paste Cell: v\n",
    "\t- Undo Delete Cell: z\n",
    "\t- Move Up & Down: j/Down & k/Up\n",
    "\t- Append Cell Above/Below: a/b\n",
    "\t- Interrupt Kernel: ii\n",
    "\t- ...etc"
   ]
  },
  {
   "cell_type": "markdown",
   "metadata": {},
   "source": [
    "##  Pandasql\n",
    "- Use SQL in pandas."
   ]
  },
  {
   "cell_type": "code",
   "execution_count": 17,
   "metadata": {},
   "outputs": [],
   "source": [
    "import pandasql as pdsql\n",
    "import pandas as pd"
   ]
  },
  {
   "cell_type": "code",
   "execution_count": 18,
   "metadata": {},
   "outputs": [
    {
     "data": {
      "text/html": [
       "<div>\n",
       "<style scoped>\n",
       "    .dataframe tbody tr th:only-of-type {\n",
       "        vertical-align: middle;\n",
       "    }\n",
       "\n",
       "    .dataframe tbody tr th {\n",
       "        vertical-align: top;\n",
       "    }\n",
       "\n",
       "    .dataframe thead th {\n",
       "        text-align: right;\n",
       "    }\n",
       "</style>\n",
       "<table border=\"1\" class=\"dataframe\">\n",
       "  <thead>\n",
       "    <tr style=\"text-align: right;\">\n",
       "      <th></th>\n",
       "      <th>Age</th>\n",
       "      <th>avg(Height)</th>\n",
       "    </tr>\n",
       "  </thead>\n",
       "  <tbody>\n",
       "    <tr>\n",
       "      <th>0</th>\n",
       "      <td>18</td>\n",
       "      <td>175.0</td>\n",
       "    </tr>\n",
       "    <tr>\n",
       "      <th>1</th>\n",
       "      <td>19</td>\n",
       "      <td>180.0</td>\n",
       "    </tr>\n",
       "  </tbody>\n",
       "</table>\n",
       "</div>"
      ],
      "text/plain": [
       "   Age  avg(Height)\n",
       "0   18        175.0\n",
       "1   19        180.0"
      ]
     },
     "execution_count": 18,
     "metadata": {},
     "output_type": "execute_result"
    }
   ],
   "source": [
    "pysql = lambda x: pdsql.sqldf(x, globals())\n",
    "\n",
    "def pysql(x):\n",
    "    return pdsql.sqldf(x, globals())\n",
    "df = pd.DataFrame([['A', 18, 170], ['B', 18, 180], ['C', 19, 175], ['D', 19, 185]], columns=[\"Name\", \"Age\", \"Height\"])\n",
    "\n",
    "df1 = pysql(\"select Age, avg(Height) from df group by Age\")\n",
    "#會從globals()這個dict裡面查找df這個變數的value\n",
    "df1.head()"
   ]
  },
  {
   "cell_type": "code",
   "execution_count": 19,
   "metadata": {},
   "outputs": [
    {
     "data": {
      "text/html": [
       "<div>\n",
       "<style scoped>\n",
       "    .dataframe tbody tr th:only-of-type {\n",
       "        vertical-align: middle;\n",
       "    }\n",
       "\n",
       "    .dataframe tbody tr th {\n",
       "        vertical-align: top;\n",
       "    }\n",
       "\n",
       "    .dataframe thead th {\n",
       "        text-align: right;\n",
       "    }\n",
       "</style>\n",
       "<table border=\"1\" class=\"dataframe\">\n",
       "  <thead>\n",
       "    <tr style=\"text-align: right;\">\n",
       "      <th></th>\n",
       "      <th>Name</th>\n",
       "      <th>avg(Height)</th>\n",
       "    </tr>\n",
       "  </thead>\n",
       "  <tbody>\n",
       "    <tr>\n",
       "      <th>0</th>\n",
       "      <td>A</td>\n",
       "      <td>170.0</td>\n",
       "    </tr>\n",
       "    <tr>\n",
       "      <th>1</th>\n",
       "      <td>C</td>\n",
       "      <td>175.0</td>\n",
       "    </tr>\n",
       "    <tr>\n",
       "      <th>2</th>\n",
       "      <td>B</td>\n",
       "      <td>180.0</td>\n",
       "    </tr>\n",
       "    <tr>\n",
       "      <th>3</th>\n",
       "      <td>D</td>\n",
       "      <td>185.0</td>\n",
       "    </tr>\n",
       "  </tbody>\n",
       "</table>\n",
       "</div>"
      ],
      "text/plain": [
       "  Name  avg(Height)\n",
       "0    A        170.0\n",
       "1    C        175.0\n",
       "2    B        180.0\n",
       "3    D        185.0"
      ]
     },
     "execution_count": 19,
     "metadata": {},
     "output_type": "execute_result"
    }
   ],
   "source": [
    "df1 = pysql(\"select Name, avg(Height) from df group by Height\")\n",
    "#會從globals()這個dict裡面查找df這個變數的value\n",
    "df1.head()"
   ]
  },
  {
   "cell_type": "markdown",
   "metadata": {},
   "source": [
    "# Data 1 - PM2.5"
   ]
  },
  {
   "cell_type": "code",
   "execution_count": 20,
   "metadata": {},
   "outputs": [],
   "source": [
    "data = pd.read_csv(\"PM2.5.csv\")"
   ]
  },
  {
   "cell_type": "code",
   "execution_count": 21,
   "metadata": {},
   "outputs": [
    {
     "data": {
      "text/html": [
       "<div>\n",
       "<style scoped>\n",
       "    .dataframe tbody tr th:only-of-type {\n",
       "        vertical-align: middle;\n",
       "    }\n",
       "\n",
       "    .dataframe tbody tr th {\n",
       "        vertical-align: top;\n",
       "    }\n",
       "\n",
       "    .dataframe thead th {\n",
       "        text-align: right;\n",
       "    }\n",
       "</style>\n",
       "<table border=\"1\" class=\"dataframe\">\n",
       "  <thead>\n",
       "    <tr style=\"text-align: right;\">\n",
       "      <th></th>\n",
       "      <th>record_id</th>\n",
       "      <th>device_id</th>\n",
       "      <th>DateTime</th>\n",
       "      <th>PM25</th>\n",
       "      <th>PM10</th>\n",
       "      <th>PM1</th>\n",
       "      <th>Temperature</th>\n",
       "      <th>Humidity</th>\n",
       "      <th>lat</th>\n",
       "      <th>lon</th>\n",
       "    </tr>\n",
       "  </thead>\n",
       "  <tbody>\n",
       "    <tr>\n",
       "      <th>0</th>\n",
       "      <td>12773</td>\n",
       "      <td>28C2DDDD415C</td>\n",
       "      <td>2017-03-01 08:30:00</td>\n",
       "      <td>43</td>\n",
       "      <td>0</td>\n",
       "      <td>0</td>\n",
       "      <td>19.61</td>\n",
       "      <td>96</td>\n",
       "      <td>23.741</td>\n",
       "      <td>120.755</td>\n",
       "    </tr>\n",
       "    <tr>\n",
       "      <th>1</th>\n",
       "      <td>12774</td>\n",
       "      <td>28C2DDDD415C</td>\n",
       "      <td>2017-03-01 09:00:00</td>\n",
       "      <td>41</td>\n",
       "      <td>0</td>\n",
       "      <td>0</td>\n",
       "      <td>19.81</td>\n",
       "      <td>94</td>\n",
       "      <td>23.741</td>\n",
       "      <td>120.755</td>\n",
       "    </tr>\n",
       "    <tr>\n",
       "      <th>2</th>\n",
       "      <td>12775</td>\n",
       "      <td>28C2DDDD415C</td>\n",
       "      <td>2017-03-01 09:30:00</td>\n",
       "      <td>41</td>\n",
       "      <td>0</td>\n",
       "      <td>0</td>\n",
       "      <td>19.73</td>\n",
       "      <td>93</td>\n",
       "      <td>23.741</td>\n",
       "      <td>120.755</td>\n",
       "    </tr>\n",
       "    <tr>\n",
       "      <th>3</th>\n",
       "      <td>12776</td>\n",
       "      <td>28C2DDDD415C</td>\n",
       "      <td>2017-03-01 10:00:00</td>\n",
       "      <td>47</td>\n",
       "      <td>0</td>\n",
       "      <td>0</td>\n",
       "      <td>19.17</td>\n",
       "      <td>92</td>\n",
       "      <td>23.741</td>\n",
       "      <td>120.755</td>\n",
       "    </tr>\n",
       "    <tr>\n",
       "      <th>4</th>\n",
       "      <td>12777</td>\n",
       "      <td>28C2DDDD415C</td>\n",
       "      <td>2017-03-01 10:30:00</td>\n",
       "      <td>50</td>\n",
       "      <td>0</td>\n",
       "      <td>0</td>\n",
       "      <td>19.90</td>\n",
       "      <td>91</td>\n",
       "      <td>23.741</td>\n",
       "      <td>120.755</td>\n",
       "    </tr>\n",
       "    <tr>\n",
       "      <th>5</th>\n",
       "      <td>12778</td>\n",
       "      <td>28C2DDDD415C</td>\n",
       "      <td>2017-03-01 11:00:00</td>\n",
       "      <td>44</td>\n",
       "      <td>0</td>\n",
       "      <td>0</td>\n",
       "      <td>20.09</td>\n",
       "      <td>90</td>\n",
       "      <td>23.741</td>\n",
       "      <td>120.755</td>\n",
       "    </tr>\n",
       "    <tr>\n",
       "      <th>6</th>\n",
       "      <td>12779</td>\n",
       "      <td>28C2DDDD415C</td>\n",
       "      <td>2017-03-01 11:30:00</td>\n",
       "      <td>39</td>\n",
       "      <td>0</td>\n",
       "      <td>0</td>\n",
       "      <td>20.82</td>\n",
       "      <td>90</td>\n",
       "      <td>23.741</td>\n",
       "      <td>120.755</td>\n",
       "    </tr>\n",
       "    <tr>\n",
       "      <th>7</th>\n",
       "      <td>12780</td>\n",
       "      <td>28C2DDDD415C</td>\n",
       "      <td>2017-03-01 12:00:00</td>\n",
       "      <td>48</td>\n",
       "      <td>0</td>\n",
       "      <td>0</td>\n",
       "      <td>21.23</td>\n",
       "      <td>87</td>\n",
       "      <td>23.741</td>\n",
       "      <td>120.755</td>\n",
       "    </tr>\n",
       "    <tr>\n",
       "      <th>8</th>\n",
       "      <td>12781</td>\n",
       "      <td>28C2DDDD415C</td>\n",
       "      <td>2017-03-01 12:30:00</td>\n",
       "      <td>45</td>\n",
       "      <td>0</td>\n",
       "      <td>0</td>\n",
       "      <td>21.35</td>\n",
       "      <td>86</td>\n",
       "      <td>23.741</td>\n",
       "      <td>120.755</td>\n",
       "    </tr>\n",
       "    <tr>\n",
       "      <th>9</th>\n",
       "      <td>12782</td>\n",
       "      <td>28C2DDDD415C</td>\n",
       "      <td>2017-03-01 13:00:00</td>\n",
       "      <td>48</td>\n",
       "      <td>0</td>\n",
       "      <td>0</td>\n",
       "      <td>21.62</td>\n",
       "      <td>85</td>\n",
       "      <td>23.741</td>\n",
       "      <td>120.755</td>\n",
       "    </tr>\n",
       "  </tbody>\n",
       "</table>\n",
       "</div>"
      ],
      "text/plain": [
       "   record_id     device_id             DateTime  PM25  PM10  PM1  Temperature  \\\n",
       "0      12773  28C2DDDD415C  2017-03-01 08:30:00    43     0    0        19.61   \n",
       "1      12774  28C2DDDD415C  2017-03-01 09:00:00    41     0    0        19.81   \n",
       "2      12775  28C2DDDD415C  2017-03-01 09:30:00    41     0    0        19.73   \n",
       "3      12776  28C2DDDD415C  2017-03-01 10:00:00    47     0    0        19.17   \n",
       "4      12777  28C2DDDD415C  2017-03-01 10:30:00    50     0    0        19.90   \n",
       "5      12778  28C2DDDD415C  2017-03-01 11:00:00    44     0    0        20.09   \n",
       "6      12779  28C2DDDD415C  2017-03-01 11:30:00    39     0    0        20.82   \n",
       "7      12780  28C2DDDD415C  2017-03-01 12:00:00    48     0    0        21.23   \n",
       "8      12781  28C2DDDD415C  2017-03-01 12:30:00    45     0    0        21.35   \n",
       "9      12782  28C2DDDD415C  2017-03-01 13:00:00    48     0    0        21.62   \n",
       "\n",
       "   Humidity     lat      lon  \n",
       "0        96  23.741  120.755  \n",
       "1        94  23.741  120.755  \n",
       "2        93  23.741  120.755  \n",
       "3        92  23.741  120.755  \n",
       "4        91  23.741  120.755  \n",
       "5        90  23.741  120.755  \n",
       "6        90  23.741  120.755  \n",
       "7        87  23.741  120.755  \n",
       "8        86  23.741  120.755  \n",
       "9        85  23.741  120.755  "
      ]
     },
     "execution_count": 21,
     "metadata": {},
     "output_type": "execute_result"
    }
   ],
   "source": [
    "data.head(10)"
   ]
  },
  {
   "cell_type": "code",
   "execution_count": 22,
   "metadata": {},
   "outputs": [
    {
     "data": {
      "text/html": [
       "<div>\n",
       "<style scoped>\n",
       "    .dataframe tbody tr th:only-of-type {\n",
       "        vertical-align: middle;\n",
       "    }\n",
       "\n",
       "    .dataframe tbody tr th {\n",
       "        vertical-align: top;\n",
       "    }\n",
       "\n",
       "    .dataframe thead th {\n",
       "        text-align: right;\n",
       "    }\n",
       "</style>\n",
       "<table border=\"1\" class=\"dataframe\">\n",
       "  <thead>\n",
       "    <tr style=\"text-align: right;\">\n",
       "      <th></th>\n",
       "      <th>record_id</th>\n",
       "      <th>PM25</th>\n",
       "      <th>PM10</th>\n",
       "      <th>PM1</th>\n",
       "      <th>Temperature</th>\n",
       "      <th>Humidity</th>\n",
       "      <th>lat</th>\n",
       "      <th>lon</th>\n",
       "    </tr>\n",
       "  </thead>\n",
       "  <tbody>\n",
       "    <tr>\n",
       "      <th>count</th>\n",
       "      <td>1.250443e+06</td>\n",
       "      <td>1.250443e+06</td>\n",
       "      <td>1.250443e+06</td>\n",
       "      <td>1.250443e+06</td>\n",
       "      <td>1.250443e+06</td>\n",
       "      <td>1.250443e+06</td>\n",
       "      <td>1.250443e+06</td>\n",
       "      <td>1.250443e+06</td>\n",
       "    </tr>\n",
       "    <tr>\n",
       "      <th>mean</th>\n",
       "      <td>9.632778e+05</td>\n",
       "      <td>4.379018e+01</td>\n",
       "      <td>5.053475e+01</td>\n",
       "      <td>2.839685e+01</td>\n",
       "      <td>2.521184e+01</td>\n",
       "      <td>7.575035e+01</td>\n",
       "      <td>2.361421e+01</td>\n",
       "      <td>1.205810e+02</td>\n",
       "    </tr>\n",
       "    <tr>\n",
       "      <th>std</th>\n",
       "      <td>4.340908e+05</td>\n",
       "      <td>2.036245e+01</td>\n",
       "      <td>2.876265e+01</td>\n",
       "      <td>1.644278e+01</td>\n",
       "      <td>3.560814e+00</td>\n",
       "      <td>1.356982e+01</td>\n",
       "      <td>7.559487e-01</td>\n",
       "      <td>3.650899e-01</td>\n",
       "    </tr>\n",
       "    <tr>\n",
       "      <th>min</th>\n",
       "      <td>1.277300e+04</td>\n",
       "      <td>1.000000e+00</td>\n",
       "      <td>0.000000e+00</td>\n",
       "      <td>0.000000e+00</td>\n",
       "      <td>6.480000e+00</td>\n",
       "      <td>-7.200000e+01</td>\n",
       "      <td>2.247800e+01</td>\n",
       "      <td>1.200880e+02</td>\n",
       "    </tr>\n",
       "    <tr>\n",
       "      <th>25%</th>\n",
       "      <td>6.173355e+05</td>\n",
       "      <td>3.200000e+01</td>\n",
       "      <td>3.200000e+01</td>\n",
       "      <td>2.000000e+01</td>\n",
       "      <td>2.278000e+01</td>\n",
       "      <td>6.600000e+01</td>\n",
       "      <td>2.294400e+01</td>\n",
       "      <td>1.203110e+02</td>\n",
       "    </tr>\n",
       "    <tr>\n",
       "      <th>50%</th>\n",
       "      <td>9.668550e+05</td>\n",
       "      <td>4.300000e+01</td>\n",
       "      <td>5.300000e+01</td>\n",
       "      <td>2.900000e+01</td>\n",
       "      <td>2.550000e+01</td>\n",
       "      <td>7.500000e+01</td>\n",
       "      <td>2.353100e+01</td>\n",
       "      <td>1.205440e+02</td>\n",
       "    </tr>\n",
       "    <tr>\n",
       "      <th>75%</th>\n",
       "      <td>1.307714e+06</td>\n",
       "      <td>5.400000e+01</td>\n",
       "      <td>7.000000e+01</td>\n",
       "      <td>3.700000e+01</td>\n",
       "      <td>2.775000e+01</td>\n",
       "      <td>8.500000e+01</td>\n",
       "      <td>2.417900e+01</td>\n",
       "      <td>1.206880e+02</td>\n",
       "    </tr>\n",
       "    <tr>\n",
       "      <th>max</th>\n",
       "      <td>1.727170e+06</td>\n",
       "      <td>6.950000e+02</td>\n",
       "      <td>1.740000e+03</td>\n",
       "      <td>5.670000e+02</td>\n",
       "      <td>5.262000e+01</td>\n",
       "      <td>1.440000e+02</td>\n",
       "      <td>2.499900e+01</td>\n",
       "      <td>1.218530e+02</td>\n",
       "    </tr>\n",
       "  </tbody>\n",
       "</table>\n",
       "</div>"
      ],
      "text/plain": [
       "          record_id          PM25          PM10           PM1   Temperature  \\\n",
       "count  1.250443e+06  1.250443e+06  1.250443e+06  1.250443e+06  1.250443e+06   \n",
       "mean   9.632778e+05  4.379018e+01  5.053475e+01  2.839685e+01  2.521184e+01   \n",
       "std    4.340908e+05  2.036245e+01  2.876265e+01  1.644278e+01  3.560814e+00   \n",
       "min    1.277300e+04  1.000000e+00  0.000000e+00  0.000000e+00  6.480000e+00   \n",
       "25%    6.173355e+05  3.200000e+01  3.200000e+01  2.000000e+01  2.278000e+01   \n",
       "50%    9.668550e+05  4.300000e+01  5.300000e+01  2.900000e+01  2.550000e+01   \n",
       "75%    1.307714e+06  5.400000e+01  7.000000e+01  3.700000e+01  2.775000e+01   \n",
       "max    1.727170e+06  6.950000e+02  1.740000e+03  5.670000e+02  5.262000e+01   \n",
       "\n",
       "           Humidity           lat           lon  \n",
       "count  1.250443e+06  1.250443e+06  1.250443e+06  \n",
       "mean   7.575035e+01  2.361421e+01  1.205810e+02  \n",
       "std    1.356982e+01  7.559487e-01  3.650899e-01  \n",
       "min   -7.200000e+01  2.247800e+01  1.200880e+02  \n",
       "25%    6.600000e+01  2.294400e+01  1.203110e+02  \n",
       "50%    7.500000e+01  2.353100e+01  1.205440e+02  \n",
       "75%    8.500000e+01  2.417900e+01  1.206880e+02  \n",
       "max    1.440000e+02  2.499900e+01  1.218530e+02  "
      ]
     },
     "execution_count": 22,
     "metadata": {},
     "output_type": "execute_result"
    }
   ],
   "source": [
    "data.describe()"
   ]
  },
  {
   "cell_type": "code",
   "execution_count": 23,
   "metadata": {},
   "outputs": [],
   "source": [
    "#Set 100 for those Humidity > 100\n",
    "#Set 0 for those Humidity < 0\n",
    "#data.loc[$param1, $param2]\n",
    "#$param1 : select row\n",
    "#$param2 : select column\n",
    "data.loc[data.Humidity > 100, 'Humidity'] = 100\n",
    "data.loc[data.Humidity < 0, 'Humidity'] = 0"
   ]
  },
  {
   "cell_type": "code",
   "execution_count": 24,
   "metadata": {},
   "outputs": [
    {
     "data": {
      "text/html": [
       "<div>\n",
       "<style scoped>\n",
       "    .dataframe tbody tr th:only-of-type {\n",
       "        vertical-align: middle;\n",
       "    }\n",
       "\n",
       "    .dataframe tbody tr th {\n",
       "        vertical-align: top;\n",
       "    }\n",
       "\n",
       "    .dataframe thead th {\n",
       "        text-align: right;\n",
       "    }\n",
       "</style>\n",
       "<table border=\"1\" class=\"dataframe\">\n",
       "  <thead>\n",
       "    <tr style=\"text-align: right;\">\n",
       "      <th></th>\n",
       "      <th>record_id</th>\n",
       "      <th>PM25</th>\n",
       "      <th>PM10</th>\n",
       "      <th>PM1</th>\n",
       "      <th>Temperature</th>\n",
       "      <th>Humidity</th>\n",
       "      <th>lat</th>\n",
       "      <th>lon</th>\n",
       "    </tr>\n",
       "  </thead>\n",
       "  <tbody>\n",
       "    <tr>\n",
       "      <th>count</th>\n",
       "      <td>1.250443e+06</td>\n",
       "      <td>1.250443e+06</td>\n",
       "      <td>1.250443e+06</td>\n",
       "      <td>1.250443e+06</td>\n",
       "      <td>1.250443e+06</td>\n",
       "      <td>1.250443e+06</td>\n",
       "      <td>1.250443e+06</td>\n",
       "      <td>1.250443e+06</td>\n",
       "    </tr>\n",
       "    <tr>\n",
       "      <th>mean</th>\n",
       "      <td>9.632778e+05</td>\n",
       "      <td>4.379018e+01</td>\n",
       "      <td>5.053475e+01</td>\n",
       "      <td>2.839685e+01</td>\n",
       "      <td>2.521184e+01</td>\n",
       "      <td>7.573173e+01</td>\n",
       "      <td>2.361421e+01</td>\n",
       "      <td>1.205810e+02</td>\n",
       "    </tr>\n",
       "    <tr>\n",
       "      <th>std</th>\n",
       "      <td>4.340908e+05</td>\n",
       "      <td>2.036245e+01</td>\n",
       "      <td>2.876265e+01</td>\n",
       "      <td>1.644278e+01</td>\n",
       "      <td>3.560814e+00</td>\n",
       "      <td>1.351005e+01</td>\n",
       "      <td>7.559487e-01</td>\n",
       "      <td>3.650899e-01</td>\n",
       "    </tr>\n",
       "    <tr>\n",
       "      <th>min</th>\n",
       "      <td>1.277300e+04</td>\n",
       "      <td>1.000000e+00</td>\n",
       "      <td>0.000000e+00</td>\n",
       "      <td>0.000000e+00</td>\n",
       "      <td>6.480000e+00</td>\n",
       "      <td>0.000000e+00</td>\n",
       "      <td>2.247800e+01</td>\n",
       "      <td>1.200880e+02</td>\n",
       "    </tr>\n",
       "    <tr>\n",
       "      <th>25%</th>\n",
       "      <td>6.173355e+05</td>\n",
       "      <td>3.200000e+01</td>\n",
       "      <td>3.200000e+01</td>\n",
       "      <td>2.000000e+01</td>\n",
       "      <td>2.278000e+01</td>\n",
       "      <td>6.600000e+01</td>\n",
       "      <td>2.294400e+01</td>\n",
       "      <td>1.203110e+02</td>\n",
       "    </tr>\n",
       "    <tr>\n",
       "      <th>50%</th>\n",
       "      <td>9.668550e+05</td>\n",
       "      <td>4.300000e+01</td>\n",
       "      <td>5.300000e+01</td>\n",
       "      <td>2.900000e+01</td>\n",
       "      <td>2.550000e+01</td>\n",
       "      <td>7.500000e+01</td>\n",
       "      <td>2.353100e+01</td>\n",
       "      <td>1.205440e+02</td>\n",
       "    </tr>\n",
       "    <tr>\n",
       "      <th>75%</th>\n",
       "      <td>1.307714e+06</td>\n",
       "      <td>5.400000e+01</td>\n",
       "      <td>7.000000e+01</td>\n",
       "      <td>3.700000e+01</td>\n",
       "      <td>2.775000e+01</td>\n",
       "      <td>8.500000e+01</td>\n",
       "      <td>2.417900e+01</td>\n",
       "      <td>1.206880e+02</td>\n",
       "    </tr>\n",
       "    <tr>\n",
       "      <th>max</th>\n",
       "      <td>1.727170e+06</td>\n",
       "      <td>6.950000e+02</td>\n",
       "      <td>1.740000e+03</td>\n",
       "      <td>5.670000e+02</td>\n",
       "      <td>5.262000e+01</td>\n",
       "      <td>1.000000e+02</td>\n",
       "      <td>2.499900e+01</td>\n",
       "      <td>1.218530e+02</td>\n",
       "    </tr>\n",
       "  </tbody>\n",
       "</table>\n",
       "</div>"
      ],
      "text/plain": [
       "          record_id          PM25          PM10           PM1   Temperature  \\\n",
       "count  1.250443e+06  1.250443e+06  1.250443e+06  1.250443e+06  1.250443e+06   \n",
       "mean   9.632778e+05  4.379018e+01  5.053475e+01  2.839685e+01  2.521184e+01   \n",
       "std    4.340908e+05  2.036245e+01  2.876265e+01  1.644278e+01  3.560814e+00   \n",
       "min    1.277300e+04  1.000000e+00  0.000000e+00  0.000000e+00  6.480000e+00   \n",
       "25%    6.173355e+05  3.200000e+01  3.200000e+01  2.000000e+01  2.278000e+01   \n",
       "50%    9.668550e+05  4.300000e+01  5.300000e+01  2.900000e+01  2.550000e+01   \n",
       "75%    1.307714e+06  5.400000e+01  7.000000e+01  3.700000e+01  2.775000e+01   \n",
       "max    1.727170e+06  6.950000e+02  1.740000e+03  5.670000e+02  5.262000e+01   \n",
       "\n",
       "           Humidity           lat           lon  \n",
       "count  1.250443e+06  1.250443e+06  1.250443e+06  \n",
       "mean   7.573173e+01  2.361421e+01  1.205810e+02  \n",
       "std    1.351005e+01  7.559487e-01  3.650899e-01  \n",
       "min    0.000000e+00  2.247800e+01  1.200880e+02  \n",
       "25%    6.600000e+01  2.294400e+01  1.203110e+02  \n",
       "50%    7.500000e+01  2.353100e+01  1.205440e+02  \n",
       "75%    8.500000e+01  2.417900e+01  1.206880e+02  \n",
       "max    1.000000e+02  2.499900e+01  1.218530e+02  "
      ]
     },
     "execution_count": 24,
     "metadata": {},
     "output_type": "execute_result"
    }
   ],
   "source": [
    "data.describe()"
   ]
  },
  {
   "cell_type": "markdown",
   "metadata": {},
   "source": [
    "# Association Rules\n",
    "- Transaction Definition\n",
    "- Observation & Discretization\n",
    "- Assocation Rules\n",
    "- Explanation\n",
    "\n"
   ]
  },
  {
   "cell_type": "markdown",
   "metadata": {},
   "source": [
    "##  Task 1 - (PM2.5, Temperature, Humidity)\n",
    "\n",
    "### Step 1: Transaction Definition\n",
    "找出 PM2.5, Temperature & Humidity 之間的關係"
   ]
  },
  {
   "cell_type": "code",
   "execution_count": 25,
   "metadata": {},
   "outputs": [
    {
     "data": {
      "text/html": [
       "<div>\n",
       "<style scoped>\n",
       "    .dataframe tbody tr th:only-of-type {\n",
       "        vertical-align: middle;\n",
       "    }\n",
       "\n",
       "    .dataframe tbody tr th {\n",
       "        vertical-align: top;\n",
       "    }\n",
       "\n",
       "    .dataframe thead th {\n",
       "        text-align: right;\n",
       "    }\n",
       "</style>\n",
       "<table border=\"1\" class=\"dataframe\">\n",
       "  <thead>\n",
       "    <tr style=\"text-align: right;\">\n",
       "      <th></th>\n",
       "      <th>record_id</th>\n",
       "      <th>device_id</th>\n",
       "      <th>PM25</th>\n",
       "      <th>Temperature</th>\n",
       "      <th>Humidity</th>\n",
       "    </tr>\n",
       "  </thead>\n",
       "  <tbody>\n",
       "    <tr>\n",
       "      <th>0</th>\n",
       "      <td>12773</td>\n",
       "      <td>28C2DDDD415C</td>\n",
       "      <td>43</td>\n",
       "      <td>19.61</td>\n",
       "      <td>96</td>\n",
       "    </tr>\n",
       "    <tr>\n",
       "      <th>1</th>\n",
       "      <td>12774</td>\n",
       "      <td>28C2DDDD415C</td>\n",
       "      <td>41</td>\n",
       "      <td>19.81</td>\n",
       "      <td>94</td>\n",
       "    </tr>\n",
       "    <tr>\n",
       "      <th>2</th>\n",
       "      <td>12775</td>\n",
       "      <td>28C2DDDD415C</td>\n",
       "      <td>41</td>\n",
       "      <td>19.73</td>\n",
       "      <td>93</td>\n",
       "    </tr>\n",
       "    <tr>\n",
       "      <th>3</th>\n",
       "      <td>12776</td>\n",
       "      <td>28C2DDDD415C</td>\n",
       "      <td>47</td>\n",
       "      <td>19.17</td>\n",
       "      <td>92</td>\n",
       "    </tr>\n",
       "    <tr>\n",
       "      <th>4</th>\n",
       "      <td>12777</td>\n",
       "      <td>28C2DDDD415C</td>\n",
       "      <td>50</td>\n",
       "      <td>19.90</td>\n",
       "      <td>91</td>\n",
       "    </tr>\n",
       "  </tbody>\n",
       "</table>\n",
       "</div>"
      ],
      "text/plain": [
       "   record_id     device_id  PM25  Temperature  Humidity\n",
       "0      12773  28C2DDDD415C    43        19.61        96\n",
       "1      12774  28C2DDDD415C    41        19.81        94\n",
       "2      12775  28C2DDDD415C    41        19.73        93\n",
       "3      12776  28C2DDDD415C    47        19.17        92\n",
       "4      12777  28C2DDDD415C    50        19.90        91"
      ]
     },
     "execution_count": 25,
     "metadata": {},
     "output_type": "execute_result"
    }
   ],
   "source": [
    "# q1 = data[['Temperature', 'Humidity', 'device_id', 'PM25', 'record_id']]\n",
    "#drop() : truncate those no-need column\n",
    "q1 = data.drop(['DateTime', 'PM10', 'PM1', 'lat', 'lon'], axis=1)\n",
    "q1.head()"
   ]
  },
  {
   "cell_type": "markdown",
   "metadata": {},
   "source": [
    "### Step 2: Observation & Discretization\n",
    "觀察3個特徵的分佈"
   ]
  },
  {
   "cell_type": "code",
   "execution_count": 26,
   "metadata": {},
   "outputs": [
    {
     "data": {
      "image/png": "[encoded data removed]",
      "text/plain": [
       "<matplotlib.figure.Figure at 0x7fbd1f8c0518>"
      ]
     },
     "metadata": {},
     "output_type": "display_data"
    }
   ],
   "source": [
    "fig, ax = plt.subplots(nrows=3, ncols=2)\n",
    "ax[0][0].hist(q1['PM25'], bins=range(min(q1['PM25']), max(q1['PM25']) + 10, 10))\n",
    "ax[0][0].set_title('PM25')\n",
    "ax[0][0].set_ylabel('count')\n",
    "\n",
    "#testing whether hist() can take when \n",
    "#each int-data in q1['PM25'] is converted to str-data\n",
    "\n",
    "#q1_tmp = [str(x) for x in q1['PM25']]\n",
    "#ax[0][0].hist(q1_tmp, bins=range(min(q1['PM25']), max(q1['PM25']) + 10, 10))\n",
    "#ax[0][0].set_title('PM25')\n",
    "#ax[0][0].set_ylabel('count')\n",
    "\n",
    "ax[0][1].hist(q1['PM25'], bins=range(min(q1['PM25']), max(q1['PM25']) + 10, 10))\n",
    "ax[0][1].set_title('PM25')\n",
    "ax[0][1].set_ylabel('count')\n",
    "ax[0][1].set_ylim((0,100))\n",
    "\n",
    "ax[1][0].hist(q1['Temperature'], bins=range(int(min(q1['Temperature'])), int(max(q1['Temperature'])+2), 2))\n",
    "ax[1][0].set_title('Temperature')\n",
    "ax[1][0].set_ylabel('count')\n",
    "\n",
    "ax[1][1].hist(q1['Temperature'], bins=range(int(min(q1['Temperature'])), int(max(q1['Temperature'])+2), 2))\n",
    "ax[1][1].set_title('Temperature')\n",
    "ax[1][1].set_ylabel('count')\n",
    "ax[1][1].set_ylim((0,100))\n",
    "\n",
    "ax[2][0].hist(q1['Humidity'], bins=range(int(min(q1['Humidity'])), int(max(q1['Humidity']+5)), 5))\n",
    "ax[2][0].set_title('Humidity')\n",
    "ax[2][0].set_ylabel('count')\n",
    "\n",
    "ax[2][1].hist(q1['Humidity'], bins=range(int(min(q1['Humidity'])), int(max(q1['Humidity']+5)), 5))\n",
    "ax[2][1].set_title('Humidity')\n",
    "ax[2][1].set_ylabel('count')\n",
    "ax[2][1].set_ylim((0,100))\n",
    "\n",
    "fig.tight_layout()\n",
    "plt.show()"
   ]
  },
  {
   "cell_type": "markdown",
   "metadata": {},
   "source": [
    "\n",
    "- 發現三種資料資料分布都很集中\n",
    "- Temperature分布接近常態分布\n",
    "- PM2.5與Humidity雖然分布集中，但有點skew的情況\n",
    "\n",
    "#### PM2.5\n",
    "\n",
    "而PM2.5的資料不是平均分布，不使用equal-width的方式做discretization\n",
    "\n",
    "而決定使用equal frequency的方式對資料做discretization\n",
    "\n",
    "\n",
    "//equal frequency就是把發生次數均等, 較好\n",
    "\n",
    "//equal width 就是把值範圍均等, 可能資料分佈不均, support會很低\n",
    "\n",
    "#### Temperature\n",
    "\n",
    "Temperature資料呈現常態分布，溫度分布較集中，若用equal-width的方式做discretization，對台灣的溫度資料而言，中間溫度的分布會看不出差異\n",
    "\n",
    "因此使用equal frequency的方式做discretization\n",
    "\n",
    "#### Humidity\n",
    "\n",
    "Humidity分布用equal-width的方式做discretization較適合"
   ]
  },
  {
   "cell_type": "markdown",
   "metadata": {},
   "source": [
    "#### Pandas Qcut\n",
    "- Qcut - Equal-Freqency\n",
    "- Cut - Equal-Width"
   ]
  },
  {
   "cell_type": "code",
   "execution_count": 27,
   "metadata": {},
   "outputs": [
    {
     "data": {
      "text/plain": [
       "[(-0.001, 4.5], (-0.001, 4.5], (-0.001, 4.5], (-0.001, 4.5], (-0.001, 4.5], (4.5, 9.0], (4.5, 9.0], (4.5, 9.0], (4.5, 9.0], (4.5, 9.0]]\n",
       "Categories (2, interval[float64]): [(-0.001, 4.5] < (4.5, 9.0]]"
      ]
     },
     "execution_count": 27,
     "metadata": {},
     "output_type": "execute_result"
    }
   ],
   "source": [
    "pd.qcut([0, 1, 2, 3, 4, 5, 6, 7, 8, 9], 2)"
   ]
  },
  {
   "cell_type": "code",
   "execution_count": 44,
   "metadata": {},
   "outputs": [
    {
     "data": {
      "image/png": "[encoded data removed]",
      "text/plain": [
       "<matplotlib.figure.Figure at 0x7fbcedcc6780>"
      ]
     },
     "metadata": {},
     "output_type": "display_data"
    }
   ],
   "source": [
    "result = []\n",
    "result.append(pd.qcut(q1['PM25'], 10))\n",
    "#qcut is equal-frequency\n",
    "result.append(pd.qcut(q1['Temperature'], 10))\n",
    "result.append(pd.cut(q1['Humidity'], 10))\n",
    "#cut is equal-width\n",
    "fig, ax = plt.subplots(3,1)\n",
    "#print(len(result))\n",
    "#result[1]\n",
    "#result[2]\n",
    "for i in range(len(result)):\n",
    "    #convert each interval-data to string in original result[i]\n",
    "    #in order to input to hist()\n",
    "    result[i] = [str(x) for x in result[i]] \n",
    "    #hist() can take Series/array/list of data\n",
    "    #result[i] = np.array(result[i])\n",
    "    ax[i].hist(result[i])\n",
    "    ax[i].set_title(q1.columns[i+2])\n",
    "    for tick in ax[i].get_xticklabels():\n",
    "        tick.set_y(1)\n",
    "        tick.set_rotation(90)\n",
    "fig.tight_layout()\n",
    "plt.show()"
   ]
  },
  {
   "cell_type": "markdown",
   "metadata": {},
   "source": [
    "嘗試其他離散化方法，PM2.5的資料決定改用 k-means 的 cluster 方式 做 discretization。觀察分類過後的PM2.5分布，與環保署的PM2.5指標做比較\n",
    "\n",
    "- [-3,22]、[23,39]為低濃度\n",
    "- [40,54]為中濃度\n",
    "- [55,75]為高濃度\n",
    "- 剩餘>75為濃度非常高\n",
    "\n",
    "認為此分類較為妥當"
   ]
  },
  {
   "cell_type": "code",
   "execution_count": 101,
   "metadata": {
    "scrolled": true
   },
   "outputs": [
    {
     "data": {
      "text/html": [
       "<div>\n",
       "<style scoped>\n",
       "    .dataframe tbody tr th:only-of-type {\n",
       "        vertical-align: middle;\n",
       "    }\n",
       "\n",
       "    .dataframe tbody tr th {\n",
       "        vertical-align: top;\n",
       "    }\n",
       "\n",
       "    .dataframe thead th {\n",
       "        text-align: right;\n",
       "    }\n",
       "</style>\n",
       "<table border=\"1\" class=\"dataframe\">\n",
       "  <thead>\n",
       "    <tr style=\"text-align: right;\">\n",
       "      <th></th>\n",
       "      <th>record_id</th>\n",
       "      <th>device_id</th>\n",
       "      <th>PM25</th>\n",
       "      <th>Temperature</th>\n",
       "      <th>Humidity</th>\n",
       "      <th>PM25_cluster</th>\n",
       "    </tr>\n",
       "  </thead>\n",
       "  <tbody>\n",
       "    <tr>\n",
       "      <th>0</th>\n",
       "      <td>12773</td>\n",
       "      <td>28C2DDDD415C</td>\n",
       "      <td>43</td>\n",
       "      <td>19.61</td>\n",
       "      <td>96</td>\n",
       "      <td>3</td>\n",
       "    </tr>\n",
       "    <tr>\n",
       "      <th>1</th>\n",
       "      <td>12774</td>\n",
       "      <td>28C2DDDD415C</td>\n",
       "      <td>41</td>\n",
       "      <td>19.81</td>\n",
       "      <td>94</td>\n",
       "      <td>1</td>\n",
       "    </tr>\n",
       "    <tr>\n",
       "      <th>2</th>\n",
       "      <td>12775</td>\n",
       "      <td>28C2DDDD415C</td>\n",
       "      <td>41</td>\n",
       "      <td>19.73</td>\n",
       "      <td>93</td>\n",
       "      <td>1</td>\n",
       "    </tr>\n",
       "    <tr>\n",
       "      <th>3</th>\n",
       "      <td>12776</td>\n",
       "      <td>28C2DDDD415C</td>\n",
       "      <td>47</td>\n",
       "      <td>19.17</td>\n",
       "      <td>92</td>\n",
       "      <td>3</td>\n",
       "    </tr>\n",
       "    <tr>\n",
       "      <th>4</th>\n",
       "      <td>12777</td>\n",
       "      <td>28C2DDDD415C</td>\n",
       "      <td>50</td>\n",
       "      <td>19.90</td>\n",
       "      <td>91</td>\n",
       "      <td>3</td>\n",
       "    </tr>\n",
       "    <tr>\n",
       "      <th>5</th>\n",
       "      <td>12778</td>\n",
       "      <td>28C2DDDD415C</td>\n",
       "      <td>44</td>\n",
       "      <td>20.09</td>\n",
       "      <td>90</td>\n",
       "      <td>3</td>\n",
       "    </tr>\n",
       "    <tr>\n",
       "      <th>6</th>\n",
       "      <td>12779</td>\n",
       "      <td>28C2DDDD415C</td>\n",
       "      <td>39</td>\n",
       "      <td>20.82</td>\n",
       "      <td>90</td>\n",
       "      <td>1</td>\n",
       "    </tr>\n",
       "    <tr>\n",
       "      <th>7</th>\n",
       "      <td>12780</td>\n",
       "      <td>28C2DDDD415C</td>\n",
       "      <td>48</td>\n",
       "      <td>21.23</td>\n",
       "      <td>87</td>\n",
       "      <td>3</td>\n",
       "    </tr>\n",
       "    <tr>\n",
       "      <th>8</th>\n",
       "      <td>12781</td>\n",
       "      <td>28C2DDDD415C</td>\n",
       "      <td>45</td>\n",
       "      <td>21.35</td>\n",
       "      <td>86</td>\n",
       "      <td>3</td>\n",
       "    </tr>\n",
       "    <tr>\n",
       "      <th>9</th>\n",
       "      <td>12782</td>\n",
       "      <td>28C2DDDD415C</td>\n",
       "      <td>48</td>\n",
       "      <td>21.62</td>\n",
       "      <td>85</td>\n",
       "      <td>3</td>\n",
       "    </tr>\n",
       "    <tr>\n",
       "      <th>10</th>\n",
       "      <td>12783</td>\n",
       "      <td>28C2DDDD415C</td>\n",
       "      <td>46</td>\n",
       "      <td>22.12</td>\n",
       "      <td>83</td>\n",
       "      <td>3</td>\n",
       "    </tr>\n",
       "    <tr>\n",
       "      <th>11</th>\n",
       "      <td>12784</td>\n",
       "      <td>28C2DDDD415C</td>\n",
       "      <td>45</td>\n",
       "      <td>22.19</td>\n",
       "      <td>82</td>\n",
       "      <td>3</td>\n",
       "    </tr>\n",
       "    <tr>\n",
       "      <th>12</th>\n",
       "      <td>12785</td>\n",
       "      <td>28C2DDDD415C</td>\n",
       "      <td>35</td>\n",
       "      <td>22.13</td>\n",
       "      <td>74</td>\n",
       "      <td>1</td>\n",
       "    </tr>\n",
       "    <tr>\n",
       "      <th>13</th>\n",
       "      <td>12786</td>\n",
       "      <td>28C2DDDD415C</td>\n",
       "      <td>38</td>\n",
       "      <td>22.27</td>\n",
       "      <td>73</td>\n",
       "      <td>1</td>\n",
       "    </tr>\n",
       "    <tr>\n",
       "      <th>14</th>\n",
       "      <td>12787</td>\n",
       "      <td>28C2DDDD415C</td>\n",
       "      <td>43</td>\n",
       "      <td>22.35</td>\n",
       "      <td>74</td>\n",
       "      <td>3</td>\n",
       "    </tr>\n",
       "    <tr>\n",
       "      <th>15</th>\n",
       "      <td>12788</td>\n",
       "      <td>28C2DDDD415C</td>\n",
       "      <td>37</td>\n",
       "      <td>21.84</td>\n",
       "      <td>64</td>\n",
       "      <td>1</td>\n",
       "    </tr>\n",
       "    <tr>\n",
       "      <th>16</th>\n",
       "      <td>12789</td>\n",
       "      <td>28C2DDDD415C</td>\n",
       "      <td>36</td>\n",
       "      <td>21.87</td>\n",
       "      <td>64</td>\n",
       "      <td>1</td>\n",
       "    </tr>\n",
       "    <tr>\n",
       "      <th>17</th>\n",
       "      <td>12790</td>\n",
       "      <td>28C2DDDD415C</td>\n",
       "      <td>35</td>\n",
       "      <td>21.83</td>\n",
       "      <td>66</td>\n",
       "      <td>1</td>\n",
       "    </tr>\n",
       "    <tr>\n",
       "      <th>18</th>\n",
       "      <td>12791</td>\n",
       "      <td>28C2DDDD415C</td>\n",
       "      <td>34</td>\n",
       "      <td>21.62</td>\n",
       "      <td>67</td>\n",
       "      <td>1</td>\n",
       "    </tr>\n",
       "    <tr>\n",
       "      <th>19</th>\n",
       "      <td>12792</td>\n",
       "      <td>28C2DDDD415C</td>\n",
       "      <td>36</td>\n",
       "      <td>21.50</td>\n",
       "      <td>66</td>\n",
       "      <td>1</td>\n",
       "    </tr>\n",
       "  </tbody>\n",
       "</table>\n",
       "</div>"
      ],
      "text/plain": [
       "    record_id     device_id  PM25  Temperature  Humidity  PM25_cluster\n",
       "0       12773  28C2DDDD415C    43        19.61        96             3\n",
       "1       12774  28C2DDDD415C    41        19.81        94             1\n",
       "2       12775  28C2DDDD415C    41        19.73        93             1\n",
       "3       12776  28C2DDDD415C    47        19.17        92             3\n",
       "4       12777  28C2DDDD415C    50        19.90        91             3\n",
       "5       12778  28C2DDDD415C    44        20.09        90             3\n",
       "6       12779  28C2DDDD415C    39        20.82        90             1\n",
       "7       12780  28C2DDDD415C    48        21.23        87             3\n",
       "8       12781  28C2DDDD415C    45        21.35        86             3\n",
       "9       12782  28C2DDDD415C    48        21.62        85             3\n",
       "10      12783  28C2DDDD415C    46        22.12        83             3\n",
       "11      12784  28C2DDDD415C    45        22.19        82             3\n",
       "12      12785  28C2DDDD415C    35        22.13        74             1\n",
       "13      12786  28C2DDDD415C    38        22.27        73             1\n",
       "14      12787  28C2DDDD415C    43        22.35        74             3\n",
       "15      12788  28C2DDDD415C    37        21.84        64             1\n",
       "16      12789  28C2DDDD415C    36        21.87        64             1\n",
       "17      12790  28C2DDDD415C    35        21.83        66             1\n",
       "18      12791  28C2DDDD415C    34        21.62        67             1\n",
       "19      12792  28C2DDDD415C    36        21.50        66             1"
      ]
     },
     "execution_count": 101,
     "metadata": {},
     "output_type": "execute_result"
    }
   ],
   "source": [
    "X = q1[['PM25']]\n",
    "#print(X)\n",
    "Y = q1['PM25'].values.reshape(-1, 1)\n",
    "#print(type(Y))\n",
    "#print(Y)\n",
    "#label : 0 - 4\n",
    "#print(\"type(X) = {x}\".format(x = type(X)))\n",
    "kmeans = KMeans(n_clusters=5, random_state=0).fit(X)\n",
    "#kmeans = KMeans(n_clusters=5, random_state=0).fit(Y)\n",
    "# Add a new column \"PM25_cluster\"\n",
    "#print(\"type(kmeans) = {x}\".format(x = type(kmeans)))\n",
    "q1['PM25_cluster'] = kmeans.labels_\n",
    "#q1[(q1['PM25_cluster'] == 0)] \n",
    "q1.head(20)\n"
   ]
  },
  {
   "cell_type": "code",
   "execution_count": 111,
   "metadata": {},
   "outputs": [
    {
     "data": {
      "text/html": [
       "<div>\n",
       "<style scoped>\n",
       "    .dataframe tbody tr th:only-of-type {\n",
       "        vertical-align: middle;\n",
       "    }\n",
       "\n",
       "    .dataframe tbody tr th {\n",
       "        vertical-align: top;\n",
       "    }\n",
       "\n",
       "    .dataframe thead th {\n",
       "        text-align: right;\n",
       "    }\n",
       "</style>\n",
       "<table border=\"1\" class=\"dataframe\">\n",
       "  <thead>\n",
       "    <tr style=\"text-align: right;\">\n",
       "      <th></th>\n",
       "      <th>record_id</th>\n",
       "      <th>device_id</th>\n",
       "      <th>PM25</th>\n",
       "      <th>Temperature</th>\n",
       "      <th>Humidity</th>\n",
       "      <th>PM25_cluster</th>\n",
       "    </tr>\n",
       "  </thead>\n",
       "  <tbody>\n",
       "    <tr>\n",
       "      <th>0</th>\n",
       "      <td>12773</td>\n",
       "      <td>28C2DDDD415C</td>\n",
       "      <td>43</td>\n",
       "      <td>19.61</td>\n",
       "      <td>96</td>\n",
       "      <td>3</td>\n",
       "    </tr>\n",
       "    <tr>\n",
       "      <th>1</th>\n",
       "      <td>12774</td>\n",
       "      <td>28C2DDDD415C</td>\n",
       "      <td>41</td>\n",
       "      <td>19.81</td>\n",
       "      <td>94</td>\n",
       "      <td>1</td>\n",
       "    </tr>\n",
       "    <tr>\n",
       "      <th>2</th>\n",
       "      <td>12775</td>\n",
       "      <td>28C2DDDD415C</td>\n",
       "      <td>41</td>\n",
       "      <td>19.73</td>\n",
       "      <td>93</td>\n",
       "      <td>1</td>\n",
       "    </tr>\n",
       "    <tr>\n",
       "      <th>3</th>\n",
       "      <td>12776</td>\n",
       "      <td>28C2DDDD415C</td>\n",
       "      <td>47</td>\n",
       "      <td>19.17</td>\n",
       "      <td>92</td>\n",
       "      <td>3</td>\n",
       "    </tr>\n",
       "    <tr>\n",
       "      <th>4</th>\n",
       "      <td>12777</td>\n",
       "      <td>28C2DDDD415C</td>\n",
       "      <td>50</td>\n",
       "      <td>19.90</td>\n",
       "      <td>91</td>\n",
       "      <td>3</td>\n",
       "    </tr>\n",
       "    <tr>\n",
       "      <th>5</th>\n",
       "      <td>12778</td>\n",
       "      <td>28C2DDDD415C</td>\n",
       "      <td>44</td>\n",
       "      <td>20.09</td>\n",
       "      <td>90</td>\n",
       "      <td>3</td>\n",
       "    </tr>\n",
       "    <tr>\n",
       "      <th>6</th>\n",
       "      <td>12779</td>\n",
       "      <td>28C2DDDD415C</td>\n",
       "      <td>39</td>\n",
       "      <td>20.82</td>\n",
       "      <td>90</td>\n",
       "      <td>1</td>\n",
       "    </tr>\n",
       "    <tr>\n",
       "      <th>7</th>\n",
       "      <td>12780</td>\n",
       "      <td>28C2DDDD415C</td>\n",
       "      <td>48</td>\n",
       "      <td>21.23</td>\n",
       "      <td>87</td>\n",
       "      <td>3</td>\n",
       "    </tr>\n",
       "    <tr>\n",
       "      <th>8</th>\n",
       "      <td>12781</td>\n",
       "      <td>28C2DDDD415C</td>\n",
       "      <td>45</td>\n",
       "      <td>21.35</td>\n",
       "      <td>86</td>\n",
       "      <td>3</td>\n",
       "    </tr>\n",
       "    <tr>\n",
       "      <th>9</th>\n",
       "      <td>12782</td>\n",
       "      <td>28C2DDDD415C</td>\n",
       "      <td>48</td>\n",
       "      <td>21.62</td>\n",
       "      <td>85</td>\n",
       "      <td>3</td>\n",
       "    </tr>\n",
       "    <tr>\n",
       "      <th>10</th>\n",
       "      <td>12783</td>\n",
       "      <td>28C2DDDD415C</td>\n",
       "      <td>46</td>\n",
       "      <td>22.12</td>\n",
       "      <td>83</td>\n",
       "      <td>3</td>\n",
       "    </tr>\n",
       "    <tr>\n",
       "      <th>11</th>\n",
       "      <td>12784</td>\n",
       "      <td>28C2DDDD415C</td>\n",
       "      <td>45</td>\n",
       "      <td>22.19</td>\n",
       "      <td>82</td>\n",
       "      <td>3</td>\n",
       "    </tr>\n",
       "    <tr>\n",
       "      <th>12</th>\n",
       "      <td>12785</td>\n",
       "      <td>28C2DDDD415C</td>\n",
       "      <td>35</td>\n",
       "      <td>22.13</td>\n",
       "      <td>74</td>\n",
       "      <td>1</td>\n",
       "    </tr>\n",
       "    <tr>\n",
       "      <th>13</th>\n",
       "      <td>12786</td>\n",
       "      <td>28C2DDDD415C</td>\n",
       "      <td>38</td>\n",
       "      <td>22.27</td>\n",
       "      <td>73</td>\n",
       "      <td>1</td>\n",
       "    </tr>\n",
       "    <tr>\n",
       "      <th>14</th>\n",
       "      <td>12787</td>\n",
       "      <td>28C2DDDD415C</td>\n",
       "      <td>43</td>\n",
       "      <td>22.35</td>\n",
       "      <td>74</td>\n",
       "      <td>3</td>\n",
       "    </tr>\n",
       "    <tr>\n",
       "      <th>15</th>\n",
       "      <td>12788</td>\n",
       "      <td>28C2DDDD415C</td>\n",
       "      <td>37</td>\n",
       "      <td>21.84</td>\n",
       "      <td>64</td>\n",
       "      <td>1</td>\n",
       "    </tr>\n",
       "    <tr>\n",
       "      <th>16</th>\n",
       "      <td>12789</td>\n",
       "      <td>28C2DDDD415C</td>\n",
       "      <td>36</td>\n",
       "      <td>21.87</td>\n",
       "      <td>64</td>\n",
       "      <td>1</td>\n",
       "    </tr>\n",
       "    <tr>\n",
       "      <th>17</th>\n",
       "      <td>12790</td>\n",
       "      <td>28C2DDDD415C</td>\n",
       "      <td>35</td>\n",
       "      <td>21.83</td>\n",
       "      <td>66</td>\n",
       "      <td>1</td>\n",
       "    </tr>\n",
       "    <tr>\n",
       "      <th>18</th>\n",
       "      <td>12791</td>\n",
       "      <td>28C2DDDD415C</td>\n",
       "      <td>34</td>\n",
       "      <td>21.62</td>\n",
       "      <td>67</td>\n",
       "      <td>1</td>\n",
       "    </tr>\n",
       "    <tr>\n",
       "      <th>19</th>\n",
       "      <td>12792</td>\n",
       "      <td>28C2DDDD415C</td>\n",
       "      <td>36</td>\n",
       "      <td>21.50</td>\n",
       "      <td>66</td>\n",
       "      <td>1</td>\n",
       "    </tr>\n",
       "  </tbody>\n",
       "</table>\n",
       "</div>"
      ],
      "text/plain": [
       "    record_id     device_id  PM25  Temperature  Humidity  PM25_cluster\n",
       "0       12773  28C2DDDD415C    43        19.61        96             3\n",
       "1       12774  28C2DDDD415C    41        19.81        94             1\n",
       "2       12775  28C2DDDD415C    41        19.73        93             1\n",
       "3       12776  28C2DDDD415C    47        19.17        92             3\n",
       "4       12777  28C2DDDD415C    50        19.90        91             3\n",
       "5       12778  28C2DDDD415C    44        20.09        90             3\n",
       "6       12779  28C2DDDD415C    39        20.82        90             1\n",
       "7       12780  28C2DDDD415C    48        21.23        87             3\n",
       "8       12781  28C2DDDD415C    45        21.35        86             3\n",
       "9       12782  28C2DDDD415C    48        21.62        85             3\n",
       "10      12783  28C2DDDD415C    46        22.12        83             3\n",
       "11      12784  28C2DDDD415C    45        22.19        82             3\n",
       "12      12785  28C2DDDD415C    35        22.13        74             1\n",
       "13      12786  28C2DDDD415C    38        22.27        73             1\n",
       "14      12787  28C2DDDD415C    43        22.35        74             3\n",
       "15      12788  28C2DDDD415C    37        21.84        64             1\n",
       "16      12789  28C2DDDD415C    36        21.87        64             1\n",
       "17      12790  28C2DDDD415C    35        21.83        66             1\n",
       "18      12791  28C2DDDD415C    34        21.62        67             1\n",
       "19      12792  28C2DDDD415C    36        21.50        66             1"
      ]
     },
     "execution_count": 111,
     "metadata": {},
     "output_type": "execute_result"
    }
   ],
   "source": [
    "X = q1[['PM25']]\n",
    "#print(X)\n",
    "Y = q1['PM25'].values.reshape(-1, 1)\n",
    "#print(type(Y))\n",
    "#print(Y)\n",
    "#label : 0 - 4\n",
    "#print(\"type(X) = {x}\".format(x = type(X)))\n",
    "#kmeans = KMeans(n_clusters=5, random_state=0).fit(X)\n",
    "kmeans = KMeans(n_clusters=5, random_state=0).fit(Y)\n",
    "# Add a new column \"PM25_cluster\"\n",
    "#print(\"type(kmeans) = {x}\".format(x = type(kmeans)))\n",
    "q1['PM25_cluster'] = kmeans.labels_\n",
    "#q1[(q1['PM25_cluster'] == 0)] \n",
    "q1.head(20)"
   ]
  },
  {
   "cell_type": "markdown",
   "metadata": {},
   "source": [
    "將 cluster 的 label 轉換成區間"
   ]
  },
  {
   "cell_type": "code",
   "execution_count": 112,
   "metadata": {},
   "outputs": [
    {
     "name": "stdout",
     "output_type": "stream",
     "text": [
      "a = \n",
      "PM25_cluster\n",
      "0     81\n",
      "1     42\n",
      "2     25\n",
      "3     58\n",
      "4    695\n",
      "Name: PM25, dtype: int64\n",
      "b = \n",
      "PM25_cluster\n",
      "0    59\n",
      "1    26\n",
      "2     1\n",
      "3    43\n",
      "4    82\n",
      "Name: PM25, dtype: int64\n"
     ]
    }
   ],
   "source": [
    "a = q1.groupby(\"PM25_cluster\")['PM25'].max()\n",
    "b = q1.groupby(\"PM25_cluster\")['PM25'].min()\n",
    "print(\"a = \")\n",
    "print(a)\n",
    "print(\"b = \")\n",
    "print(b)"
   ]
  },
  {
   "cell_type": "code",
   "execution_count": 113,
   "metadata": {},
   "outputs": [
    {
     "data": {
      "text/html": [
       "<div>\n",
       "<style scoped>\n",
       "    .dataframe tbody tr th:only-of-type {\n",
       "        vertical-align: middle;\n",
       "    }\n",
       "\n",
       "    .dataframe tbody tr th {\n",
       "        vertical-align: top;\n",
       "    }\n",
       "\n",
       "    .dataframe thead th {\n",
       "        text-align: right;\n",
       "    }\n",
       "</style>\n",
       "<table border=\"1\" class=\"dataframe\">\n",
       "  <thead>\n",
       "    <tr style=\"text-align: right;\">\n",
       "      <th></th>\n",
       "      <th>record_id</th>\n",
       "      <th>device_id</th>\n",
       "      <th>PM25</th>\n",
       "      <th>Temperature</th>\n",
       "      <th>Humidity</th>\n",
       "      <th>PM25_cluster</th>\n",
       "    </tr>\n",
       "  </thead>\n",
       "  <tbody>\n",
       "    <tr>\n",
       "      <th>0</th>\n",
       "      <td>12773</td>\n",
       "      <td>28C2DDDD415C</td>\n",
       "      <td>43</td>\n",
       "      <td>19.61</td>\n",
       "      <td>96</td>\n",
       "      <td>[43, 58]</td>\n",
       "    </tr>\n",
       "    <tr>\n",
       "      <th>1</th>\n",
       "      <td>12774</td>\n",
       "      <td>28C2DDDD415C</td>\n",
       "      <td>41</td>\n",
       "      <td>19.81</td>\n",
       "      <td>94</td>\n",
       "      <td>[26, 42]</td>\n",
       "    </tr>\n",
       "    <tr>\n",
       "      <th>2</th>\n",
       "      <td>12775</td>\n",
       "      <td>28C2DDDD415C</td>\n",
       "      <td>41</td>\n",
       "      <td>19.73</td>\n",
       "      <td>93</td>\n",
       "      <td>[26, 42]</td>\n",
       "    </tr>\n",
       "    <tr>\n",
       "      <th>3</th>\n",
       "      <td>12776</td>\n",
       "      <td>28C2DDDD415C</td>\n",
       "      <td>47</td>\n",
       "      <td>19.17</td>\n",
       "      <td>92</td>\n",
       "      <td>[43, 58]</td>\n",
       "    </tr>\n",
       "    <tr>\n",
       "      <th>4</th>\n",
       "      <td>12777</td>\n",
       "      <td>28C2DDDD415C</td>\n",
       "      <td>50</td>\n",
       "      <td>19.90</td>\n",
       "      <td>91</td>\n",
       "      <td>[43, 58]</td>\n",
       "    </tr>\n",
       "  </tbody>\n",
       "</table>\n",
       "</div>"
      ],
      "text/plain": [
       "   record_id     device_id  PM25  Temperature  Humidity PM25_cluster\n",
       "0      12773  28C2DDDD415C    43        19.61        96     [43, 58]\n",
       "1      12774  28C2DDDD415C    41        19.81        94     [26, 42]\n",
       "2      12775  28C2DDDD415C    41        19.73        93     [26, 42]\n",
       "3      12776  28C2DDDD415C    47        19.17        92     [43, 58]\n",
       "4      12777  28C2DDDD415C    50        19.90        91     [43, 58]"
      ]
     },
     "execution_count": 113,
     "metadata": {},
     "output_type": "execute_result"
    }
   ],
   "source": [
    "max_list = list(q1.groupby(\"PM25_cluster\")['PM25'].max())\n",
    "min_list = list(q1.groupby(\"PM25_cluster\")['PM25'].min())\n",
    "# min_list, max_list = zip(*sorted(zip(min_list, max_list)))\n",
    "\n",
    "q1[['PM25_cluster']] = [\"[%d, %d]\" % (min_list[i], max_list[i]) for i in q1['PM25_cluster']]\n",
    "q1.head()"
   ]
  },
  {
   "cell_type": "code",
   "execution_count": 114,
   "metadata": {},
   "outputs": [
    {
     "data": {
      "text/html": [
       "<div>\n",
       "<style scoped>\n",
       "    .dataframe tbody tr th:only-of-type {\n",
       "        vertical-align: middle;\n",
       "    }\n",
       "\n",
       "    .dataframe tbody tr th {\n",
       "        vertical-align: top;\n",
       "    }\n",
       "\n",
       "    .dataframe thead th {\n",
       "        text-align: right;\n",
       "    }\n",
       "</style>\n",
       "<table border=\"1\" class=\"dataframe\">\n",
       "  <thead>\n",
       "    <tr style=\"text-align: right;\">\n",
       "      <th></th>\n",
       "      <th>record_id</th>\n",
       "      <th>device_id</th>\n",
       "      <th>PM25</th>\n",
       "      <th>Temperature</th>\n",
       "      <th>Humidity</th>\n",
       "    </tr>\n",
       "    <tr>\n",
       "      <th>PM25_cluster</th>\n",
       "      <th></th>\n",
       "      <th></th>\n",
       "      <th></th>\n",
       "      <th></th>\n",
       "      <th></th>\n",
       "    </tr>\n",
       "  </thead>\n",
       "  <tbody>\n",
       "    <tr>\n",
       "      <th>[1, 25]</th>\n",
       "      <td>210602</td>\n",
       "      <td>210602</td>\n",
       "      <td>210602</td>\n",
       "      <td>210602</td>\n",
       "      <td>210602</td>\n",
       "    </tr>\n",
       "    <tr>\n",
       "      <th>[26, 42]</th>\n",
       "      <td>389699</td>\n",
       "      <td>389699</td>\n",
       "      <td>389699</td>\n",
       "      <td>389699</td>\n",
       "      <td>389699</td>\n",
       "    </tr>\n",
       "    <tr>\n",
       "      <th>[43, 58]</th>\n",
       "      <td>415725</td>\n",
       "      <td>415725</td>\n",
       "      <td>415725</td>\n",
       "      <td>415725</td>\n",
       "      <td>415725</td>\n",
       "    </tr>\n",
       "    <tr>\n",
       "      <th>[59, 81]</th>\n",
       "      <td>184944</td>\n",
       "      <td>184944</td>\n",
       "      <td>184944</td>\n",
       "      <td>184944</td>\n",
       "      <td>184944</td>\n",
       "    </tr>\n",
       "    <tr>\n",
       "      <th>[82, 695]</th>\n",
       "      <td>49473</td>\n",
       "      <td>49473</td>\n",
       "      <td>49473</td>\n",
       "      <td>49473</td>\n",
       "      <td>49473</td>\n",
       "    </tr>\n",
       "  </tbody>\n",
       "</table>\n",
       "</div>"
      ],
      "text/plain": [
       "              record_id  device_id    PM25  Temperature  Humidity\n",
       "PM25_cluster                                                     \n",
       "[1, 25]          210602     210602  210602       210602    210602\n",
       "[26, 42]         389699     389699  389699       389699    389699\n",
       "[43, 58]         415725     415725  415725       415725    415725\n",
       "[59, 81]         184944     184944  184944       184944    184944\n",
       "[82, 695]         49473      49473   49473        49473     49473"
      ]
     },
     "execution_count": 114,
     "metadata": {},
     "output_type": "execute_result"
    }
   ],
   "source": [
    "q1.groupby('PM25_cluster').count()"
   ]
  },
  {
   "cell_type": "markdown",
   "metadata": {},
   "source": [
    "\n",
    "### Step3: find rules by FP-growth algorithm\n",
    "\n",
    "用 orange3-associate 提供的 FP-growth algorithm 找 discretization 後的資料中的 rules\n",
    "\n",
    "- 挑出support > 100/總數的patterns\n",
    "- 挑出confidence>0.5的rules"
   ]
  },
  {
   "cell_type": "code",
   "execution_count": 115,
   "metadata": {},
   "outputs": [
    {
     "name": "stdout",
     "output_type": "stream",
     "text": [
      "[('PM25 [43, 58]', 'Temp (6.479, 20.28]', 'Humd (90.0, 100.0]'), ('PM25 [26, 42]', 'Temp (6.479, 20.28]', 'Humd (90.0, 100.0]')]\n"
     ]
    }
   ],
   "source": [
    "# 合併切過的資料\n",
    "data_cut = []\n",
    "pm25_items = ['PM25 ' + x for x in q1['PM25_cluster']]\n",
    "temp_items = ['Temp ' + x for x in result[1]]\n",
    "humd_items = ['Humd ' + x for x in result[2]]\n",
    "\n",
    "data_cut.append(pm25_items)\n",
    "data_cut.append(temp_items)\n",
    "data_cut.append(humd_items)\n",
    "\n",
    "# List 轉置\n",
    "#每個item都是[PM25, TEMP, Humd]\n",
    "transactions = list(zip(*data_cut))\n",
    "print(transactions[0:2:1])"
   ]
  },
  {
   "cell_type": "markdown",
   "metadata": {},
   "source": [
    "#### Fp-growth\n",
    "Orange3 的 fpgrowth 只能處理整數，所以需要寫一個 encoder 和 decoder 來互相轉換"
   ]
  },
  {
   "cell_type": "code",
   "execution_count": 116,
   "metadata": {},
   "outputs": [
    {
     "name": "stdout",
     "output_type": "stream",
     "text": [
      "{1, 2, 3, 4}\n"
     ]
    }
   ],
   "source": [
    "test_1 = [(1, 2, 4), (2, 3, 4)]\n",
    "test_1_untion = set().union(*test_1)\n",
    "print(test_1_untion)"
   ]
  },
  {
   "cell_type": "code",
   "execution_count": 117,
   "metadata": {},
   "outputs": [
    {
     "name": "stdout",
     "output_type": "stream",
     "text": [
      "Fpgrowth took 5.078118324279785 seconds.\n",
      "11 Results\n"
     ]
    }
   ],
   "source": [
    "from orangecontrib.associate import fpgrowth as fpg\n",
    "\n",
    "start = time.time()\n",
    "#將每一個item合在一起\n",
    "itemset = set().union(*transactions)\n",
    "#print(itemset)\n",
    "decoder = {i: k for i, k in enumerate(itemset)}\n",
    "encoder = {k: i for i, k in enumerate(itemset)}\n",
    "\n",
    "#100 is the min-support\n",
    "itemsets =  dict(fpg.frequent_itemsets([[encoder[i] for i in t] for t in transactions], 100/len(transactions)))\n",
    "#list those rules that confidence > 0.5\n",
    "rules = list(fpg.association_rules(itemsets, .5))\n",
    "\n",
    "print(\"Fpgrowth took\", time.time() - start, \"seconds.\")\n",
    "print(len(rules), \"Results\")"
   ]
  },
  {
   "cell_type": "code",
   "execution_count": 118,
   "metadata": {},
   "outputs": [
    {
     "name": "stdout",
     "output_type": "stream",
     "text": [
      "['PM25 [82, 695]', 'Temp (6.479, 20.28]']  ->  ['Humd (90.0, 100.0]'] 0.518560606060606\n",
      "['Humd (40.0, 50.0]', 'Temp (28.26, 29.57]']  ->  ['PM25 [26, 42]'] 0.5246191994332271\n",
      "['Humd (40.0, 50.0]', 'Temp (6.479, 20.28]']  ->  ['PM25 [1, 25]'] 0.8547008547008547\n",
      "['Humd (40.0, 50.0]', 'Temp (29.57, 52.62]']  ->  ['PM25 [26, 42]'] 0.6000280780569984\n",
      "['Humd (30.0, 40.0]', 'PM25 [43, 58]']  ->  ['Temp (29.57, 52.62]'] 0.8321167883211679\n",
      "['Humd (30.0, 40.0]', 'PM25 [26, 42]']  ->  ['Temp (29.57, 52.62]'] 0.8376068376068376\n",
      "['Humd (30.0, 40.0]', 'Temp (29.57, 52.62]']  ->  ['PM25 [26, 42]'] 0.6380208333333334\n",
      "['Humd (30.0, 40.0]', 'PM25 [1, 25]']  ->  ['Temp (29.57, 52.62]'] 0.5310344827586206\n",
      "['Humd (40.0, 50.0]']  ->  ['PM25 [26, 42]'] 0.5156440256233786\n",
      "['Humd (30.0, 40.0]']  ->  ['PM25 [26, 42]'] 0.5707317073170731\n",
      "['Humd (30.0, 40.0]']  ->  ['Temp (29.57, 52.62]'] 0.7492682926829268\n"
     ]
    }
   ],
   "source": [
    "for rule in rules:\n",
    "    a = [decoder[i] for i in rule[0]]\n",
    "    b = [decoder[i] for i in rule[1]]\n",
    "    s, c = rule[2], rule[3]\n",
    "    print(a, ' -> ', b, c)\n",
    "    \n",
    "#a -> b is the association rule\n",
    "#c is the confidence"
   ]
  },
  {
   "cell_type": "code",
   "execution_count": 119,
   "metadata": {},
   "outputs": [
    {
     "data": {
      "text/plain": [
       "{0: 'Temp (25.5, 26.37]',\n",
       " 1: 'Humd (-0.1, 10.0]',\n",
       " 2: 'Humd (70.0, 80.0]',\n",
       " 3: 'Humd (50.0, 60.0]',\n",
       " 4: 'PM25 [43, 58]',\n",
       " 5: 'PM25 [26, 42]',\n",
       " 6: 'Temp (27.26, 28.26]',\n",
       " 7: 'Humd (10.0, 20.0]',\n",
       " 8: 'Temp (20.28, 22.11]',\n",
       " 9: 'Humd (80.0, 90.0]',\n",
       " 10: 'Temp (24.52, 25.5]',\n",
       " 11: 'PM25 [1, 25]',\n",
       " 12: 'Humd (40.0, 50.0]',\n",
       " 13: 'Temp (28.26, 29.57]',\n",
       " 14: 'Temp (6.479, 20.28]',\n",
       " 15: 'Humd (60.0, 70.0]',\n",
       " 16: 'PM25 [82, 695]',\n",
       " 17: 'Temp (26.37, 27.26]',\n",
       " 18: 'Humd (90.0, 100.0]',\n",
       " 19: 'Temp (23.4, 24.52]',\n",
       " 20: 'Temp (29.57, 52.62]',\n",
       " 21: 'Humd (20.0, 30.0]',\n",
       " 22: 'Temp (22.11, 23.4]',\n",
       " 23: 'PM25 [59, 81]',\n",
       " 24: 'Humd (30.0, 40.0]'}"
      ]
     },
     "execution_count": 119,
     "metadata": {},
     "output_type": "execute_result"
    }
   ],
   "source": [
    "decoder"
   ]
  },
  {
   "cell_type": "code",
   "execution_count": 120,
   "metadata": {},
   "outputs": [
    {
     "data": {
      "text/plain": [
       "{'Humd (-0.1, 10.0]': 1,\n",
       " 'Humd (10.0, 20.0]': 7,\n",
       " 'Humd (20.0, 30.0]': 21,\n",
       " 'Humd (30.0, 40.0]': 24,\n",
       " 'Humd (40.0, 50.0]': 12,\n",
       " 'Humd (50.0, 60.0]': 3,\n",
       " 'Humd (60.0, 70.0]': 15,\n",
       " 'Humd (70.0, 80.0]': 2,\n",
       " 'Humd (80.0, 90.0]': 9,\n",
       " 'Humd (90.0, 100.0]': 18,\n",
       " 'PM25 [1, 25]': 11,\n",
       " 'PM25 [26, 42]': 5,\n",
       " 'PM25 [43, 58]': 4,\n",
       " 'PM25 [59, 81]': 23,\n",
       " 'PM25 [82, 695]': 16,\n",
       " 'Temp (20.28, 22.11]': 8,\n",
       " 'Temp (22.11, 23.4]': 22,\n",
       " 'Temp (23.4, 24.52]': 19,\n",
       " 'Temp (24.52, 25.5]': 10,\n",
       " 'Temp (25.5, 26.37]': 0,\n",
       " 'Temp (26.37, 27.26]': 17,\n",
       " 'Temp (27.26, 28.26]': 6,\n",
       " 'Temp (28.26, 29.57]': 13,\n",
       " 'Temp (29.57, 52.62]': 20,\n",
       " 'Temp (6.479, 20.28]': 14}"
      ]
     },
     "execution_count": 120,
     "metadata": {},
     "output_type": "execute_result"
    }
   ],
   "source": [
    "encoder"
   ]
  },
  {
   "cell_type": "markdown",
   "metadata": {},
   "source": [
    "### Step 4: Explantion\n",
    "\n",
    "- 溼度低 (30 ~ 40) 且 PM2.5 為中、高濃度時，溫度常會偏高 (> 30)\n",
    "- 溼度偏低 (40 ~ 50) 且 溫度低 (6 ~ 20) 時，PM2.5 常為中濃度\n",
    "- 溼度低 (30 ~ 40) 時，溫度常會偏高 (> 30)"
   ]
  },
  {
   "cell_type": "markdown",
   "metadata": {},
   "source": [
    "##  Task 2 - (Temperature, Humidity, PM2.5, PM2.5_future)\n",
    "\n",
    "### Step 1: Transaction Definition\n",
    "觀察當下的 Temperature & Humidity 與兩個小時後的 PM2.5 關聯"
   ]
  },
  {
   "cell_type": "code",
   "execution_count": null,
   "metadata": {},
   "outputs": [],
   "source": [
    "q2 = data.drop(['DateTime', 'PM25', 'PM10', 'PM1', 'lat', 'lon'], axis=1)\n",
    "q2['PM25_cluster'] = q1['PM25_cluster']\n",
    "q2.tail()"
   ]
  },
  {
   "cell_type": "code",
   "execution_count": null,
   "metadata": {},
   "outputs": [],
   "source": [
    "#每30分鐘一筆, 對時間是連續得, 所以往左移動一格當作是猜測的未來資料\n",
    "#最後一筆資料可丟掉\n",
    "q2['PM25_cluster_fut'] = q2['PM25_cluster'].shift(-1)\n",
    "q2.tail()"
   ]
  },
  {
   "cell_type": "code",
   "execution_count": null,
   "metadata": {},
   "outputs": [],
   "source": [
    "#找每個sensor最後一筆record_id\n",
    "q2.groupby(\"device_id\").tail(1)['record_id'].head(10)"
   ]
  },
  {
   "cell_type": "code",
   "execution_count": null,
   "metadata": {},
   "outputs": [],
   "source": [
    "#~ : 如果最後一筆record_id在上面的list裡就不選\n",
    "q2 = q2[~q2['record_id'].isin(q2.groupby(\"device_id\").tail(1)['record_id'])]"
   ]
  },
  {
   "cell_type": "code",
   "execution_count": null,
   "metadata": {},
   "outputs": [],
   "source": [
    "q2.tail()"
   ]
  },
  {
   "cell_type": "markdown",
   "metadata": {},
   "source": [
    "### Step 2: Observation & Discretization\n",
    "與前一個 Task 一樣"
   ]
  },
  {
   "cell_type": "markdown",
   "metadata": {},
   "source": [
    "### Step3: find rules by FP-growth algorithm\n",
    "\n",
    "用 orange3-associate 提供的 FP-growth algorithm 找 discretization 後的資料中的 rules\n",
    "\n",
    "- 挑出support > 1000/總數的patterns\n",
    "- 挑出confidence > 0.7 的 rules"
   ]
  },
  {
   "cell_type": "code",
   "execution_count": null,
   "metadata": {},
   "outputs": [],
   "source": [
    "result = []\n",
    "result.append(pd.qcut(q2['Temperature'], 10))\n",
    "result.append(pd.cut(q2['Humidity'], 10))\n",
    "\n",
    "# 合併切過的資料\n",
    "data_cut = []\n",
    "pm25_fut_items = ['PM25_FUT ' + x for x in q2['PM25_cluster_fut']]\n",
    "pm25_items = ['PM25 ' + x for x in q2['PM25_cluster']]\n",
    "temp_items = ['Temp ' + str(x) for x in result[0]]\n",
    "humd_items = ['Humd ' + str(x) for x in result[1]]\n",
    "#     print('PM25 %d' % i, end='\\r')\n",
    "data_cut.append(pm25_fut_items)\n",
    "data_cut.append(pm25_items)\n",
    "data_cut.append(temp_items)\n",
    "data_cut.append(humd_items)\n",
    "transactions = list(zip(*data_cut))"
   ]
  },
  {
   "cell_type": "markdown",
   "metadata": {},
   "source": [
    "#### Fp-growth"
   ]
  },
  {
   "cell_type": "code",
   "execution_count": null,
   "metadata": {},
   "outputs": [],
   "source": [
    "from orangecontrib.associate import fpgrowth as fpg\n",
    "\n",
    "start = time.time()\n",
    "itemset = set().union(*transactions)\n",
    "decoder = {i: k for i, k in enumerate(itemset)}\n",
    "encoder = {k: i for i, k in enumerate(itemset)}\n",
    "\n",
    "\n",
    "itemsets =  dict(fpg.frequent_itemsets([[encoder[i] for i in t] for t in transactions], 10000/len(transactions)))\n",
    "rules = list(fpg.association_rules(itemsets, .7))"
   ]
  },
  {
   "cell_type": "code",
   "execution_count": null,
   "metadata": {},
   "outputs": [],
   "source": [
    "print(\"Fpgrowth took\", time.time() - start, \"seconds.\")\n",
    "print(len(rules), \"Results\")\n",
    "for rule in rules:\n",
    "    a = [decoder[i] for i in rule[0]]\n",
    "    b = [decoder[i] for i in rule[1]]\n",
    "    s, c = rule[2], rule[3]\n",
    "    print(a, ' -> ', b, c)\n"
   ]
  },
  {
   "cell_type": "markdown",
   "metadata": {},
   "source": [
    "### Step 4: Explantion\n",
    "- 未來 30 分鐘的 PM2.5 跟當前的 PM2.5 通常會落在同一個區間\n",
    "- 看起來沒有其他特殊的發現"
   ]
  },
  {
   "cell_type": "markdown",
   "metadata": {},
   "source": [
    "##  Task 3 - (PM2.5, PM10, PM1, loc)\n",
    "\n",
    "### Step 1: Transaction Definition\n",
    "找出 PM2.5, PM10, PM1 及座標之間的關係"
   ]
  },
  {
   "cell_type": "code",
   "execution_count": null,
   "metadata": {},
   "outputs": [],
   "source": [
    "q3 = data.drop(['DateTime', 'Temperature', 'Humidity', 'PM25'], axis=1)\n",
    "q3['PM25_cluster'] = q1['PM25_cluster']"
   ]
  },
  {
   "cell_type": "markdown",
   "metadata": {},
   "source": [
    "### Step 2: Observation & Discretization\n",
    "觀察各 features 的分佈"
   ]
  },
  {
   "cell_type": "code",
   "execution_count": null,
   "metadata": {},
   "outputs": [],
   "source": [
    "fig, ax = plt.subplots(nrows=4)\n",
    "features = ['PM10', 'PM1', 'lat', 'lon']\n",
    "for i, f in enumerate(features):\n",
    "    ax[i].hist(q3[f], bins=100)\n",
    "    ax[i].set_title(f)\n",
    "    ax[i].set_ylabel('count')\n",
    "\n",
    "\n",
    "fig.tight_layout()\n",
    "plt.show()\n",
    "\n"
   ]
  },
  {
   "cell_type": "markdown",
   "metadata": {},
   "source": [
    "#### PM10, PM1 選用 equal-frequency 離散化"
   ]
  },
  {
   "cell_type": "code",
   "execution_count": null,
   "metadata": {},
   "outputs": [],
   "source": [
    "result = []\n",
    "result.append(pd.qcut(q3['PM10'], 4))\n",
    "result.append(pd.qcut(q3['PM1'], 4))\n",
    "\n",
    "fig, ax = plt.subplots(2,1)\n",
    "for i in range(len(result)):\n",
    "    result[i] = list(map(lambda x: str(x), result[i]))\n",
    "    ax[i].hist(result[i])\n",
    "    ax[i].set_title(q3.columns[i + 2])\n",
    "    for tick in ax[i].get_xticklabels():\n",
    "        tick.set_y(1)\n",
    "        tick.set_rotation(90)\n",
    "fig.tight_layout()\n",
    "plt.show()\n",
    "result = pd.DataFrame(list(zip(*result)))"
   ]
  },
  {
   "cell_type": "markdown",
   "metadata": {},
   "source": [
    "#### 經緯度屬於座標資訊，選用 KMeans Clustering 離散化"
   ]
  },
  {
   "cell_type": "code",
   "execution_count": null,
   "metadata": {},
   "outputs": [],
   "source": [
    "X = q3[['lat', 'lon']]\n",
    "kmeans = KMeans(n_clusters=4, random_state=0).fit(X)\n",
    "q3['loc_cluster'] = kmeans.labels_"
   ]
  },
  {
   "cell_type": "code",
   "execution_count": null,
   "metadata": {},
   "outputs": [],
   "source": [
    "q3.head()"
   ]
  },
  {
   "cell_type": "markdown",
   "metadata": {},
   "source": [
    "#### 各 cluster 數量統計"
   ]
  },
  {
   "cell_type": "code",
   "execution_count": null,
   "metadata": {},
   "outputs": [],
   "source": [
    "q3.groupby('loc_cluster')['record_id'].count()"
   ]
  },
  {
   "cell_type": "markdown",
   "metadata": {},
   "source": [
    "#### 選用每個感測器的第1筆資料的座標資訊繪圖"
   ]
  },
  {
   "cell_type": "code",
   "execution_count": null,
   "metadata": {},
   "outputs": [],
   "source": [
    "device_loc_df = q3.groupby('device_id')[['lat', 'lon', 'loc_cluster']].first()\n",
    "device_loc_df.head()"
   ]
  },
  {
   "cell_type": "code",
   "execution_count": null,
   "metadata": {},
   "outputs": [],
   "source": [
    "color = ['r', 'g', 'b', 'k']\n",
    "loc_color = [color[i] for i in list(device_loc_df['loc_cluster'])]\n",
    "device_loc_df.plot(\"lon\", \"lat\",kind=\"scatter\", color=loc_color)"
   ]
  },
  {
   "cell_type": "markdown",
   "metadata": {},
   "source": [
    "因為東部地形狹長，且感測器數量過少，無法正確分成北中南東四群，但北中南感測器有被分出來，結果大致上可以接受。"
   ]
  },
  {
   "cell_type": "markdown",
   "metadata": {},
   "source": [
    "### Step3: find rules by FP-growth algorithm\n",
    "\n",
    "用 orange3-associate 提供的 FP-growth algorithm 找 discretization 後的資料中的 rules\n",
    "\n",
    "- 挑出support > 100000/總數的patterns\n",
    "- 挑出confidence>0.7的rules"
   ]
  },
  {
   "cell_type": "code",
   "execution_count": null,
   "metadata": {},
   "outputs": [],
   "source": [
    "# 合併切過的資料\n",
    "data_cut = []\n",
    "pm25_items = ['PM25 ' + x for x in q3['PM25_cluster']]\n",
    "loc_items = ['LOC ' + str(x) for x in q3['loc_cluster']]\n",
    "pm10_items = ['PM10 ' + x for x in result[0]]\n",
    "pm1_items = ['PM1 ' + x for x in result[1]]\n",
    "#     print('PM25 %d' % i, end='\\r')\n",
    "data_cut.append(pm25_items)\n",
    "data_cut.append(pm10_items)\n",
    "data_cut.append(pm1_items)\n",
    "data_cut.append(loc_items)\n",
    "transactions = list(zip(*data_cut))"
   ]
  },
  {
   "cell_type": "markdown",
   "metadata": {},
   "source": [
    "#### Fp-growth"
   ]
  },
  {
   "cell_type": "code",
   "execution_count": null,
   "metadata": {},
   "outputs": [],
   "source": [
    "from orangecontrib.associate import fpgrowth as fpg\n",
    "\n",
    "start = time.time()\n",
    "\n",
    "itemset = set().union(*transactions)\n",
    "decoder = {i: k for i, k in enumerate(itemset)}\n",
    "encoder = {k: i for i, k in enumerate(itemset)}\n",
    "\n",
    "\n",
    "freqsets =  dict(fpg.frequent_itemsets([[encoder[i] for i in t] for t in transactions], 100000/len(transactions)))\n",
    "rules = list(fpg.association_rules(freqsets, .7))\n",
    "\n",
    "print(\"Fpgrowth took\", time.time() - start, \"seconds.\")\n",
    "print(len(rules), \"Results\")\n",
    "for rule in rules:\n",
    "    a = [decoder[i] for i in rule[0]]\n",
    "    b = [decoder[i] for i in rule[1]]\n",
    "    s, c = rule[2], rule[3]\n",
    "    print(a, ' -> ', b, c)"
   ]
  },
  {
   "cell_type": "markdown",
   "metadata": {},
   "source": [
    "### Step 4: Explantion \n",
    "- LOC 2 (北部) 的 PM10, PM1 都偏低\n",
    "- LOC 0 (南部) 在 PM10 (PM1) 很高的時候，PM1 (PM10) 也會很高\n",
    "- PM1 與 PM10 有正相關性"
   ]
  },
  {
   "cell_type": "markdown",
   "metadata": {},
   "source": [
    "# Data 2 - Weather\n",
    "- 從 2016-07-03 到 2017-07-03 的天氣資料\n",
    "- 29 個地點\n",
    "- 每小時一筆資料"
   ]
  },
  {
   "cell_type": "code",
   "execution_count": null,
   "metadata": {},
   "outputs": [],
   "source": [
    "weather = pd.read_csv(\"weather.csv\")\n",
    "weather.head()"
   ]
  },
  {
   "cell_type": "markdown",
   "metadata": {},
   "source": [
    "# Data 3 - Power\n",
    "- 從 2016-09-27 到 2017-09-01 的電力資料\n",
    "- 北中南東各有兩個 columns ， 分別代表供給量及使用量 (Supply & Usage)\n",
    "- 約每小時一筆資料"
   ]
  },
  {
   "cell_type": "code",
   "execution_count": null,
   "metadata": {},
   "outputs": [],
   "source": [
    "power = pd.read_csv(\"power.csv\")\n",
    "power.head()"
   ]
  },
  {
   "cell_type": "code",
   "execution_count": null,
   "metadata": {},
   "outputs": [],
   "source": []
  },
  {
   "cell_type": "code",
   "execution_count": null,
   "metadata": {},
   "outputs": [],
   "source": []
  },
  {
   "cell_type": "code",
   "execution_count": null,
   "metadata": {},
   "outputs": [],
   "source": []
  }
 ],
 "metadata": {
  "kernelspec": {
   "display_name": "Python 3",
   "language": "python",
   "name": "python3"
  },
  "language_info": {
   "codemirror_mode": {
    "name": "ipython",
    "version": 3
   },
   "file_extension": ".py",
   "mimetype": "text/x-python",
   "name": "python",
   "nbconvert_exporter": "python",
   "pygments_lexer": "ipython3",
   "version": "3.6.4"
  }
 },
 "nbformat": 4,
 "nbformat_minor": 2
}
